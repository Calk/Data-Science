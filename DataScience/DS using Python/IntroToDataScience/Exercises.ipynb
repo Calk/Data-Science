{
 "cells": [
  {
   "cell_type": "code",
   "execution_count": 1,
   "metadata": {
    "collapsed": false
   },
   "outputs": [
    {
     "data": {
      "text/plain": [
       "array([10, 12, 14, 16, 18, 20, 22, 24, 26, 28])"
      ]
     },
     "execution_count": 1,
     "metadata": {},
     "output_type": "execute_result"
    }
   ],
   "source": [
    "# Exercise 0 [Use Intro to Numpy: A]\n",
    "\n",
    "##### import the numpy library and give it the alias \"np\"\n",
    "\n",
    "import numpy as np\n",
    "\n",
    "##### make an array that contains numbers 1-10\n",
    "array1 = np.arange(1, 11, 1)\n",
    "array1\n",
    "\n",
    "##### make an array that contains only ones and is 4x2\n",
    "array2 = np.ones((4,2), dtype=np.int)\n",
    "array2\n",
    "\n",
    "##### make an array from a sequence\n",
    "sequence_array1 = np.arange(10, 30, 2)\n",
    "sequence_array1"
   ]
  },
  {
   "cell_type": "code",
   "execution_count": 2,
   "metadata": {
    "collapsed": false
   },
   "outputs": [
    {
     "data": {
      "text/plain": [
       "'\\nNow onto the real stuff.\\n\\nThe explosion of data (big & small) has provided opportunities for virtually every industry...\\n\\nIn our exercise we are going to go through a simplified version of data exploration similar to those done at leading hedge funds.\\n\\nHedge funds are looking for data sources that will give them a clue as to what is going to happen next in financial markets...\\n\\nOne main issue macrofunds come up against, is how to predict what is even going on behind the closed doors of the world\\'s \\n2nd largest economy: China.\\n\\nIt is a controlled, regulated, and secretive economy. If you can get an insight, you have immense economic knowledge\\nthat others do not.\\n\\nFew people know that there are actually limitations on how much cash Chinese citizens can transfer out of China. Wealthy\\ncitizens are often high up in the Communist Party. Thus, many would know an economic policy change is on the way before it \\nhappens and would try to get their money out.\\n\\nWhat can they do? Well they can buy luxury items, real estate, etc. But the fastest & easiest route is actually something really\\nawesome: Bitcoin.\\n\\nChina is the worlds largest Bitcoin trading market. Maybe we will find something in there?\\n\\nI went to Quandl (data provider for a ton of economics data) and grabbed some rough data we can experiment with.\\n\\nData Sources:\\nBTER-BTCCNY.csv: historical daily exchange rate data for 1 BTC into CNY from www.bter.com\\n    Columns: [date, high, low, last, average, sell, buy, volume btc, volume cny]\\n\\nBOE-XUDLBK73.csv: historical daily exchange rate data for 1 USD into CNY from the Bank of England\\n\\nCurrency trading is 24/7 and big events like the announcement in a revaluation in a currency happens in\\nliterally a day and anyone \"in the know\" will move fast. So daily makes sense. In fact one happened out of the blue in 2015!\\n'"
      ]
     },
     "execution_count": 2,
     "metadata": {},
     "output_type": "execute_result"
    }
   ],
   "source": [
    "\"\"\"\n",
    "Now onto the real stuff.\n",
    "\n",
    "The explosion of data (big & small) has provided opportunities for virtually every industry...\n",
    "\n",
    "In our exercise we are going to go through a simplified version of data exploration similar to those done at leading hedge funds.\n",
    "\n",
    "Hedge funds are looking for data sources that will give them a clue as to what is going to happen next in financial markets...\n",
    "\n",
    "One main issue macrofunds come up against, is how to predict what is even going on behind the closed doors of the world's \n",
    "2nd largest economy: China.\n",
    "\n",
    "It is a controlled, regulated, and secretive economy. If you can get an insight, you have immense economic knowledge\n",
    "that others do not.\n",
    "\n",
    "Few people know that there are actually limitations on how much cash Chinese citizens can transfer out of China. Wealthy\n",
    "citizens are often high up in the Communist Party. Thus, many would know an economic policy change is on the way before it \n",
    "happens and would try to get their money out.\n",
    "\n",
    "What can they do? Well they can buy luxury items, real estate, etc. But the fastest & easiest route is actually something really\n",
    "awesome: Bitcoin.\n",
    "\n",
    "China is the worlds largest Bitcoin trading market. Maybe we will find something in there?\n",
    "\n",
    "I went to Quandl (data provider for a ton of economics data) and grabbed some rough data we can experiment with.\n",
    "\n",
    "Data Sources:\n",
    "BTER-BTCCNY.csv: historical daily exchange rate data for 1 BTC into CNY from www.bter.com\n",
    "    Columns: [date, high, low, last, average, sell, buy, volume btc, volume cny]\n",
    "\n",
    "BOE-XUDLBK73.csv: historical daily exchange rate data for 1 USD into CNY from the Bank of England\n",
    "\n",
    "Currency trading is 24/7 and big events like the announcement in a revaluation in a currency happens in\n",
    "literally a day and anyone \"in the know\" will move fast. So daily makes sense. In fact one happened out of the blue in 2015!\n",
    "\"\"\""
   ]
  },
  {
   "cell_type": "code",
   "execution_count": 3,
   "metadata": {
    "collapsed": false
   },
   "outputs": [
    {
     "data": {
      "text/plain": [
       "array([[             nan,              nan,              nan, ...,\n",
       "                     nan,              nan,              nan],\n",
       "       [             nan,   4.94289000e+03,   4.88800000e+03, ...,\n",
       "          4.92600000e+03,   3.22010000e+02,   1.58469606e+06],\n",
       "       [             nan,   4.95127000e+03,   4.86500000e+03, ...,\n",
       "          4.91166000e+03,   5.14907000e+02,   2.52760382e+06],\n",
       "       ..., \n",
       "       [             nan,   3.45000000e+03,   3.04000000e+03, ...,\n",
       "          3.29440000e+03,   1.11541600e+03,   3.64534624e+06],\n",
       "       [             nan,   3.18000000e+03,   2.78888000e+03, ...,\n",
       "          3.11200000e+03,   1.04968610e+03,   3.13889978e+06],\n",
       "       [             nan,   2.98000000e+03,   2.56026000e+03, ...,\n",
       "          2.90930000e+03,   9.15682700e+02,   2.56073324e+06]])"
      ]
     },
     "execution_count": 3,
     "metadata": {},
     "output_type": "execute_result"
    }
   ],
   "source": [
    "# Exercise 1 [Use Intro to Numpy: B]\n",
    "\n",
    "##### Upload Bitcoin data to an array\n",
    "BTER_BTCCNY_data = np.genfromtxt(\"BTER-BTCCNY.csv\", delimiter=\",\") # csv = comma separated values\n",
    "\n",
    "##### View the Bitcoin data\n",
    "BTER_BTCCNY_data\n"
   ]
  },
  {
   "cell_type": "code",
   "execution_count": 4,
   "metadata": {
    "collapsed": false
   },
   "outputs": [
    {
     "data": {
      "text/plain": [
       "\"\\nWhy the 'nan's? It's because numpy can only store one data type. It can't store floats and strings together... so it threw out\\nour headers and our datetimes!\\nKhaval... maybe numpy isn't the best tool for the job this time. But still let's explore the data a bit since it's here.\\n\""
      ]
     },
     "execution_count": 4,
     "metadata": {},
     "output_type": "execute_result"
    }
   ],
   "source": [
    "\"\"\"\n",
    "Why the 'nan's? It's because numpy can only store one data type. It can't store floats and strings together... so it threw out\n",
    "our headers and our datetimes!\n",
    "Khaval... maybe numpy isn't the best tool for the job this time. But still let's explore the data a bit since it's here.\n",
    "\"\"\""
   ]
  },
  {
   "cell_type": "code",
   "execution_count": 5,
   "metadata": {
    "collapsed": false
   },
   "outputs": [
    {
     "name": "stdout",
     "output_type": "stream",
     "text": [
      "there are 907 higher than .2 \n",
      "5171.19\n",
      "1297.38\n"
     ]
    }
   ],
   "source": [
    "# Exercise 2 [Use Intro to Numpy: C-G]\n",
    "\n",
    "##### Put the bitcoin_data into a new array leaving out the first row (these were the header strings\n",
    "btc_data_no_headers = BTER_BTCCNY_data[1:]\n",
    "btc_data_no_headers\n",
    "\n",
    "##### Use iteration to count how many rows have a value in the high column larger than .2\n",
    "count_highs = 0\n",
    "for high in btc_data_no_headers[:,1]:\n",
    "    if high > .2:\n",
    "        count_highs+=1\n",
    "print \"there are\", count_highs,\"higher than .2 \"\n",
    "\n",
    "\n",
    "##### Isolate all the data in the \"high\" column. Hint: you need to tell numpy to segregate the data by columns not rows!\n",
    "high_column = btc_data_no_headers[:,1]\n",
    "\n",
    "##### Find the maximum and minimum of the high column\n",
    "print high_column.max()\n",
    "print high_column.min()\n"
   ]
  },
  {
   "cell_type": "code",
   "execution_count": 6,
   "metadata": {
    "collapsed": false
   },
   "outputs": [
    {
     "data": {
      "text/plain": [
       "\"\\nSo time series data is really best done with pandas because you can keep the dates & have different data types :) But let's \\nquickly practice basic pandas \\n\""
      ]
     },
     "execution_count": 6,
     "metadata": {},
     "output_type": "execute_result"
    }
   ],
   "source": [
    "\"\"\"\n",
    "So time series data is really best done with pandas because you can keep the dates & have different data types :) But let's \n",
    "quickly practice basic pandas \n",
    "\"\"\""
   ]
  },
  {
   "cell_type": "code",
   "execution_count": 7,
   "metadata": {
    "collapsed": false,
    "scrolled": true
   },
   "outputs": [
    {
     "data": {
      "text/html": [
       "<div>\n",
       "<table border=\"1\" class=\"dataframe\">\n",
       "  <thead>\n",
       "    <tr style=\"text-align: right;\">\n",
       "      <th></th>\n",
       "      <th>Column 1</th>\n",
       "      <th>Column 2</th>\n",
       "    </tr>\n",
       "  </thead>\n",
       "  <tbody>\n",
       "    <tr>\n",
       "      <th>0</th>\n",
       "      <td>1</td>\n",
       "      <td>True</td>\n",
       "    </tr>\n",
       "    <tr>\n",
       "      <th>1</th>\n",
       "      <td>2</td>\n",
       "      <td>False</td>\n",
       "    </tr>\n",
       "    <tr>\n",
       "      <th>2</th>\n",
       "      <td>3</td>\n",
       "      <td>False</td>\n",
       "    </tr>\n",
       "    <tr>\n",
       "      <th>3</th>\n",
       "      <td>4</td>\n",
       "      <td>False</td>\n",
       "    </tr>\n",
       "    <tr>\n",
       "      <th>4</th>\n",
       "      <td>5</td>\n",
       "      <td>True</td>\n",
       "    </tr>\n",
       "    <tr>\n",
       "      <th>5</th>\n",
       "      <td>6</td>\n",
       "      <td>True</td>\n",
       "    </tr>\n",
       "    <tr>\n",
       "      <th>6</th>\n",
       "      <td>7</td>\n",
       "      <td>False</td>\n",
       "    </tr>\n",
       "    <tr>\n",
       "      <th>7</th>\n",
       "      <td>8</td>\n",
       "      <td>True</td>\n",
       "    </tr>\n",
       "    <tr>\n",
       "      <th>8</th>\n",
       "      <td>9</td>\n",
       "      <td>True</td>\n",
       "    </tr>\n",
       "    <tr>\n",
       "      <th>9</th>\n",
       "      <td>10</td>\n",
       "      <td>False</td>\n",
       "    </tr>\n",
       "  </tbody>\n",
       "</table>\n",
       "</div>"
      ],
      "text/plain": [
       "   Column 1 Column 2\n",
       "0         1     True\n",
       "1         2    False\n",
       "2         3    False\n",
       "3         4    False\n",
       "4         5     True\n",
       "5         6     True\n",
       "6         7    False\n",
       "7         8     True\n",
       "8         9     True\n",
       "9        10    False"
      ]
     },
     "execution_count": 7,
     "metadata": {},
     "output_type": "execute_result"
    }
   ],
   "source": [
    "# Exercise 3 [Use Intro to Pandas: A-B]\n",
    "\n",
    "##### Import the pandas library and give it the alias \"pd\"\n",
    "\n",
    "import pandas as pd\n",
    "\n",
    "##### Take the first array from Exercise 0 and turn it into a pandas Series\n",
    "series1 = pd.Series(array1)\n",
    "series1\n",
    "\n",
    "##### Make a Series of 10 Trues and Falses\n",
    "series_trues_or_falses = pd.Series([True, False, False, False, True, True, False, True, True, False])\n",
    "# series_trues_or_falses\n",
    "                                   \n",
    "##### Combine the two Series into a DataFrame\n",
    "df = pd.DataFrame(series1, range(0,len(series1)),['Column 1'])\n",
    "df['Column 2'] = pd.Series(series_trues_or_falses)\n",
    "df"
   ]
  },
  {
   "cell_type": "code",
   "execution_count": 8,
   "metadata": {
    "collapsed": false
   },
   "outputs": [
    {
     "data": {
      "text/plain": [
       "'\\nOk back to the cool stuff.\\n'"
      ]
     },
     "execution_count": 8,
     "metadata": {},
     "output_type": "execute_result"
    }
   ],
   "source": [
    "\"\"\"\n",
    "Ok back to the cool stuff.\n",
    "\"\"\""
   ]
  },
  {
   "cell_type": "code",
   "execution_count": 9,
   "metadata": {
    "collapsed": false
   },
   "outputs": [
    {
     "name": "stdout",
     "output_type": "stream",
     "text": [
      "               High      Low     Last  Average     Sell      Buy  \\\n",
      "Date                                                               \n",
      "2016-11-12  4942.89  4888.00  4926.46  4921.26  4926.39  4926.00   \n",
      "2016-11-11  4951.27  4865.00  4913.00  4908.86  4914.00  4911.66   \n",
      "2016-11-10  4994.00  4824.10  4946.41  4941.06  4944.89  4944.19   \n",
      "2016-11-09  4883.00  4770.00  4833.32  4828.22  4833.51  4832.39   \n",
      "2016-11-08  4810.00  4732.00  4775.10  4776.76  4772.86  4771.05   \n",
      "2016-11-06  4837.00  4703.00  4824.37  4783.10  4825.14  4822.52   \n",
      "2016-11-05  4783.00  4685.65  4730.23  4733.54  4734.64  4734.53   \n",
      "2016-11-04  4789.18  4560.00  4739.84  4718.50  4742.28  4741.95   \n",
      "2016-11-03  5130.40  4550.00  4592.03  5019.57  4594.69  4593.94   \n",
      "2016-11-02  5016.42  4931.00  5016.00  4977.83  5017.12  5016.21   \n",
      "\n",
      "            Volume (BTC)  Volume (CNY)  \n",
      "Date                                    \n",
      "2016-11-12       322.010    1584696.06  \n",
      "2016-11-11       514.907    2527603.82  \n",
      "2016-11-10       578.890    2860330.11  \n",
      "2016-11-09       577.772    2789612.60  \n",
      "2016-11-08       611.275    2919912.63  \n",
      "2016-11-06       256.760    1228108.82  \n",
      "2016-11-05       536.939    2541623.90  \n",
      "2016-11-04       813.943    3840587.53  \n",
      "2016-11-03       821.141    4121778.16  \n",
      "2016-11-02       433.817    2159468.64  \n",
      "             Value\n",
      "Date              \n",
      "2016-11-10  6.7987\n",
      "2016-11-09  6.7769\n",
      "2016-11-08  6.7840\n",
      "2016-11-07  6.7740\n",
      "2016-11-04  6.7534\n",
      "2016-11-03  6.7612\n",
      "2016-11-02  6.7544\n",
      "2016-11-01  6.7630\n",
      "2016-10-31  6.7735\n",
      "2016-10-28  6.7760\n",
      "              High      Low     Last  Average     Sell     Buy  Volume (BTC)  \\\n",
      "Date                                                                           \n",
      "2014-04-15  3180.0  2788.88  3116.01  2990.32  3114.98  3112.0     1049.6861   \n",
      "2014-04-14  2980.0  2560.26  2909.40  2796.53  2911.99  2909.3      915.6827   \n",
      "\n",
      "            Volume (CNY)  \n",
      "Date                      \n",
      "2014-04-15    3138899.78  \n",
      "2014-04-14    2560733.24  \n",
      "             Value\n",
      "Date              \n",
      "2005-04-04  8.2765\n",
      "2005-04-01  8.2765\n",
      "              High          Low         Last      Average         Sell  \\\n",
      "count   907.000000   907.000000   907.000000   907.000000   907.000000   \n",
      "mean   2748.034201  2634.810981  2695.473319  2693.297354  2699.735072   \n",
      "std    1016.035224   987.351357  1003.841542  1000.901720  1004.919768   \n",
      "min    1297.380000  1011.010000  1075.020000  1201.820000  1080.090000   \n",
      "25%    1756.500000  1682.600000  1721.415000  1720.105000  1722.170000   \n",
      "50%    2730.900000  2575.150000  2678.070000  2679.040000  2688.090000   \n",
      "75%    3687.990000  3532.560000  3613.660000  3612.400000  3623.480000   \n",
      "max    5171.190000  4960.000000  5139.170000  5033.830000  5160.000000   \n",
      "\n",
      "               Buy  Volume (BTC)  Volume (CNY)  \n",
      "count   907.000000    907.000000  9.070000e+02  \n",
      "mean   2691.812778    204.300632  5.967534e+05  \n",
      "std    1003.845648    225.519307  7.569630e+05  \n",
      "min    1074.910000      0.000000  0.000000e+00  \n",
      "25%    1718.270000     52.828200  1.166829e+05  \n",
      "50%    2672.000000    123.230300  2.829523e+05  \n",
      "75%    3614.720000    268.807350  7.835668e+05  \n",
      "max    5121.020000   1849.134500  5.592763e+06  \n",
      "             Value\n",
      "count  2937.000000\n",
      "mean      6.829458\n",
      "std       0.656574\n",
      "min       6.040200\n",
      "25%       6.297500\n",
      "50%       6.668500\n",
      "75%       7.141800\n",
      "max       8.276500\n"
     ]
    }
   ],
   "source": [
    "# Exercise 4 [Use Intro to Pandas: C-D]\n",
    "\n",
    "##### Upload both of the csv files into their own DataFrames\n",
    "data_BTER = pd.read_csv(\"BTER-BTCCNY.csv\", index_col=0)\n",
    "data_BOE = pd.read_csv(\"BOE-XUDLBK73.csv\", index_col=0)\n",
    "\n",
    "##### View the top 10 rows of each DataFrames\n",
    "print data_BTER.head(10)\n",
    "print data_BOE.head(10)\n",
    "\n",
    "##### View the bottom 2 rows of each DataFrames\n",
    "print data_BTER.tail(2)\n",
    "print data_BOE.tail(2)\n",
    "\n",
    "##### View the description statistics of each DataFrames\n",
    "print data_BTER.describe()\n",
    "print data_BOE.describe()"
   ]
  },
  {
   "cell_type": "code",
   "execution_count": 10,
   "metadata": {
    "collapsed": false
   },
   "outputs": [
    {
     "data": {
      "text/html": [
       "<div>\n",
       "<table border=\"1\" class=\"dataframe\">\n",
       "  <thead>\n",
       "    <tr style=\"text-align: right;\">\n",
       "      <th></th>\n",
       "      <th>High</th>\n",
       "      <th>Value</th>\n",
       "    </tr>\n",
       "  </thead>\n",
       "  <tbody>\n",
       "    <tr>\n",
       "      <th>High</th>\n",
       "      <td>1.000000</td>\n",
       "      <td>0.913394</td>\n",
       "    </tr>\n",
       "    <tr>\n",
       "      <th>Value</th>\n",
       "      <td>0.913394</td>\n",
       "      <td>1.000000</td>\n",
       "    </tr>\n",
       "  </tbody>\n",
       "</table>\n",
       "</div>"
      ],
      "text/plain": [
       "           High     Value\n",
       "High   1.000000  0.913394\n",
       "Value  0.913394  1.000000"
      ]
     },
     "execution_count": 10,
     "metadata": {},
     "output_type": "execute_result"
    }
   ],
   "source": [
    "# Exercise 5 [Use Intro to Pandas: E-H]\n",
    "\n",
    "##### Put the high column from bitcoin DataFrames from dates '20161103':'20140101', sort by index ascending=True into a new df\n",
    "high_BTC_data = data_BTER.loc['2016-11-03':'2015-01-01',['High']].sort_index(axis=0, ascending=True)\n",
    "\n",
    "##### Put the CNY/USD DataFrames from dates '20161103':'20140101' into a new df\n",
    "CNY_data = data_BOE.loc['2016-11-03':'2015-01-01',:]\n",
    "\n",
    "##### Join the two new DataFrames on the index (dates)\n",
    "joined_df = high_BTC_data.join(CNY_data)\n",
    "\n",
    "##### Find the correlation (how linked 2 sets of data appear to be) of the two Series in the DataFrame\n",
    "joined_df.corr()\n",
    "\n"
   ]
  },
  {
   "cell_type": "code",
   "execution_count": 11,
   "metadata": {
    "collapsed": false
   },
   "outputs": [
    {
     "data": {
      "text/plain": [
       "\"\\nWe have explored the data and it looks like there is a high correlation between the values as they are. Let's try to\\ngraph the data so we can tell if there is a lead or a lag that we can exploit.\\n\\nTime for matplotlib\\n\""
      ]
     },
     "execution_count": 11,
     "metadata": {},
     "output_type": "execute_result"
    }
   ],
   "source": [
    "\"\"\"\n",
    "We have explored the data and it looks like there is a high correlation between the values as they are. Let's try to\n",
    "graph the data so we can tell if there is a lead or a lag that we can exploit.\n",
    "\n",
    "Time for matplotlib\n",
    "\"\"\""
   ]
  },
  {
   "cell_type": "code",
   "execution_count": 13,
   "metadata": {
    "collapsed": false
   },
   "outputs": [],
   "source": [
    "# Exercise 6 [Use Intro to Matplotlib: A-E]\n",
    "\n",
    "##### Import the matplotlib.pyplot library and give it the alias \"plt\"\n",
    "import matplotlib.pyplot as plt\n",
    "\n",
    "##### Create a numpy array with the dates from the DataFrame in exercise 5\n",
    "dates_array = np.array(joined_df.index)\n",
    "\n",
    "##### Create a list with the numbers 0 to length of the dates numpy array above & store it in a variable called \"indexed_dates\"\n",
    "indexed_dates = range(0,len(dates_array))\n",
    "\n",
    "##### Create a numpy array with the 'High' Bitcoin data from the DataFrame in exercise 5\n",
    "high_bitcoin = np.array(joined_df['High'])\n",
    "\n",
    "##### Create a numpy array with the CNY/USD data\n",
    "cny_usd_data = np.array(joined_df['Value'])\n",
    "\n",
    "##### Use subplots to create a figure with 2 rows and 1 columns\n",
    "\n",
    "figure, axes = plt.subplots(nrows =2, ncols= 1)\n",
    "\n",
    "# ##### On the first pair of axes plot the 'High' Bitcoin data and label it\n",
    "axes[0].plot(indexed_dates, high_bitcoin, color = 'r', label = 'Bitcoin')\n",
    "axes[1].plot(indexed_dates, cny_usd_data, color = 'b', label = 'CNYUSD')\n",
    "\n",
    "##### On the second pair of axes plot the CNY/USD data and label it\n",
    "\n",
    "ticks = range(0, 645, 100)\n",
    "\n",
    "##### Set the ticks on both axes\n",
    "\n",
    "axes[0].set_xticks(ticks)\n",
    "axes[1].set_xticks(ticks)\n",
    "\n",
    "##### Set the tick labels on both axes\n",
    "\n",
    "axes[0].set_xticklabels([dates_array[i] for i in ticks])\n",
    "axes[1].set_xticklabels([dates_array[i] for i in ticks])\n",
    "\n",
    "##### Give set of axes a legend & pick a location for the legend\n",
    "axes[0].legend(loc = 0)\n",
    "axes[1].legend(loc = 0)\n",
    "\n",
    "##### Save the figure as \"Bitcoin1.jpg\"\n",
    "\n",
    "figure.tight_layout()\n",
    "figure.savefig(\"Exercise1.jpg\")\n",
    "\n"
   ]
  },
  {
   "cell_type": "code",
   "execution_count": null,
   "metadata": {
    "collapsed": true
   },
   "outputs": [],
   "source": []
  },
  {
   "cell_type": "code",
   "execution_count": null,
   "metadata": {
    "collapsed": true
   },
   "outputs": [],
   "source": []
  },
  {
   "cell_type": "code",
   "execution_count": null,
   "metadata": {
    "collapsed": true
   },
   "outputs": [],
   "source": []
  }
 ],
 "metadata": {
  "anaconda-cloud": {},
  "kernelspec": {
   "display_name": "Python [default]",
   "language": "python",
   "name": "python2"
  },
  "language_info": {
   "codemirror_mode": {
    "name": "ipython",
    "version": 2
   },
   "file_extension": ".py",
   "mimetype": "text/x-python",
   "name": "python",
   "nbconvert_exporter": "python",
   "pygments_lexer": "ipython2",
   "version": "2.7.12"
  }
 },
 "nbformat": 4,
 "nbformat_minor": 0
}
