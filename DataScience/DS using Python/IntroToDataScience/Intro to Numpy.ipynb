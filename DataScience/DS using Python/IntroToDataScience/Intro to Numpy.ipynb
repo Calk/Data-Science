{
 "cells": [
  {
   "cell_type": "code",
   "execution_count": null,
   "metadata": {
    "collapsed": false
   },
   "outputs": [],
   "source": [
    "\"\"\"\n",
    "Intro to Numpy\n",
    "\n",
    "\n",
    "\n",
    "\n",
    "\n",
    "Main object: multidimensional array\n",
    "\n",
    "Description: grid, table, array, matrix, etc\n",
    "\n",
    "Details:\n",
    "    1) all must be the same data type (integers, floats, booleans, etc)\n",
    "    2) indexed by a tuple of positive integers\n",
    "    3) dimensions = axes = rank\n",
    "\n",
    "We're going to stick to arrays with 1 - 2 dimensions/axes (rank 1-2)\n",
    "\n",
    "\"\"\""
   ]
  },
  {
   "cell_type": "code",
   "execution_count": null,
   "metadata": {
    "collapsed": true
   },
   "outputs": [],
   "source": [
    "\"\"\"\n",
    "Outline\n",
    "\n",
    "\n",
    "\n",
    "\n",
    "A) Make an Array\n",
    "\n",
    "B) Upload Data to an Array\n",
    "\n",
    "C) Indexing\n",
    "\n",
    "D) Iterating\n",
    "\n",
    "E) Basic Operations\n",
    "\n",
    "F) Functions\n",
    "\n",
    "G) Reshaping\n",
    "\n",
    "\"\"\""
   ]
  },
  {
   "cell_type": "code",
   "execution_count": null,
   "metadata": {
    "collapsed": true
   },
   "outputs": [],
   "source": [
    "# always start by importing the library :D\n",
    "import numpy as np # np is an alias, we can use \"np\" instead of \"numpy\" to be lazy"
   ]
  },
  {
   "cell_type": "code",
   "execution_count": null,
   "metadata": {
    "collapsed": true
   },
   "outputs": [],
   "source": [
    "\"\"\"\n",
    "\n",
    "A) Make an Array\n",
    "\n",
    "\"\"\""
   ]
  },
  {
   "cell_type": "code",
   "execution_count": null,
   "metadata": {
    "collapsed": false,
    "scrolled": true
   },
   "outputs": [],
   "source": [
    "# There are a couple of ways to make an array:\n",
    "\n",
    "# 1) Convert a regular list or tuple"
   ]
  },
  {
   "cell_type": "code",
   "execution_count": null,
   "metadata": {
    "collapsed": true
   },
   "outputs": [],
   "source": [
    "future_array1 = [1,2,3,4,5] # 1 dimensional array\n",
    "array1 = np.array(future_array1)\n",
    "array1"
   ]
  },
  {
   "cell_type": "code",
   "execution_count": null,
   "metadata": {
    "collapsed": true
   },
   "outputs": [],
   "source": [
    "future_array2 = [(1,2,3,4), (5,6,7,8), (9,10,11,12)] # 2 dimensional array\n",
    "array2 = np.array(future_array2) \n",
    "array2 "
   ]
  },
  {
   "cell_type": "code",
   "execution_count": null,
   "metadata": {
    "collapsed": false
   },
   "outputs": [],
   "source": [
    "# 2) Create an array with placeholder content (options: zeros, ones, random, constant, eye)\n",
    "# *NB: do this you know the size of the array but don't have the data quite yet, it's better memory-wise"
   ]
  },
  {
   "cell_type": "code",
   "execution_count": null,
   "metadata": {
    "collapsed": true
   },
   "outputs": [],
   "source": [
    "placeholder_zero = np.zeros((3,4), dtype=np.int) # default type is np.float\n",
    "placeholder_zero"
   ]
  },
  {
   "cell_type": "code",
   "execution_count": null,
   "metadata": {
    "collapsed": false
   },
   "outputs": [],
   "source": [
    "placeholder_one = np.ones((3,4), dtype=np.int) # default type is np.float\n",
    "placeholder_one"
   ]
  },
  {
   "cell_type": "code",
   "execution_count": null,
   "metadata": {
    "collapsed": false
   },
   "outputs": [],
   "source": [
    "placeholder_random = np.random.random((3,4)) # default type is np.float\n",
    "placeholder_random"
   ]
  },
  {
   "cell_type": "code",
   "execution_count": null,
   "metadata": {
    "collapsed": false
   },
   "outputs": [],
   "source": [
    "placeholder_constant = np.full((3,4), 25, dtype=np.int) # default type is np.float\n",
    "placeholder_constant"
   ]
  },
  {
   "cell_type": "code",
   "execution_count": null,
   "metadata": {
    "collapsed": false
   },
   "outputs": [],
   "source": [
    "placeholder_eye = np.eye(4, dtype=np.int) # default type is np.float\n",
    "placeholder_eye"
   ]
  },
  {
   "cell_type": "code",
   "execution_count": null,
   "metadata": {
    "collapsed": true
   },
   "outputs": [],
   "source": [
    "# 3) Create an array with a sequence"
   ]
  },
  {
   "cell_type": "code",
   "execution_count": null,
   "metadata": {
    "collapsed": false
   },
   "outputs": [],
   "source": [
    "# best for integers (start, end, step_value)\n",
    "sequence_array1 = np.arange(10, 30, 2)\n",
    "sequence_array2"
   ]
  },
  {
   "cell_type": "code",
   "execution_count": null,
   "metadata": {
    "collapsed": false
   },
   "outputs": [],
   "source": [
    "# best for floats (start, end, number_of_elements)\n",
    "sequence_array2 = np.linspace(10, 30, 4)\n",
    "sequence_array2"
   ]
  },
  {
   "cell_type": "code",
   "execution_count": null,
   "metadata": {
    "collapsed": true
   },
   "outputs": [],
   "source": [
    "\"\"\"\n",
    "\n",
    "# B) Upload Data to an Array\n",
    "\n",
    "\"\"\""
   ]
  },
  {
   "cell_type": "code",
   "execution_count": null,
   "metadata": {
    "collapsed": true
   },
   "outputs": [],
   "source": [
    "data = np.genfromtxt(\"your_file_here.csv\", delimiter=\",\") # csv = comma separated values"
   ]
  },
  {
   "cell_type": "code",
   "execution_count": null,
   "metadata": {
    "collapsed": true
   },
   "outputs": [],
   "source": [
    "\"\"\"\n",
    "\n",
    "C) Indexing\n",
    "\n",
    "\"\"\""
   ]
  },
  {
   "cell_type": "code",
   "execution_count": null,
   "metadata": {
    "collapsed": false
   },
   "outputs": [],
   "source": [
    "# 1 dimensional array\n",
    "array1[1:3]"
   ]
  },
  {
   "cell_type": "code",
   "execution_count": null,
   "metadata": {
    "collapsed": false
   },
   "outputs": [],
   "source": [
    "# 2 dimensional array\n",
    "array2[1][1:3] # array at index 1 because it has multiple dimensions, remember?"
   ]
  },
  {
   "cell_type": "code",
   "execution_count": null,
   "metadata": {
    "collapsed": false
   },
   "outputs": [],
   "source": [
    "# We can change the values with indexing!\n",
    "array1[1] = 100\n",
    "array1"
   ]
  },
  {
   "cell_type": "code",
   "execution_count": null,
   "metadata": {
    "collapsed": true
   },
   "outputs": [],
   "source": [
    "\"\"\"\n",
    "\n",
    "D) Iterating\n",
    "\n",
    "\"\"\""
   ]
  },
  {
   "cell_type": "code",
   "execution_count": null,
   "metadata": {
    "collapsed": false
   },
   "outputs": [],
   "source": [
    "# 1 dimensional array\n",
    "for i in array1:\n",
    "    print i"
   ]
  },
  {
   "cell_type": "code",
   "execution_count": null,
   "metadata": {
    "collapsed": false
   },
   "outputs": [],
   "source": [
    "# 2 dimensional array\n",
    "for i in array2: # remember there are 3 arrays in array2!\n",
    "    for j in i:\n",
    "        print j"
   ]
  },
  {
   "cell_type": "code",
   "execution_count": null,
   "metadata": {
    "collapsed": false
   },
   "outputs": [],
   "source": [
    "# or same thing...\n",
    "for i in array2.flat:\n",
    "    print(i)"
   ]
  },
  {
   "cell_type": "code",
   "execution_count": null,
   "metadata": {
    "collapsed": true
   },
   "outputs": [],
   "source": [
    "\"\"\"\n",
    "\n",
    "E) Basic Operations\n",
    "\n",
    "\"\"\""
   ]
  },
  {
   "cell_type": "code",
   "execution_count": null,
   "metadata": {
    "collapsed": true
   },
   "outputs": [],
   "source": [
    "# You can do basic operations on arrays that will be applied per element. A new array will be made with the results.\n",
    "a1 = np.array([1,2,3,4])\n",
    "a2 = np.ones((1,4), dtype=np.int)\n",
    "a3 = np.zeros((1,4), dtype=np.int)"
   ]
  },
  {
   "cell_type": "code",
   "execution_count": null,
   "metadata": {
    "collapsed": false
   },
   "outputs": [],
   "source": [
    "# Addition/Subtraction\n",
    "a1 + a2 - a3"
   ]
  },
  {
   "cell_type": "code",
   "execution_count": null,
   "metadata": {
    "collapsed": false
   },
   "outputs": [],
   "source": [
    "# Multiplication/Division\n",
    "a2 * a3 / a2"
   ]
  },
  {
   "cell_type": "code",
   "execution_count": null,
   "metadata": {
    "collapsed": false
   },
   "outputs": [],
   "source": [
    "# Sine\n",
    "np.sin(a1)"
   ]
  },
  {
   "cell_type": "code",
   "execution_count": null,
   "metadata": {
    "collapsed": false
   },
   "outputs": [],
   "source": [
    "# Boolean\n",
    "a2 < 2"
   ]
  },
  {
   "cell_type": "code",
   "execution_count": null,
   "metadata": {
    "collapsed": true
   },
   "outputs": [],
   "source": [
    "\"\"\"\n",
    "\n",
    "F) Functions\n",
    "\n",
    "\"\"\""
   ]
  },
  {
   "cell_type": "code",
   "execution_count": null,
   "metadata": {
    "collapsed": true
   },
   "outputs": [],
   "source": [
    "\"\"\"\n",
    "There's tons of them: all, any, apply_along_axis, argmax, argmin, argsort, average, bincount, ceil, clip, conj, \n",
    "corrcoef, cov, cross, cumprod, cumsum, diff, dot, floor, inner, inv, lexsort, max, maximum, mean, median, min, \n",
    "minimum, nonzero, outer, prod, re, round, sort, std, sum, trace, transpose, var, vdot, vectorize, where, etc\n",
    "\n",
    "Don't worry! We won't be learning all of them, but just so you know they are out there should you need it.\n",
    "\"\"\""
   ]
  },
  {
   "cell_type": "code",
   "execution_count": null,
   "metadata": {
    "collapsed": false
   },
   "outputs": [],
   "source": [
    "# Mean\n",
    "print(array1.mean())\n",
    "print(array2.mean(axis=0))\n",
    "print(array2.mean(axis=1))"
   ]
  },
  {
   "cell_type": "code",
   "execution_count": null,
   "metadata": {
    "collapsed": false
   },
   "outputs": [],
   "source": [
    "# Max\n",
    "print(array1.max())\n",
    "print(array2.max(axis=0))\n",
    "print(array2.max(axis=1))"
   ]
  },
  {
   "cell_type": "code",
   "execution_count": null,
   "metadata": {
    "collapsed": false
   },
   "outputs": [],
   "source": [
    "# Min\n",
    "print(array1.min())\n",
    "print(array2.min(axis=0))\n",
    "print(array2.min(axis=1))"
   ]
  },
  {
   "cell_type": "code",
   "execution_count": null,
   "metadata": {
    "collapsed": false
   },
   "outputs": [],
   "source": [
    "# Sum\n",
    "print(array1.sum())\n",
    "print(array2.sum(axis=0))\n",
    "print(array2.sum(axis=1))"
   ]
  },
  {
   "cell_type": "code",
   "execution_count": null,
   "metadata": {
    "collapsed": true
   },
   "outputs": [],
   "source": [
    "\"\"\"\n",
    "\n",
    "G) Reshaping\n",
    "\n",
    "\"\"\""
   ]
  },
  {
   "cell_type": "code",
   "execution_count": null,
   "metadata": {
    "collapsed": false
   },
   "outputs": [],
   "source": [
    "# Copy\n",
    "A = np.array([1,2,3,4,5,6,7,8,9,100])\n",
    "B = A.copy()\n",
    "B"
   ]
  },
  {
   "cell_type": "code",
   "execution_count": null,
   "metadata": {
    "collapsed": false
   },
   "outputs": [],
   "source": [
    "# Reshape\n",
    "C = B.reshape((2,5))\n",
    "C"
   ]
  },
  {
   "cell_type": "code",
   "execution_count": null,
   "metadata": {
    "collapsed": false
   },
   "outputs": [],
   "source": [
    "# Switch Datatype\n",
    "D = C.astype(np.float)\n",
    "D"
   ]
  },
  {
   "cell_type": "code",
   "execution_count": null,
   "metadata": {
    "collapsed": false
   },
   "outputs": [],
   "source": [
    "# Roll\n",
    "print \"One dimensional examples\"\n",
    "E = np.roll(A, 1, axis=0)\n",
    "F = np.roll(E, 1, axis=0)\n",
    "print E\n",
    "print F\n",
    "print \"\"\n",
    "print \"Two dimensional examples\"\n",
    "print np.roll(C, 1, axis=0)\n",
    "print np.roll(C, 1, axis=1)"
   ]
  },
  {
   "cell_type": "code",
   "execution_count": null,
   "metadata": {
    "collapsed": false
   },
   "outputs": [],
   "source": [
    "# Transpose\n",
    "print C\n",
    "print C.T"
   ]
  },
  {
   "cell_type": "code",
   "execution_count": null,
   "metadata": {
    "collapsed": false
   },
   "outputs": [],
   "source": [
    "# To List\n",
    "C.tolist()"
   ]
  },
  {
   "cell_type": "code",
   "execution_count": null,
   "metadata": {
    "collapsed": true
   },
   "outputs": [],
   "source": [
    "\"\"\"\n",
    "\n",
    "More Resources\n",
    "\n",
    "https://docs.scipy.org/doc/numpy-dev/user/quickstart.html#\n",
    "\n",
    "The NumPy Documentation: http://docs.scipy.org/doc/numpy/reference/\n",
    "\n",
    "NumPy For MATLAB Programmers: http://wiki.scipy.org/NumPy_for_Matlab_Users\n",
    "\n",
    "SciPy tutorial: http://docs.scipy.org/doc/scipy/reference/tutorial/\n",
    "\n",
    "A youtube of a matplotlib/numpy tutorial session: http://www.youtube.com/watch?v=3Fp1zn5ao2M\n",
    "\n",
    "A great scientific python overview/tutorial site: http://scipy-lectures.github.io/\n",
    "\n",
    "\"\"\""
   ]
  }
 ],
 "metadata": {
  "kernelspec": {
   "display_name": "Python 2",
   "language": "python",
   "name": "python2"
  },
  "language_info": {
   "codemirror_mode": {
    "name": "ipython",
    "version": 2
   },
   "file_extension": ".py",
   "mimetype": "text/x-python",
   "name": "python",
   "nbconvert_exporter": "python",
   "pygments_lexer": "ipython2",
   "version": "2.7.11"
  }
 },
 "nbformat": 4,
 "nbformat_minor": 0
}
