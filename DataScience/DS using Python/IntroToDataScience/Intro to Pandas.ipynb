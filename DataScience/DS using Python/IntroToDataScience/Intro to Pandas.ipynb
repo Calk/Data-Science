{
 "cells": [
  {
   "cell_type": "code",
   "execution_count": null,
   "metadata": {
    "collapsed": true
   },
   "outputs": [],
   "source": [
    "\"\"\"\n",
    "Introduction To Pandas\n",
    "\n",
    "\n",
    "\n",
    "\n",
    "\n",
    "Main objects: Series & DataFrame\n",
    "\n",
    "Description: like relational database tables in python\n",
    "\n",
    "Details: \n",
    "    1) built on top of Numpy\n",
    "    2) All the data does not need to be of the same type!\n",
    "\"\"\""
   ]
  },
  {
   "cell_type": "code",
   "execution_count": null,
   "metadata": {
    "collapsed": true
   },
   "outputs": [],
   "source": [
    "\"\"\"\n",
    "Outline\n",
    "\n",
    "\n",
    "\n",
    "\n",
    "A) Series\n",
    "\n",
    "B) DataFrame\n",
    "\n",
    "C) Upload Data\n",
    "\n",
    "D) View Data\n",
    "\n",
    "E) Indexing\n",
    "\n",
    "F) Iterating\n",
    "\n",
    "G) Reshaping & Sorting\n",
    "\n",
    "H) Join & Group\n",
    "\"\"\""
   ]
  },
  {
   "cell_type": "code",
   "execution_count": 1,
   "metadata": {
    "collapsed": true
   },
   "outputs": [],
   "source": [
    "import pandas as pd\n",
    "import numpy as np"
   ]
  },
  {
   "cell_type": "code",
   "execution_count": 15,
   "metadata": {
    "collapsed": false
   },
   "outputs": [
    {
     "data": {
      "text/plain": [
       "0    1\n",
       "1    2\n",
       "2    3\n",
       "3    4\n",
       "4    5\n",
       "5    6\n",
       "dtype: int32"
      ]
     },
     "execution_count": 15,
     "metadata": {},
     "output_type": "execute_result"
    }
   ],
   "source": [
    "\"\"\"\n",
    "\n",
    "A) Series\n",
    "\n",
    "\"\"\""
   ]
  },
  {
   "cell_type": "code",
   "execution_count": null,
   "metadata": {
    "collapsed": true
   },
   "outputs": [],
   "source": [
    "# pass list, tuple, or array & pandas makes the indeces automatically\n",
    "future_array1 = [1,2,3,4,5,6] # 1 dimensional array\n",
    "array1 = np.array(future_array1)\n",
    "s = pd.Series(array1)\n",
    "s"
   ]
  },
  {
   "cell_type": "code",
   "execution_count": null,
   "metadata": {
    "collapsed": true
   },
   "outputs": [],
   "source": [
    "\"\"\"\n",
    "\n",
    "B) DataFrame\n",
    "\n",
    "\"\"\""
   ]
  },
  {
   "cell_type": "code",
   "execution_count": 14,
   "metadata": {
    "collapsed": false
   },
   "outputs": [
    {
     "data": {
      "text/html": [
       "<div>\n",
       "<table border=\"1\" class=\"dataframe\">\n",
       "  <thead>\n",
       "    <tr style=\"text-align: right;\">\n",
       "      <th></th>\n",
       "      <th>Column1</th>\n",
       "      <th>Column2</th>\n",
       "      <th>Column3</th>\n",
       "    </tr>\n",
       "  </thead>\n",
       "  <tbody>\n",
       "    <tr>\n",
       "      <th>2016-01-01</th>\n",
       "      <td>0.877179</td>\n",
       "      <td>0.138904</td>\n",
       "      <td>0.535077</td>\n",
       "    </tr>\n",
       "    <tr>\n",
       "      <th>2016-01-02</th>\n",
       "      <td>0.163296</td>\n",
       "      <td>0.676220</td>\n",
       "      <td>0.746911</td>\n",
       "    </tr>\n",
       "    <tr>\n",
       "      <th>2016-01-03</th>\n",
       "      <td>0.952653</td>\n",
       "      <td>0.986626</td>\n",
       "      <td>0.262589</td>\n",
       "    </tr>\n",
       "    <tr>\n",
       "      <th>2016-01-04</th>\n",
       "      <td>0.677718</td>\n",
       "      <td>0.308529</td>\n",
       "      <td>0.014202</td>\n",
       "    </tr>\n",
       "    <tr>\n",
       "      <th>2016-01-05</th>\n",
       "      <td>0.624073</td>\n",
       "      <td>0.500785</td>\n",
       "      <td>0.720940</td>\n",
       "    </tr>\n",
       "    <tr>\n",
       "      <th>2016-01-06</th>\n",
       "      <td>0.642954</td>\n",
       "      <td>0.854390</td>\n",
       "      <td>0.124858</td>\n",
       "    </tr>\n",
       "  </tbody>\n",
       "</table>\n",
       "</div>"
      ],
      "text/plain": [
       "             Column1   Column2   Column3\n",
       "2016-01-01  0.877179  0.138904  0.535077\n",
       "2016-01-02  0.163296  0.676220  0.746911\n",
       "2016-01-03  0.952653  0.986626  0.262589\n",
       "2016-01-04  0.677718  0.308529  0.014202\n",
       "2016-01-05  0.624073  0.500785  0.720940\n",
       "2016-01-06  0.642954  0.854390  0.124858"
      ]
     },
     "execution_count": 14,
     "metadata": {},
     "output_type": "execute_result"
    }
   ],
   "source": [
    "# DataFrame: object that can contain more than 1 Series\n",
    "dates = pd.date_range(\"20160101\", periods=6)\n",
    "data = np.random.random((6,3))\n",
    "df = pd.DataFrame(data, index=dates, columns=['Column1', 'Column2', 'Column3'])\n",
    "df"
   ]
  },
  {
   "cell_type": "code",
   "execution_count": 20,
   "metadata": {
    "collapsed": false
   },
   "outputs": [
    {
     "data": {
      "text/html": [
       "<div>\n",
       "<table border=\"1\" class=\"dataframe\">\n",
       "  <thead>\n",
       "    <tr style=\"text-align: right;\">\n",
       "      <th></th>\n",
       "      <th>Column1</th>\n",
       "      <th>Column2</th>\n",
       "      <th>Column3</th>\n",
       "      <th>Column4</th>\n",
       "    </tr>\n",
       "  </thead>\n",
       "  <tbody>\n",
       "    <tr>\n",
       "      <th>2016-01-01</th>\n",
       "      <td>0.877179</td>\n",
       "      <td>0.138904</td>\n",
       "      <td>0.535077</td>\n",
       "      <td>True</td>\n",
       "    </tr>\n",
       "    <tr>\n",
       "      <th>2016-01-02</th>\n",
       "      <td>0.163296</td>\n",
       "      <td>0.676220</td>\n",
       "      <td>0.746911</td>\n",
       "      <td>False</td>\n",
       "    </tr>\n",
       "    <tr>\n",
       "      <th>2016-01-03</th>\n",
       "      <td>0.952653</td>\n",
       "      <td>0.986626</td>\n",
       "      <td>0.262589</td>\n",
       "      <td>False</td>\n",
       "    </tr>\n",
       "    <tr>\n",
       "      <th>2016-01-04</th>\n",
       "      <td>0.677718</td>\n",
       "      <td>0.308529</td>\n",
       "      <td>0.014202</td>\n",
       "      <td>False</td>\n",
       "    </tr>\n",
       "    <tr>\n",
       "      <th>2016-01-05</th>\n",
       "      <td>0.624073</td>\n",
       "      <td>0.500785</td>\n",
       "      <td>0.720940</td>\n",
       "      <td>True</td>\n",
       "    </tr>\n",
       "    <tr>\n",
       "      <th>2016-01-06</th>\n",
       "      <td>0.642954</td>\n",
       "      <td>0.854390</td>\n",
       "      <td>0.124858</td>\n",
       "      <td>True</td>\n",
       "    </tr>\n",
       "  </tbody>\n",
       "</table>\n",
       "</div>"
      ],
      "text/plain": [
       "             Column1   Column2   Column3 Column4\n",
       "2016-01-01  0.877179  0.138904  0.535077    True\n",
       "2016-01-02  0.163296  0.676220  0.746911   False\n",
       "2016-01-03  0.952653  0.986626  0.262589   False\n",
       "2016-01-04  0.677718  0.308529  0.014202   False\n",
       "2016-01-05  0.624073  0.500785  0.720940    True\n",
       "2016-01-06  0.642954  0.854390  0.124858    True"
      ]
     },
     "execution_count": 20,
     "metadata": {},
     "output_type": "execute_result"
    }
   ],
   "source": [
    "# DataFrames, unlike Arrays, can store elements of different data types!\n",
    "df['Column4'] = pd.Series([True, False, False, False, True, True], index=dates)\n",
    "df"
   ]
  },
  {
   "cell_type": "code",
   "execution_count": null,
   "metadata": {
    "collapsed": true
   },
   "outputs": [],
   "source": [
    "\"\"\"\n",
    "\n",
    "C) Upload Data\n",
    "\n",
    "\"\"\""
   ]
  },
  {
   "cell_type": "code",
   "execution_count": null,
   "metadata": {
    "collapsed": true
   },
   "outputs": [],
   "source": [
    "# There's a lot of ways to upload, but let's just focus on csv files for now, it's easy!\n",
    "uploaded_data = pd.read_csv(\"filename.csv\", index_col=0)"
   ]
  },
  {
   "cell_type": "code",
   "execution_count": null,
   "metadata": {
    "collapsed": true
   },
   "outputs": [],
   "source": [
    "\"\"\"\n",
    "\n",
    "D) View Data\n",
    "\n",
    "\"\"\""
   ]
  },
  {
   "cell_type": "code",
   "execution_count": 22,
   "metadata": {
    "collapsed": false
   },
   "outputs": [
    {
     "data": {
      "text/html": [
       "<div>\n",
       "<table border=\"1\" class=\"dataframe\">\n",
       "  <thead>\n",
       "    <tr style=\"text-align: right;\">\n",
       "      <th></th>\n",
       "      <th>Column1</th>\n",
       "      <th>Column2</th>\n",
       "      <th>Column3</th>\n",
       "      <th>Column4</th>\n",
       "    </tr>\n",
       "  </thead>\n",
       "  <tbody>\n",
       "    <tr>\n",
       "      <th>2016-01-01</th>\n",
       "      <td>0.877179</td>\n",
       "      <td>0.138904</td>\n",
       "      <td>0.535077</td>\n",
       "      <td>True</td>\n",
       "    </tr>\n",
       "    <tr>\n",
       "      <th>2016-01-02</th>\n",
       "      <td>0.163296</td>\n",
       "      <td>0.676220</td>\n",
       "      <td>0.746911</td>\n",
       "      <td>False</td>\n",
       "    </tr>\n",
       "    <tr>\n",
       "      <th>2016-01-03</th>\n",
       "      <td>0.952653</td>\n",
       "      <td>0.986626</td>\n",
       "      <td>0.262589</td>\n",
       "      <td>False</td>\n",
       "    </tr>\n",
       "  </tbody>\n",
       "</table>\n",
       "</div>"
      ],
      "text/plain": [
       "             Column1   Column2   Column3 Column4\n",
       "2016-01-01  0.877179  0.138904  0.535077    True\n",
       "2016-01-02  0.163296  0.676220  0.746911   False\n",
       "2016-01-03  0.952653  0.986626  0.262589   False"
      ]
     },
     "execution_count": 22,
     "metadata": {},
     "output_type": "execute_result"
    }
   ],
   "source": [
    "# View the top of the data set\n",
    "df.head(3) # <- can leave it (), defaults to 5"
   ]
  },
  {
   "cell_type": "code",
   "execution_count": 23,
   "metadata": {
    "collapsed": false
   },
   "outputs": [
    {
     "data": {
      "text/html": [
       "<div>\n",
       "<table border=\"1\" class=\"dataframe\">\n",
       "  <thead>\n",
       "    <tr style=\"text-align: right;\">\n",
       "      <th></th>\n",
       "      <th>Column1</th>\n",
       "      <th>Column2</th>\n",
       "      <th>Column3</th>\n",
       "      <th>Column4</th>\n",
       "    </tr>\n",
       "  </thead>\n",
       "  <tbody>\n",
       "    <tr>\n",
       "      <th>2016-01-04</th>\n",
       "      <td>0.677718</td>\n",
       "      <td>0.308529</td>\n",
       "      <td>0.014202</td>\n",
       "      <td>False</td>\n",
       "    </tr>\n",
       "    <tr>\n",
       "      <th>2016-01-05</th>\n",
       "      <td>0.624073</td>\n",
       "      <td>0.500785</td>\n",
       "      <td>0.720940</td>\n",
       "      <td>True</td>\n",
       "    </tr>\n",
       "    <tr>\n",
       "      <th>2016-01-06</th>\n",
       "      <td>0.642954</td>\n",
       "      <td>0.854390</td>\n",
       "      <td>0.124858</td>\n",
       "      <td>True</td>\n",
       "    </tr>\n",
       "  </tbody>\n",
       "</table>\n",
       "</div>"
      ],
      "text/plain": [
       "             Column1   Column2   Column3 Column4\n",
       "2016-01-04  0.677718  0.308529  0.014202   False\n",
       "2016-01-05  0.624073  0.500785  0.720940    True\n",
       "2016-01-06  0.642954  0.854390  0.124858    True"
      ]
     },
     "execution_count": 23,
     "metadata": {},
     "output_type": "execute_result"
    }
   ],
   "source": [
    "# View the bottom of the data set\n",
    "df.tail(3) # <- can leave it (), defaults to 5"
   ]
  },
  {
   "cell_type": "code",
   "execution_count": 25,
   "metadata": {
    "collapsed": false
   },
   "outputs": [
    {
     "name": "stdout",
     "output_type": "stream",
     "text": [
      "DatetimeIndex(['2016-01-01', '2016-01-02', '2016-01-03', '2016-01-04',\n",
      "               '2016-01-05', '2016-01-06'],\n",
      "              dtype='datetime64[ns]', freq='D')\n",
      "\n",
      "Index([u'Column1', u'Column2', u'Column3', u'Column4'], dtype='object')\n",
      "\n",
      "[[0.8771792804941592 0.13890420834456496 0.5350768696858543 True]\n",
      " [0.16329580261900212 0.6762197129011865 0.7469106669341132 False]\n",
      " [0.9526533619038046 0.9866263135399093 0.26258877341837383 False]\n",
      " [0.677717788786839 0.308528960913394 0.014202026384788291 False]\n",
      " [0.6240733160160035 0.5007847856873302 0.7209397721805229 True]\n",
      " [0.6429538580198717 0.854390470136722 0.12485815605528039 True]]\n"
     ]
    }
   ],
   "source": [
    "# View each piece of the DataFrame\n",
    "print df.index\n",
    "print \"\"\n",
    "print df.columns\n",
    "print \"\"\n",
    "print df.values"
   ]
  },
  {
   "cell_type": "code",
   "execution_count": 28,
   "metadata": {
    "collapsed": false
   },
   "outputs": [
    {
     "name": "stdout",
     "output_type": "stream",
     "text": [
      "        Column1   Column2   Column3\n",
      "count  6.000000  6.000000  6.000000\n",
      "mean   0.656312  0.577576  0.400763\n",
      "std    0.276167  0.323850  0.311454\n",
      "min    0.163296  0.138904  0.014202\n",
      "25%    0.628793  0.356593  0.159291\n",
      "50%    0.660336  0.588502  0.398833\n",
      "75%    0.827314  0.809848  0.674474\n",
      "max    0.952653  0.986626  0.746911\n"
     ]
    }
   ],
   "source": [
    "# View description statistics\n",
    "print df.describe()"
   ]
  },
  {
   "cell_type": "code",
   "execution_count": null,
   "metadata": {
    "collapsed": true
   },
   "outputs": [],
   "source": [
    "\"\"\"\n",
    "\n",
    "E) Indexing\n",
    "\n",
    "\"\"\""
   ]
  },
  {
   "cell_type": "code",
   "execution_count": 34,
   "metadata": {
    "collapsed": false
   },
   "outputs": [
    {
     "data": {
      "text/plain": [
       "2016-01-01    0.138904\n",
       "2016-01-02    0.676220\n",
       "2016-01-03    0.986626\n",
       "2016-01-04    0.308529\n",
       "2016-01-05    0.500785\n",
       "2016-01-06    0.854390\n",
       "Freq: D, Name: Column2, dtype: float64"
      ]
     },
     "execution_count": 34,
     "metadata": {},
     "output_type": "execute_result"
    }
   ],
   "source": [
    "# Column names\n",
    "df['Column2']"
   ]
  },
  {
   "cell_type": "code",
   "execution_count": 38,
   "metadata": {
    "collapsed": false
   },
   "outputs": [
    {
     "data": {
      "text/html": [
       "<div>\n",
       "<table border=\"1\" class=\"dataframe\">\n",
       "  <thead>\n",
       "    <tr style=\"text-align: right;\">\n",
       "      <th></th>\n",
       "      <th>Column1</th>\n",
       "      <th>Column2</th>\n",
       "      <th>Column3</th>\n",
       "      <th>Column4</th>\n",
       "    </tr>\n",
       "  </thead>\n",
       "  <tbody>\n",
       "    <tr>\n",
       "      <th>2016-01-01</th>\n",
       "      <td>0.877179</td>\n",
       "      <td>0.138904</td>\n",
       "      <td>0.535077</td>\n",
       "      <td>True</td>\n",
       "    </tr>\n",
       "    <tr>\n",
       "      <th>2016-01-02</th>\n",
       "      <td>0.163296</td>\n",
       "      <td>0.676220</td>\n",
       "      <td>0.746911</td>\n",
       "      <td>False</td>\n",
       "    </tr>\n",
       "  </tbody>\n",
       "</table>\n",
       "</div>"
      ],
      "text/plain": [
       "             Column1   Column2   Column3 Column4\n",
       "2016-01-01  0.877179  0.138904  0.535077    True\n",
       "2016-01-02  0.163296  0.676220  0.746911   False"
      ]
     },
     "execution_count": 38,
     "metadata": {},
     "output_type": "execute_result"
    }
   ],
   "source": [
    "# Row Indeces\n",
    "df[0:2] # or df['20160101':'20160102']"
   ]
  },
  {
   "cell_type": "code",
   "execution_count": 46,
   "metadata": {
    "collapsed": false
   },
   "outputs": [
    {
     "data": {
      "text/html": [
       "<div>\n",
       "<table border=\"1\" class=\"dataframe\">\n",
       "  <thead>\n",
       "    <tr style=\"text-align: right;\">\n",
       "      <th></th>\n",
       "      <th>Column1</th>\n",
       "      <th>Column3</th>\n",
       "    </tr>\n",
       "  </thead>\n",
       "  <tbody>\n",
       "    <tr>\n",
       "      <th>2016-01-01</th>\n",
       "      <td>0.877179</td>\n",
       "      <td>0.535077</td>\n",
       "    </tr>\n",
       "    <tr>\n",
       "      <th>2016-01-02</th>\n",
       "      <td>0.163296</td>\n",
       "      <td>0.746911</td>\n",
       "    </tr>\n",
       "  </tbody>\n",
       "</table>\n",
       "</div>"
      ],
      "text/plain": [
       "             Column1   Column3\n",
       "2016-01-01  0.877179  0.535077\n",
       "2016-01-02  0.163296  0.746911"
      ]
     },
     "execution_count": 46,
     "metadata": {},
     "output_type": "execute_result"
    }
   ],
   "source": [
    "# Multi-axis with label\n",
    "df.loc['20160101':'20160102',['Column1','Column3']]"
   ]
  },
  {
   "cell_type": "code",
   "execution_count": 48,
   "metadata": {
    "collapsed": false
   },
   "outputs": [
    {
     "data": {
      "text/html": [
       "<div>\n",
       "<table border=\"1\" class=\"dataframe\">\n",
       "  <thead>\n",
       "    <tr style=\"text-align: right;\">\n",
       "      <th></th>\n",
       "      <th>Column1</th>\n",
       "      <th>Column2</th>\n",
       "    </tr>\n",
       "  </thead>\n",
       "  <tbody>\n",
       "    <tr>\n",
       "      <th>2016-01-04</th>\n",
       "      <td>0.677718</td>\n",
       "      <td>0.308529</td>\n",
       "    </tr>\n",
       "    <tr>\n",
       "      <th>2016-01-05</th>\n",
       "      <td>0.624073</td>\n",
       "      <td>0.500785</td>\n",
       "    </tr>\n",
       "  </tbody>\n",
       "</table>\n",
       "</div>"
      ],
      "text/plain": [
       "             Column1   Column2\n",
       "2016-01-04  0.677718  0.308529\n",
       "2016-01-05  0.624073  0.500785"
      ]
     },
     "execution_count": 48,
     "metadata": {},
     "output_type": "execute_result"
    }
   ],
   "source": [
    "# Multi-axis with indexing\n",
    "df.iloc[3:5, 0:2]"
   ]
  },
  {
   "cell_type": "code",
   "execution_count": 49,
   "metadata": {
    "collapsed": false
   },
   "outputs": [
    {
     "data": {
      "text/html": [
       "<div>\n",
       "<table border=\"1\" class=\"dataframe\">\n",
       "  <thead>\n",
       "    <tr style=\"text-align: right;\">\n",
       "      <th></th>\n",
       "      <th>Column1</th>\n",
       "      <th>Column2</th>\n",
       "      <th>Column3</th>\n",
       "      <th>Column4</th>\n",
       "    </tr>\n",
       "  </thead>\n",
       "  <tbody>\n",
       "    <tr>\n",
       "      <th>2016-01-01</th>\n",
       "      <td>0.877179</td>\n",
       "      <td>0.138904</td>\n",
       "      <td>0.535077</td>\n",
       "      <td>True</td>\n",
       "    </tr>\n",
       "    <tr>\n",
       "      <th>2016-01-03</th>\n",
       "      <td>0.952653</td>\n",
       "      <td>0.986626</td>\n",
       "      <td>0.262589</td>\n",
       "      <td>False</td>\n",
       "    </tr>\n",
       "    <tr>\n",
       "      <th>2016-01-04</th>\n",
       "      <td>0.677718</td>\n",
       "      <td>0.308529</td>\n",
       "      <td>0.014202</td>\n",
       "      <td>False</td>\n",
       "    </tr>\n",
       "    <tr>\n",
       "      <th>2016-01-05</th>\n",
       "      <td>0.624073</td>\n",
       "      <td>0.500785</td>\n",
       "      <td>0.720940</td>\n",
       "      <td>True</td>\n",
       "    </tr>\n",
       "    <tr>\n",
       "      <th>2016-01-06</th>\n",
       "      <td>0.642954</td>\n",
       "      <td>0.854390</td>\n",
       "      <td>0.124858</td>\n",
       "      <td>True</td>\n",
       "    </tr>\n",
       "  </tbody>\n",
       "</table>\n",
       "</div>"
      ],
      "text/plain": [
       "             Column1   Column2   Column3 Column4\n",
       "2016-01-01  0.877179  0.138904  0.535077    True\n",
       "2016-01-03  0.952653  0.986626  0.262589   False\n",
       "2016-01-04  0.677718  0.308529  0.014202   False\n",
       "2016-01-05  0.624073  0.500785  0.720940    True\n",
       "2016-01-06  0.642954  0.854390  0.124858    True"
      ]
     },
     "execution_count": 49,
     "metadata": {},
     "output_type": "execute_result"
    }
   ],
   "source": [
    "# Boolean\n",
    "df[df.Column1 > .5]"
   ]
  },
  {
   "cell_type": "code",
   "execution_count": null,
   "metadata": {
    "collapsed": true
   },
   "outputs": [],
   "source": [
    "\"\"\"\n",
    "\n",
    "F) Iterating\n",
    "\n",
    "\"\"\""
   ]
  },
  {
   "cell_type": "code",
   "execution_count": 52,
   "metadata": {
    "collapsed": false
   },
   "outputs": [
    {
     "name": "stdout",
     "output_type": "stream",
     "text": [
      "2016-01-01 00:00:00 0.877179280494\n",
      "2016-01-02 00:00:00 0.163295802619\n",
      "2016-01-03 00:00:00 0.952653361904\n",
      "2016-01-04 00:00:00 0.677717788787\n",
      "2016-01-05 00:00:00 0.624073316016\n",
      "2016-01-06 00:00:00 0.64295385802\n"
     ]
    }
   ],
   "source": [
    "for index, row in df.iterrows():\n",
    "    print index, row[0]"
   ]
  },
  {
   "cell_type": "code",
   "execution_count": null,
   "metadata": {
    "collapsed": true
   },
   "outputs": [],
   "source": [
    "\"\"\"\n",
    "\n",
    "G) Reshaping & Sorting\n",
    "\n",
    "\"\"\""
   ]
  },
  {
   "cell_type": "code",
   "execution_count": 30,
   "metadata": {
    "collapsed": false
   },
   "outputs": [
    {
     "data": {
      "text/html": [
       "<div>\n",
       "<table border=\"1\" class=\"dataframe\">\n",
       "  <thead>\n",
       "    <tr style=\"text-align: right;\">\n",
       "      <th></th>\n",
       "      <th>2016-01-01 00:00:00</th>\n",
       "      <th>2016-01-02 00:00:00</th>\n",
       "      <th>2016-01-03 00:00:00</th>\n",
       "      <th>2016-01-04 00:00:00</th>\n",
       "      <th>2016-01-05 00:00:00</th>\n",
       "      <th>2016-01-06 00:00:00</th>\n",
       "    </tr>\n",
       "  </thead>\n",
       "  <tbody>\n",
       "    <tr>\n",
       "      <th>Column1</th>\n",
       "      <td>0.877179</td>\n",
       "      <td>0.163296</td>\n",
       "      <td>0.952653</td>\n",
       "      <td>0.677718</td>\n",
       "      <td>0.624073</td>\n",
       "      <td>0.642954</td>\n",
       "    </tr>\n",
       "    <tr>\n",
       "      <th>Column2</th>\n",
       "      <td>0.138904</td>\n",
       "      <td>0.67622</td>\n",
       "      <td>0.986626</td>\n",
       "      <td>0.308529</td>\n",
       "      <td>0.500785</td>\n",
       "      <td>0.85439</td>\n",
       "    </tr>\n",
       "    <tr>\n",
       "      <th>Column3</th>\n",
       "      <td>0.535077</td>\n",
       "      <td>0.746911</td>\n",
       "      <td>0.262589</td>\n",
       "      <td>0.014202</td>\n",
       "      <td>0.72094</td>\n",
       "      <td>0.124858</td>\n",
       "    </tr>\n",
       "    <tr>\n",
       "      <th>Column4</th>\n",
       "      <td>True</td>\n",
       "      <td>False</td>\n",
       "      <td>False</td>\n",
       "      <td>False</td>\n",
       "      <td>True</td>\n",
       "      <td>True</td>\n",
       "    </tr>\n",
       "  </tbody>\n",
       "</table>\n",
       "</div>"
      ],
      "text/plain": [
       "        2016-01-01 2016-01-02 2016-01-03 2016-01-04 2016-01-05 2016-01-06\n",
       "Column1   0.877179   0.163296   0.952653   0.677718   0.624073   0.642954\n",
       "Column2   0.138904    0.67622   0.986626   0.308529   0.500785    0.85439\n",
       "Column3   0.535077   0.746911   0.262589   0.014202    0.72094   0.124858\n",
       "Column4       True      False      False      False       True       True"
      ]
     },
     "execution_count": 30,
     "metadata": {},
     "output_type": "execute_result"
    }
   ],
   "source": [
    "# Transpose\n",
    "df.T"
   ]
  },
  {
   "cell_type": "code",
   "execution_count": 32,
   "metadata": {
    "collapsed": false
   },
   "outputs": [
    {
     "data": {
      "text/html": [
       "<div>\n",
       "<table border=\"1\" class=\"dataframe\">\n",
       "  <thead>\n",
       "    <tr style=\"text-align: right;\">\n",
       "      <th></th>\n",
       "      <th>Column1</th>\n",
       "      <th>Column2</th>\n",
       "      <th>Column3</th>\n",
       "      <th>Column4</th>\n",
       "    </tr>\n",
       "  </thead>\n",
       "  <tbody>\n",
       "    <tr>\n",
       "      <th>2016-01-06</th>\n",
       "      <td>0.642954</td>\n",
       "      <td>0.854390</td>\n",
       "      <td>0.124858</td>\n",
       "      <td>True</td>\n",
       "    </tr>\n",
       "    <tr>\n",
       "      <th>2016-01-05</th>\n",
       "      <td>0.624073</td>\n",
       "      <td>0.500785</td>\n",
       "      <td>0.720940</td>\n",
       "      <td>True</td>\n",
       "    </tr>\n",
       "    <tr>\n",
       "      <th>2016-01-04</th>\n",
       "      <td>0.677718</td>\n",
       "      <td>0.308529</td>\n",
       "      <td>0.014202</td>\n",
       "      <td>False</td>\n",
       "    </tr>\n",
       "    <tr>\n",
       "      <th>2016-01-03</th>\n",
       "      <td>0.952653</td>\n",
       "      <td>0.986626</td>\n",
       "      <td>0.262589</td>\n",
       "      <td>False</td>\n",
       "    </tr>\n",
       "    <tr>\n",
       "      <th>2016-01-02</th>\n",
       "      <td>0.163296</td>\n",
       "      <td>0.676220</td>\n",
       "      <td>0.746911</td>\n",
       "      <td>False</td>\n",
       "    </tr>\n",
       "    <tr>\n",
       "      <th>2016-01-01</th>\n",
       "      <td>0.877179</td>\n",
       "      <td>0.138904</td>\n",
       "      <td>0.535077</td>\n",
       "      <td>True</td>\n",
       "    </tr>\n",
       "  </tbody>\n",
       "</table>\n",
       "</div>"
      ],
      "text/plain": [
       "             Column1   Column2   Column3 Column4\n",
       "2016-01-06  0.642954  0.854390  0.124858    True\n",
       "2016-01-05  0.624073  0.500785  0.720940    True\n",
       "2016-01-04  0.677718  0.308529  0.014202   False\n",
       "2016-01-03  0.952653  0.986626  0.262589   False\n",
       "2016-01-02  0.163296  0.676220  0.746911   False\n",
       "2016-01-01  0.877179  0.138904  0.535077    True"
      ]
     },
     "execution_count": 32,
     "metadata": {},
     "output_type": "execute_result"
    }
   ],
   "source": [
    "# Sort by Index\n",
    "df.sort_index(axis=0, ascending=False)"
   ]
  },
  {
   "cell_type": "code",
   "execution_count": 33,
   "metadata": {
    "collapsed": false
   },
   "outputs": [
    {
     "data": {
      "text/html": [
       "<div>\n",
       "<table border=\"1\" class=\"dataframe\">\n",
       "  <thead>\n",
       "    <tr style=\"text-align: right;\">\n",
       "      <th></th>\n",
       "      <th>Column1</th>\n",
       "      <th>Column2</th>\n",
       "      <th>Column3</th>\n",
       "      <th>Column4</th>\n",
       "    </tr>\n",
       "  </thead>\n",
       "  <tbody>\n",
       "    <tr>\n",
       "      <th>2016-01-01</th>\n",
       "      <td>0.877179</td>\n",
       "      <td>0.138904</td>\n",
       "      <td>0.535077</td>\n",
       "      <td>True</td>\n",
       "    </tr>\n",
       "    <tr>\n",
       "      <th>2016-01-04</th>\n",
       "      <td>0.677718</td>\n",
       "      <td>0.308529</td>\n",
       "      <td>0.014202</td>\n",
       "      <td>False</td>\n",
       "    </tr>\n",
       "    <tr>\n",
       "      <th>2016-01-05</th>\n",
       "      <td>0.624073</td>\n",
       "      <td>0.500785</td>\n",
       "      <td>0.720940</td>\n",
       "      <td>True</td>\n",
       "    </tr>\n",
       "    <tr>\n",
       "      <th>2016-01-02</th>\n",
       "      <td>0.163296</td>\n",
       "      <td>0.676220</td>\n",
       "      <td>0.746911</td>\n",
       "      <td>False</td>\n",
       "    </tr>\n",
       "    <tr>\n",
       "      <th>2016-01-06</th>\n",
       "      <td>0.642954</td>\n",
       "      <td>0.854390</td>\n",
       "      <td>0.124858</td>\n",
       "      <td>True</td>\n",
       "    </tr>\n",
       "    <tr>\n",
       "      <th>2016-01-03</th>\n",
       "      <td>0.952653</td>\n",
       "      <td>0.986626</td>\n",
       "      <td>0.262589</td>\n",
       "      <td>False</td>\n",
       "    </tr>\n",
       "  </tbody>\n",
       "</table>\n",
       "</div>"
      ],
      "text/plain": [
       "             Column1   Column2   Column3 Column4\n",
       "2016-01-01  0.877179  0.138904  0.535077    True\n",
       "2016-01-04  0.677718  0.308529  0.014202   False\n",
       "2016-01-05  0.624073  0.500785  0.720940    True\n",
       "2016-01-02  0.163296  0.676220  0.746911   False\n",
       "2016-01-06  0.642954  0.854390  0.124858    True\n",
       "2016-01-03  0.952653  0.986626  0.262589   False"
      ]
     },
     "execution_count": 33,
     "metadata": {},
     "output_type": "execute_result"
    }
   ],
   "source": [
    "# Sort by Values\n",
    "df.sort_values(by='Column2')"
   ]
  },
  {
   "cell_type": "code",
   "execution_count": null,
   "metadata": {
    "collapsed": true
   },
   "outputs": [],
   "source": [
    "\"\"\"\n",
    "\n",
    "H) Join & Group\n",
    "\n",
    "\"\"\""
   ]
  },
  {
   "cell_type": "code",
   "execution_count": 63,
   "metadata": {
    "collapsed": false
   },
   "outputs": [
    {
     "data": {
      "text/html": [
       "<div>\n",
       "<table border=\"1\" class=\"dataframe\">\n",
       "  <thead>\n",
       "    <tr style=\"text-align: right;\">\n",
       "      <th></th>\n",
       "      <th>ColumnA</th>\n",
       "      <th>ColumnB</th>\n",
       "      <th>ColumnC</th>\n",
       "      <th>ColumnD</th>\n",
       "    </tr>\n",
       "  </thead>\n",
       "  <tbody>\n",
       "    <tr>\n",
       "      <th>2016-01-01</th>\n",
       "      <td>0.355089</td>\n",
       "      <td>0.420808</td>\n",
       "      <td>0.256223</td>\n",
       "      <td>0.499482</td>\n",
       "    </tr>\n",
       "    <tr>\n",
       "      <th>2016-01-02</th>\n",
       "      <td>0.095692</td>\n",
       "      <td>0.058396</td>\n",
       "      <td>0.778800</td>\n",
       "      <td>0.736791</td>\n",
       "    </tr>\n",
       "    <tr>\n",
       "      <th>2016-01-03</th>\n",
       "      <td>0.315886</td>\n",
       "      <td>0.616283</td>\n",
       "      <td>0.936973</td>\n",
       "      <td>0.501672</td>\n",
       "    </tr>\n",
       "    <tr>\n",
       "      <th>2016-01-04</th>\n",
       "      <td>0.285200</td>\n",
       "      <td>0.720212</td>\n",
       "      <td>0.947503</td>\n",
       "      <td>0.725805</td>\n",
       "    </tr>\n",
       "    <tr>\n",
       "      <th>2016-01-05</th>\n",
       "      <td>0.043504</td>\n",
       "      <td>0.713114</td>\n",
       "      <td>0.912118</td>\n",
       "      <td>0.461885</td>\n",
       "    </tr>\n",
       "    <tr>\n",
       "      <th>2016-01-06</th>\n",
       "      <td>0.930846</td>\n",
       "      <td>0.268288</td>\n",
       "      <td>0.100112</td>\n",
       "      <td>0.855001</td>\n",
       "    </tr>\n",
       "  </tbody>\n",
       "</table>\n",
       "</div>"
      ],
      "text/plain": [
       "             ColumnA   ColumnB   ColumnC   ColumnD\n",
       "2016-01-01  0.355089  0.420808  0.256223  0.499482\n",
       "2016-01-02  0.095692  0.058396  0.778800  0.736791\n",
       "2016-01-03  0.315886  0.616283  0.936973  0.501672\n",
       "2016-01-04  0.285200  0.720212  0.947503  0.725805\n",
       "2016-01-05  0.043504  0.713114  0.912118  0.461885\n",
       "2016-01-06  0.930846  0.268288  0.100112  0.855001"
      ]
     },
     "execution_count": 63,
     "metadata": {},
     "output_type": "execute_result"
    }
   ],
   "source": [
    "# Join\n",
    "data1 = np.random.random((6,2))\n",
    "data2 = np.random.random((6,2))\n",
    "df1 = pd.DataFrame(data1, index=dates, columns=['ColumnA', 'ColumnB'])\n",
    "df2 = pd.DataFrame(data2, index=dates, columns=['ColumnC', 'ColumnD'])\n",
    "df1.join(df2) # joins on the index, you can join on other columns with: pd.merge(df1, df2, on=\"column_name\", how='left')"
   ]
  },
  {
   "cell_type": "code",
   "execution_count": 69,
   "metadata": {
    "collapsed": false
   },
   "outputs": [
    {
     "data": {
      "text/html": [
       "<div>\n",
       "<table border=\"1\" class=\"dataframe\">\n",
       "  <thead>\n",
       "    <tr style=\"text-align: right;\">\n",
       "      <th></th>\n",
       "      <th></th>\n",
       "      <th>Column1</th>\n",
       "      <th>Column2</th>\n",
       "      <th>Column3</th>\n",
       "    </tr>\n",
       "    <tr>\n",
       "      <th>Column4</th>\n",
       "      <th></th>\n",
       "      <th></th>\n",
       "      <th></th>\n",
       "      <th></th>\n",
       "    </tr>\n",
       "  </thead>\n",
       "  <tbody>\n",
       "    <tr>\n",
       "      <th rowspan=\"3\" valign=\"top\">False</th>\n",
       "      <th>Column1</th>\n",
       "      <td>1.000000</td>\n",
       "      <td>0.296913</td>\n",
       "      <td>-0.771258</td>\n",
       "    </tr>\n",
       "    <tr>\n",
       "      <th>Column2</th>\n",
       "      <td>0.296913</td>\n",
       "      <td>1.000000</td>\n",
       "      <td>0.378822</td>\n",
       "    </tr>\n",
       "    <tr>\n",
       "      <th>Column3</th>\n",
       "      <td>-0.771258</td>\n",
       "      <td>0.378822</td>\n",
       "      <td>1.000000</td>\n",
       "    </tr>\n",
       "    <tr>\n",
       "      <th rowspan=\"3\" valign=\"top\">True</th>\n",
       "      <th>Column1</th>\n",
       "      <td>1.000000</td>\n",
       "      <td>-0.834305</td>\n",
       "      <td>0.146446</td>\n",
       "    </tr>\n",
       "    <tr>\n",
       "      <th>Column2</th>\n",
       "      <td>-0.834305</td>\n",
       "      <td>1.000000</td>\n",
       "      <td>-0.667540</td>\n",
       "    </tr>\n",
       "    <tr>\n",
       "      <th>Column3</th>\n",
       "      <td>0.146446</td>\n",
       "      <td>-0.667540</td>\n",
       "      <td>1.000000</td>\n",
       "    </tr>\n",
       "  </tbody>\n",
       "</table>\n",
       "</div>"
      ],
      "text/plain": [
       "                  Column1   Column2   Column3\n",
       "Column4                                      \n",
       "False   Column1  1.000000  0.296913 -0.771258\n",
       "        Column2  0.296913  1.000000  0.378822\n",
       "        Column3 -0.771258  0.378822  1.000000\n",
       "True    Column1  1.000000 -0.834305  0.146446\n",
       "        Column2 -0.834305  1.000000 -0.667540\n",
       "        Column3  0.146446 -0.667540  1.000000"
      ]
     },
     "execution_count": 69,
     "metadata": {},
     "output_type": "execute_result"
    }
   ],
   "source": [
    "# Group\n",
    "df.groupby('Column4').corr()"
   ]
  },
  {
   "cell_type": "code",
   "execution_count": null,
   "metadata": {
    "collapsed": true
   },
   "outputs": [],
   "source": [
    "\"\"\"\n",
    "\n",
    "More Resources\n",
    "\n",
    "http://pandas.pydata.org/pandas-docs/stable/10min.html#min\n",
    "\n",
    "http://pandas.pydata.org/pandas-docs/stable/tutorials.html\n",
    "\n",
    "\"\"\""
   ]
  }
 ],
 "metadata": {
  "kernelspec": {
   "display_name": "Python 2",
   "language": "python",
   "name": "python2"
  },
  "language_info": {
   "codemirror_mode": {
    "name": "ipython",
    "version": 2
   },
   "file_extension": ".py",
   "mimetype": "text/x-python",
   "name": "python",
   "nbconvert_exporter": "python",
   "pygments_lexer": "ipython2",
   "version": "2.7.11"
  }
 },
 "nbformat": 4,
 "nbformat_minor": 0
}
