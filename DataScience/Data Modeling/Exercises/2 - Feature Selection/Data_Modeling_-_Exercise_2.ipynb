{
 "cells": [
  {
   "cell_type": "markdown",
   "metadata": {},
   "source": [
    "# Question 1"
   ]
  },
  {
   "cell_type": "markdown",
   "metadata": {},
   "source": [
    "a) Download the \"Boston1.csv\" database, and explore the data. Explanation about the dataset can be found here: http://www.clemson.edu/economics/faculty/wilson/R-tutorial/analyzing_data.html\n",
    "\n",
    "Find the columns with missing values and filter them out of the data."
   ]
  },
  {
   "cell_type": "code",
   "execution_count": 3,
   "metadata": {
    "collapsed": false
   },
   "outputs": [],
   "source": [
    "import numpy as np\n",
    "import pandas as pd\n",
    "import scipy.stats as stats\n",
    "import matplotlib.pyplot as plt\n",
    "from sklearn import datasets, linear_model\n",
    "from sklearn.cross_validation  import train_test_split\n",
    "\n",
    "boston_df = pd.read_csv('Boston1.csv')\n",
    "\n",
    "# Reference http://chrisalbon.com/python/pandas_missing_data.html\n",
    "boston_df = boston_df.dropna()\n"
   ]
  },
  {
   "cell_type": "markdown",
   "metadata": {},
   "source": [
    "b) Divide the filtered data randomly into a train set (70% of the data) and test set (30% of the data)."
   ]
  },
  {
   "cell_type": "code",
   "execution_count": 5,
   "metadata": {
    "collapsed": false
   },
   "outputs": [
    {
     "data": {
      "text/html": [
       "<div>\n",
       "<table border=\"1\" class=\"dataframe\">\n",
       "  <thead>\n",
       "    <tr style=\"text-align: right;\">\n",
       "      <th></th>\n",
       "      <th>crim</th>\n",
       "      <th>zn</th>\n",
       "      <th>indus</th>\n",
       "      <th>chas</th>\n",
       "      <th>nox</th>\n",
       "      <th>rm</th>\n",
       "      <th>age</th>\n",
       "      <th>dis</th>\n",
       "      <th>rad</th>\n",
       "      <th>tax</th>\n",
       "      <th>ptratio</th>\n",
       "      <th>black</th>\n",
       "      <th>lstat</th>\n",
       "      <th>medv</th>\n",
       "      <th>randCol</th>\n",
       "      <th>misData</th>\n",
       "    </tr>\n",
       "  </thead>\n",
       "  <tbody>\n",
       "    <tr>\n",
       "      <th>40</th>\n",
       "      <td>0.03359</td>\n",
       "      <td>75.0</td>\n",
       "      <td>2.95</td>\n",
       "      <td>0</td>\n",
       "      <td>0.428</td>\n",
       "      <td>7.024</td>\n",
       "      <td>15.8</td>\n",
       "      <td>5.4011</td>\n",
       "      <td>3</td>\n",
       "      <td>252</td>\n",
       "      <td>18.3</td>\n",
       "      <td>395.62</td>\n",
       "      <td>1.98</td>\n",
       "      <td>34.9</td>\n",
       "      <td>0.169066</td>\n",
       "      <td>4.0</td>\n",
       "    </tr>\n",
       "    <tr>\n",
       "      <th>411</th>\n",
       "      <td>14.05070</td>\n",
       "      <td>0.0</td>\n",
       "      <td>18.10</td>\n",
       "      <td>0</td>\n",
       "      <td>0.597</td>\n",
       "      <td>6.657</td>\n",
       "      <td>100.0</td>\n",
       "      <td>1.5275</td>\n",
       "      <td>24</td>\n",
       "      <td>666</td>\n",
       "      <td>20.2</td>\n",
       "      <td>35.05</td>\n",
       "      <td>21.22</td>\n",
       "      <td>17.2</td>\n",
       "      <td>0.705740</td>\n",
       "      <td>4.0</td>\n",
       "    </tr>\n",
       "    <tr>\n",
       "      <th>44</th>\n",
       "      <td>0.12269</td>\n",
       "      <td>0.0</td>\n",
       "      <td>6.91</td>\n",
       "      <td>0</td>\n",
       "      <td>0.448</td>\n",
       "      <td>6.069</td>\n",
       "      <td>40.0</td>\n",
       "      <td>5.7209</td>\n",
       "      <td>3</td>\n",
       "      <td>233</td>\n",
       "      <td>17.9</td>\n",
       "      <td>389.39</td>\n",
       "      <td>9.55</td>\n",
       "      <td>21.2</td>\n",
       "      <td>0.820848</td>\n",
       "      <td>1.0</td>\n",
       "    </tr>\n",
       "    <tr>\n",
       "      <th>205</th>\n",
       "      <td>0.13642</td>\n",
       "      <td>0.0</td>\n",
       "      <td>10.59</td>\n",
       "      <td>0</td>\n",
       "      <td>0.489</td>\n",
       "      <td>5.891</td>\n",
       "      <td>22.3</td>\n",
       "      <td>3.9454</td>\n",
       "      <td>4</td>\n",
       "      <td>277</td>\n",
       "      <td>18.6</td>\n",
       "      <td>396.90</td>\n",
       "      <td>10.87</td>\n",
       "      <td>22.6</td>\n",
       "      <td>0.676513</td>\n",
       "      <td>1.0</td>\n",
       "    </tr>\n",
       "    <tr>\n",
       "      <th>202</th>\n",
       "      <td>0.02177</td>\n",
       "      <td>82.5</td>\n",
       "      <td>2.03</td>\n",
       "      <td>0</td>\n",
       "      <td>0.415</td>\n",
       "      <td>7.610</td>\n",
       "      <td>15.7</td>\n",
       "      <td>6.2700</td>\n",
       "      <td>2</td>\n",
       "      <td>348</td>\n",
       "      <td>14.7</td>\n",
       "      <td>395.38</td>\n",
       "      <td>3.11</td>\n",
       "      <td>42.3</td>\n",
       "      <td>0.145665</td>\n",
       "      <td>4.0</td>\n",
       "    </tr>\n",
       "  </tbody>\n",
       "</table>\n",
       "</div>"
      ],
      "text/plain": [
       "         crim    zn  indus  chas    nox     rm    age     dis  rad  tax  \\\n",
       "40    0.03359  75.0   2.95     0  0.428  7.024   15.8  5.4011    3  252   \n",
       "411  14.05070   0.0  18.10     0  0.597  6.657  100.0  1.5275   24  666   \n",
       "44    0.12269   0.0   6.91     0  0.448  6.069   40.0  5.7209    3  233   \n",
       "205   0.13642   0.0  10.59     0  0.489  5.891   22.3  3.9454    4  277   \n",
       "202   0.02177  82.5   2.03     0  0.415  7.610   15.7  6.2700    2  348   \n",
       "\n",
       "     ptratio   black  lstat  medv   randCol  misData  \n",
       "40      18.3  395.62   1.98  34.9  0.169066      4.0  \n",
       "411     20.2   35.05  21.22  17.2  0.705740      4.0  \n",
       "44      17.9  389.39   9.55  21.2  0.820848      1.0  \n",
       "205     18.6  396.90  10.87  22.6  0.676513      1.0  \n",
       "202     14.7  395.38   3.11  42.3  0.145665      4.0  "
      ]
     },
     "execution_count": 5,
     "metadata": {},
     "output_type": "execute_result"
    }
   ],
   "source": [
    "train, test = train_test_split(boston_df, test_size = 0.3)\n",
    "train.head(5)"
   ]
  },
  {
   "cell_type": "markdown",
   "metadata": {},
   "source": [
    "# Question 2"
   ]
  },
  {
   "cell_type": "markdown",
   "metadata": {},
   "source": [
    "If you haven't done this previously, install the scikit-learn package for python.\n",
    "\n",
    "a) On the train set, run a linear regression model as follows:\n",
    "Divide the training set into explanatory variables (the X matrix with which we'll try to make a prediction) and a target variable (y, the value which we'll try to predict). Use the 'medv' attribute as the target variable y and the rest of the features as the X matrix. Run a linear regression model on those sets, and print the regression coefficients. "
   ]
  },
  {
   "cell_type": "code",
   "execution_count": 6,
   "metadata": {
    "collapsed": false,
    "scrolled": false
   },
   "outputs": [
    {
     "name": "stdout",
     "output_type": "stream",
     "text": [
      "('Coefficients: \\n', array([ -6.17162693e-03,   1.03374071e-02,   3.55724567e+00,\n",
      "        -1.13604440e-01,  -1.57376266e+00,   2.96523427e-02,\n",
      "        -5.12179624e-01,  -1.89734420e+01,  -9.52433289e-01,\n",
      "         3.24835035e-01,   1.03462808e+00,   3.61428480e+00,\n",
      "        -1.16401237e-02,   4.41785947e-02]))\n"
     ]
    }
   ],
   "source": [
    "X_train = train[train.columns.difference([\"medv\"])]\n",
    "Y_train = train[\"medv\"]\n",
    "\n",
    "# Create linear regression object\n",
    "regr = linear_model.LinearRegression()\n",
    "\n",
    "# Train the model using the training sets\n",
    "regression_model = regr.fit(X_train, Y_train)\n",
    "\n",
    "# The coefficients\n",
    "print('Coefficients: \\n', regression_model.coef_)"
   ]
  },
  {
   "cell_type": "markdown",
   "metadata": {},
   "source": [
    "b) Use the linear regression model to predict the values of the test set's 'medv' column, based on the test set's other attributes. Print the Mean Squared Error of the model on the train set and on the test set."
   ]
  },
  {
   "cell_type": "code",
   "execution_count": 7,
   "metadata": {
    "collapsed": false,
    "scrolled": true
   },
   "outputs": [
    {
     "name": "stdout",
     "output_type": "stream",
     "text": [
      "Mean squared error - Train set : 22.66\n",
      "Mean squared error - Test set : 20.78\n"
     ]
    }
   ],
   "source": [
    "X_test = test[test.columns.difference([\"medv\"])]\n",
    "Y_test = test[\"medv\"]\n",
    "\n",
    "predicted_train_y = regr.predict(X_train)\n",
    "predicted_test_y = regr.predict(X_test)\n",
    "\n",
    "print(\"Mean squared error - Train set : %.2f\"\n",
    "      % np.mean((predicted_train_y - Y_train) ** 2))\n",
    "\n",
    "print(\"Mean squared error - Test set : %.2f\"\n",
    "      % np.mean((predicted_test_y - Y_test) ** 2))"
   ]
  },
  {
   "cell_type": "markdown",
   "metadata": {},
   "source": [
    "c) Usually, the MSE on the train set would be lower than the MSE on the test set, since the model parameters are optimized with respect to the train set. Is this the case in your output? Can you think of a reason why a regressor on a dataset would behave differently (i.e, the MSE on the test set would be smaller than on the train set)?"
   ]
  },
  {
   "cell_type": "code",
   "execution_count": 8,
   "metadata": {
    "collapsed": false
   },
   "outputs": [
    {
     "data": {
      "text/plain": [
       "'In the previous exercise the Train set generates a smaller MSE than in the Test set.\\n   Some reasons that might explain why the Test set would generate a smaller error in the training set \\n   could be that the training set has many of the harder cases to predict and  the test set has many of the easy cases\\n   '"
      ]
     },
     "execution_count": 8,
     "metadata": {},
     "output_type": "execute_result"
    }
   ],
   "source": [
    "\"\"\"In the previous exercise the Train set generates a smaller MSE than in the Test set.\n",
    "   Some reasons that might explain why the Test set would generate a smaller error in the training set \n",
    "   could be that the training set has many of the harder cases to predict and  the test set has many of the easy cases\n",
    "   \"\"\""
   ]
  },
  {
   "cell_type": "markdown",
   "metadata": {},
   "source": [
    "d) Add some noise (with mean=0, std=1) to the test set's y, and predict it again. What happened to the MSE? Why?"
   ]
  },
  {
   "cell_type": "code",
   "execution_count": 76,
   "metadata": {
    "collapsed": false
   },
   "outputs": [
    {
     "name": "stdout",
     "output_type": "stream",
     "text": [
      "Mean squared error - Test set : 25.42\n"
     ]
    },
    {
     "data": {
      "text/plain": [
       "'The MSE increased a little. This can be explained by the fact that our prediction model does not\\n    considered the noise added to our target variable when we trained it with the train set'"
      ]
     },
     "execution_count": 76,
     "metadata": {},
     "output_type": "execute_result"
    }
   ],
   "source": [
    "noise_y = np.random.normal(0,1,len(Y_test))\n",
    "Y_test_with_noise = Y_test + noise_y\n",
    "\n",
    "print(\"Mean squared error - Test set : %.2f\"\n",
    "      % np.mean((predicted_test_y - Y_test_with_noise) ** 2))\n",
    "\n",
    "\"\"\"The MSE increased a little. This can be explained by the fact that our prediction model does not\n",
    "    considered the noise added to our target variable when we trained it with the train set\"\"\""
   ]
  },
  {
   "cell_type": "markdown",
   "metadata": {
    "collapsed": true
   },
   "source": [
    "# Question 3"
   ]
  },
  {
   "cell_type": "markdown",
   "metadata": {},
   "source": [
    "a) Create a Recursive feature elimination model, with a linear regression estimator, that selects half of the original number of features. Hint: Check the feature_selection module in scikit-learn."
   ]
  },
  {
   "cell_type": "code",
   "execution_count": 91,
   "metadata": {
    "collapsed": false,
    "scrolled": true
   },
   "outputs": [
    {
     "name": "stdout",
     "output_type": "stream",
     "text": [
      "[6 8 1 4 1 2 1 1 1 3 1 1 7 5]\n",
      "selected features: Index([u'chas', u'dis', u'lstat', u'nox', u'ptratio', u'randCol', u'rm'], dtype='object')\n"
     ]
    }
   ],
   "source": [
    "from sklearn.feature_selection import RFE\n",
    "\n",
    "# create a base classifier used to evaluate a subset of attributes\n",
    "regr = linear_model.LinearRegression()\n",
    "\n",
    "# create the RFE model and select 3 attributes\n",
    "rfe = RFE(regr, len(X_train.columns)/2)\n",
    "rfe = rfe.fit(X_train, Y_train)\n",
    "# summarize the selection of the attributes\n",
    "print(rfe.ranking_)\n",
    "selected_features_index = rfe.support_\n",
    "print \"selected features:\",X_train.columns[selected_features_index]"
   ]
  },
  {
   "cell_type": "markdown",
   "metadata": {},
   "source": [
    "b) Use the feature elimination model on the full database (after filtering columns with missing values, before partitioning into train/test). Print the features that were selected. Remember that we separate the 'medv' attribute to be our y, while the rest of the attributes in the dataset serve as features to learn from."
   ]
  },
  {
   "cell_type": "code",
   "execution_count": 93,
   "metadata": {
    "collapsed": false
   },
   "outputs": [
    {
     "name": "stdout",
     "output_type": "stream",
     "text": [
      "[8 7 1 3 1 4 1 1 1 2 1 1 6 5]\n",
      "selected features: Index([u'chas', u'dis', u'lstat', u'nox', u'ptratio', u'randCol', u'rm'], dtype='object')\n"
     ]
    }
   ],
   "source": [
    "full_train_X = boston_df[boston_df.columns.difference([\"misData\", \"medv\"])]\n",
    "full_train_Y = boston_df[\"medv\"]\n",
    "\n",
    "# create a base classifier used to evaluate a subset of attributes\n",
    "regr = linear_model.LinearRegression()\n",
    "rfe = RFE(regr, len(full_train_X.columns)/2)\n",
    "rfe = rfe.fit(full_train_X, full_train_Y)\n",
    "\n",
    "# summarize the selection of the attributes\n",
    "print(rfe.ranking_)\n",
    "selected_features_index = rfe.support_\n",
    "print \"selected features:\",X_train.columns[selected_features_index]"
   ]
  },
  {
   "cell_type": "markdown",
   "metadata": {},
   "source": [
    "c) We'd like to find out the optimal number of features. Create feature elimination models (with linear regression estimators) for every number of features between 1 and n (where n = all the original features, 'medv' excluded). For each number of features, run a linear regression as in Question 2, only on the selected features, in order to predict 'medv'. Print/plot the Mean Sqaured Error for each number of features."
   ]
  },
  {
   "cell_type": "code",
   "execution_count": 154,
   "metadata": {
    "collapsed": false,
    "scrolled": false
   },
   "outputs": [
    {
     "data": {
      "image/png": "[encoded data removed]",
      "text/plain": [
       "<matplotlib.figure.Figure at 0xdefb358>"
      ]
     },
     "metadata": {},
     "output_type": "display_data"
    },
    {
     "data": {
      "image/png": "[encoded data removed]",
      "text/plain": [
       "<matplotlib.figure.Figure at 0xdf22978>"
      ]
     },
     "metadata": {},
     "output_type": "display_data"
    },
    {
     "name": "stdout",
     "output_type": "stream",
     "text": [
      "[70.33563901203419, 37.292205508119395, 34.82230438124524, 28.369095360130103, 26.900190768743784, 27.202079714307093, 24.10801900900635, 24.22273656747072, 24.066580170779588, 23.00197113755385, 22.747786584038565, 23.32199319701606, 23.31338034510546]\n"
     ]
    }
   ],
   "source": [
    "MSE_training_list = []\n",
    "MSE_test_list = []\n",
    "\n",
    "X_train = train[train.columns.difference([\"misData\",\"medv\"])]\n",
    "Y_train = train[\"medv\"]\n",
    "\n",
    "X_test = test[test.columns.difference([\"medv\",\"misData\"])]\n",
    "Y_test = test[\"medv\"]\n",
    "\n",
    "# Eliminating the target varibale and the missing table variable\n",
    "for ft_number in xrange(1, len(X_train.columns)):\n",
    "    \n",
    "    # Select \n",
    "    regr = linear_model.LinearRegression()\n",
    "    rfe = RFE(regr, ft_number)\n",
    "    rfe = rfe.fit(X_train, Y_train)\n",
    "    \n",
    "    selected_features_index = rfe.support_\n",
    "    selected_features = X_train.columns[selected_features_index]\n",
    "    train_X_only_selected_ft = X_train[selected_features]\n",
    "    \n",
    "    # Execute the prediction\n",
    "    regr = linear_model.LinearRegression()\n",
    "    regr.fit(train_X_only_selected_ft, Y_train)\n",
    "    \n",
    "    # Do for both the training and test set \n",
    "    predicted_train_y = regr.predict(train_X_only_selected_ft)\n",
    "    \n",
    "    test_X_only_selected_ft = X_test[selected_features]\n",
    "    predicted_test_y = regr.predict(test_X_only_selected_ft)\n",
    "    \n",
    "#     Print the MSE errors\n",
    "    temp_training_MSE = np.mean((predicted_train_y - Y_train) ** 2)\n",
    "    MSE_training_list.append(temp_training_MSE)\n",
    "    \n",
    "    temp_test_MSE = np.mean((predicted_test_y - Y_test) ** 2)\n",
    "    MSE_test_list.append(temp_test_MSE)\n",
    "    \n",
    "# Plot the Charts \n",
    "range_of_features = xrange(1,len(X_train.columns))\n",
    "\n",
    "plt.scatter(range_of_features, MSE_training_list, s=20, alpha=0.5)\n",
    "plt.suptitle('Training MSE')\n",
    "plt.xlabel('Number of Features')\n",
    "plt.ylabel('MSE')\n",
    "plt.show()\n",
    "\n",
    "plt.scatter(range_of_features, MSE_test_list, s=20, alpha=0.5)\n",
    "plt.suptitle('Test MSE')\n",
    "plt.xlabel('Number of Features')\n",
    "plt.ylabel('MSE')\n",
    "plt.show()\n",
    "\n",
    "print MSE_test_list\n",
    "    "
   ]
  },
  {
   "cell_type": "markdown",
   "metadata": {},
   "source": [
    "d) Conclude the optimal number of features for this task. Think about the cost of adding for data vs the benefit of a more accurate prediction. Explain your answer."
   ]
  },
  {
   "cell_type": "code",
   "execution_count": null,
   "metadata": {
    "collapsed": true
   },
   "outputs": [],
   "source": [
    "\"\"\"The lower MSE for the test set is generated from a prediction with 11 features,\n",
    "    but since we could taking into account the work for gathering new data and \n",
    "    that selecting 7 features the MSE would increase only aprox. 5% we could follow with\n",
    "    just 7 features in our prediction model..\n",
    "\"\"\""
   ]
  },
  {
   "cell_type": "markdown",
   "metadata": {},
   "source": [
    "# Question 4"
   ]
  },
  {
   "cell_type": "markdown",
   "metadata": {},
   "source": [
    "Perform a cross-validation of the linear regression on the train set with K=5. Print the CV scores for each repeat."
   ]
  },
  {
   "cell_type": "code",
   "execution_count": 171,
   "metadata": {
    "collapsed": false,
    "scrolled": false
   },
   "outputs": [
    {
     "name": "stdout",
     "output_type": "stream",
     "text": [
      "[ 0.67166865  0.81406687  0.79902521  0.58735083  0.59872062]\n"
     ]
    }
   ],
   "source": [
    "from sklearn import datasets, linear_model\n",
    "from sklearn.cross_validation import cross_val_score\n",
    "X_train = train[train.columns.difference([\"misData\",\"medv\"])]\n",
    "Y_train = train[\"medv\"]\n",
    "\n",
    "regr = linear_model.LinearRegression()\n",
    "scores = cross_val_score(regr, X_train, Y_train, cv=5)\n",
    "print scores"
   ]
  }
 ],
 "metadata": {
  "anaconda-cloud": {},
  "kernelspec": {
   "display_name": "Python [default]",
   "language": "python",
   "name": "python2"
  },
  "language_info": {
   "codemirror_mode": {
    "name": "ipython",
    "version": 2
   },
   "file_extension": ".py",
   "mimetype": "text/x-python",
   "name": "python",
   "nbconvert_exporter": "python",
   "pygments_lexer": "ipython2",
   "version": "2.7.12"
  }
 },
 "nbformat": 4,
 "nbformat_minor": 2
}
