{
 "cells": [
  {
   "cell_type": "markdown",
   "metadata": {
    "collapsed": true
   },
   "source": [
    "# K-means exercise\n",
    "In this exercise you are requested to implement the *k-means* algorithm, and run it on a dataset in order to find a good clustering model.\n",
    "\n",
    "K-Means is an algorithm that takes in a dataset and a constant\n",
    "k and returns k centroids (which define clusters of data in the\n",
    "dataset which are similar to one another)."
   ]
  },
  {
   "cell_type": "markdown",
   "metadata": {},
   "source": [
    "## Part I: implement k-means\n",
    "#### The following cell contains the algorithm in high level. You are required to create all the methods this code calls to."
   ]
  },
  {
   "cell_type": "code",
   "execution_count": 408,
   "metadata": {
    "collapsed": false
   },
   "outputs": [],
   "source": [
    "import numpy as np\n",
    "import random\n",
    "import math\n",
    "from sklearn.datasets.samples_generator import make_blobs, make_moons, make_circles\n",
    "from matplotlib import pyplot as plt\n",
    "from random import randint\n",
    "\n",
    "# style matplotlib\n",
    "import seaborn as se\n",
    "\n",
    "def Kmeans(dataSet, k):\n",
    "    MAX_ITERATIONS = 30\n",
    "    # Initialize centroids randomly\n",
    "    numFeatures = dataSet.getNumFeatures()\n",
    "    centroids = getRandomCentroids(numFeatures, k, dataSet.getData())\n",
    "    \n",
    "    # Initialize book keeping vars.\n",
    "    iterations = 0\n",
    "    oldCentroids = None\n",
    "    \n",
    "    # Run the main k-means algorithm\n",
    "    while not shouldStop(oldCentroids, centroids, iterations):\n",
    "        # Save old centroids for convergence test. Book keeping.\n",
    "        oldCentroids = centroids\n",
    "        iterations += 1\n",
    "        \n",
    "        # Assign labels to each datapoint based on centroids\n",
    "        labels = getLabels(dataSet, centroids)\n",
    "       \n",
    "        # Assign centroids based on datapoint labels\n",
    "        centroids = getCentroids(dataSet, labels, k)\n",
    "        \n",
    "#         print centroids\n",
    "\n",
    "    # We can get the labels too by calling getLabels(dataSet, centroids)\n",
    "    return (centroids, labels)"
   ]
  },
  {
   "cell_type": "markdown",
   "metadata": {},
   "source": [
    "### Methods to implement:"
   ]
  },
  {
   "cell_type": "code",
   "execution_count": 409,
   "metadata": {
    "collapsed": false
   },
   "outputs": [],
   "source": [
    "def shouldStop(oldCentroids, centroids, iterations):\n",
    "    ## Returns True or False if k-means is finished. K-means terminates either\n",
    "    ## because it has run a maximum number of iterations OR the centroids\n",
    "    ## stop changing. \n",
    "    \n",
    "    if iterations >= MAX_ITERATIONS: return True\n",
    "    if oldCentroids is None: return False\n",
    "    \n",
    "    for it in xrange(len(centroids)):\n",
    "        for c in xrange(len(centroids[it])):\n",
    "            if oldCentroids[it][c] != centroids[it][c]:\n",
    "                return False\n",
    "    return True"
   ]
  },
  {
   "cell_type": "code",
   "execution_count": 410,
   "metadata": {
    "collapsed": true
   },
   "outputs": [],
   "source": [
    "def getLabels(dataSet, centroids):\n",
    "    # For each element in the dataset, choose the closest centroid. \n",
    "    # Make that centroid the element's label.\n",
    "    \n",
    "    labels = []\n",
    "    dataSet = dataSet.getData()\n",
    "    for point in dataSet:\n",
    "        distances_array = []\n",
    "        for c in centroids:\n",
    "            temp_calc = [abs((x1-x2)**2)for x1,x2 in zip(point,c)]\n",
    "            if len(temp_calc) > 0:\n",
    "                total_distance = math.sqrt(sum(temp_calc))\n",
    "            else:\n",
    "                total_distance = 0\n",
    "            distances_array.append(total_distance)\n",
    "        point_label = distances_array.index(min(distances_array))\n",
    "        labels.append(point_label)\n",
    "        \n",
    "    return labels"
   ]
  },
  {
   "cell_type": "code",
   "execution_count": 411,
   "metadata": {
    "collapsed": false
   },
   "outputs": [],
   "source": [
    "def getCentroids(dataSet, labels, k):\n",
    "    # Each centroid is the geometric mean of the points that\n",
    "    # have that centroid's label. Important: If a centroid is empty (no points have\n",
    "    # that centroid's label) you should randomly re-initialize it.\n",
    "    \n",
    "    final_centroids = []\n",
    "    pre_calc_centroid_array = {}\n",
    "    \n",
    "    dataSet = dataSet.getData()\n",
    "    \n",
    "#   Initialize Dict\n",
    "    for lb in xrange(k):\n",
    "        pre_calc_centroid_array[lb] = []\n",
    "    \n",
    "    for idx, point in enumerate(dataSet):\n",
    "        pre_calc_centroid_array[labels[idx]].append(point) \n",
    "        \n",
    "#   Case in which label has no elements\n",
    "    for lb in xrange(k):\n",
    "        if len(pre_calc_centroid_array[lb]) == 0:\n",
    "            random_centroid = getRandomCentroids(len(dataSet[0]), 1, dataSet)[0]\n",
    "#             print type(random_centroid)\n",
    "            final_centroids.append(random_centroid)\n",
    "        else:\n",
    "            new_centroid = np.array(pre_calc_centroid_array[lb]).mean(axis=0)\n",
    "            final_centroids.append(new_centroid.tolist())\n",
    "         \n",
    "    return final_centroids\n"
   ]
  },
  {
   "cell_type": "code",
   "execution_count": 412,
   "metadata": {
    "collapsed": false
   },
   "outputs": [],
   "source": [
    "def getRandomCentroids(numFeatures, k, data):\n",
    "    ## Returns initial conditions for k means. numFeatuers is the dimension, k is the number of requested clusters.\n",
    "    ## use 'data' in order to find the min and max values for the random samples.\n",
    "    \n",
    "    dict_max_min = {}\n",
    "    for feat in xrange(numFeatures):\n",
    "        dict_max_min[str(feat)] = [min(data[feat]),max(data[feat])]\n",
    "    \n",
    "    final_centroid_array = []\n",
    "    for it in xrange(k):\n",
    "        new_centroid = []\n",
    "        for feat in xrange(numFeatures):\n",
    "            temp_rnd = round(random.uniform(dict_max_min[str(feat)][0], dict_max_min[str(feat)][1]), 3)\n",
    "            new_centroid.append(temp_rnd)\n",
    "        final_centroid_array.append(new_centroid)\n",
    "    \n",
    "    return final_centroid_array\n"
   ]
  },
  {
   "cell_type": "markdown",
   "metadata": {},
   "source": [
    "#### Dataset class \n",
    "(you may use it or not, up to you)"
   ]
  },
  {
   "cell_type": "code",
   "execution_count": 413,
   "metadata": {
    "collapsed": true
   },
   "outputs": [],
   "source": [
    "class dataSet:\n",
    "    \n",
    "    def __init__(self, X, labels):\n",
    "        self._X = X\n",
    "        self._labels = labels\n",
    "        self._numFeatures = X.shape[1]\n",
    "        self._numOfLabels = len(np.unique(labels))\n",
    "        \n",
    "    def getNumFeatures(self,):\n",
    "        return self._numFeatures \n",
    "    \n",
    "    def getLabels(self,):\n",
    "        return  self._labels\n",
    "    \n",
    "    def getData(self,):\n",
    "        return self._X  "
   ]
  },
  {
   "cell_type": "code",
   "execution_count": 414,
   "metadata": {
    "collapsed": true
   },
   "outputs": [],
   "source": [
    "def plotData(dataSet, labels):\n",
    "     colors = ['red', 'blue', 'yellow']\n",
    "     X = dataSet.getData()\n",
    "     unique_labels = np.unique(labels).tolist()\n",
    "     ax = plt.subplot(\"111\") \n",
    "     for labelI in unique_labels:\n",
    "        for ind in range(len(X)):\n",
    "            if labels[ind] == labelI:\n",
    "                sample = X[ind,:]\n",
    "                ax.scatter(sample[0],sample[1],color=colors[labelI]) \n",
    "     plt.show() "
   ]
  },
  {
   "cell_type": "markdown",
   "metadata": {},
   "source": [
    "#### Test run"
   ]
  },
  {
   "cell_type": "code",
   "execution_count": 415,
   "metadata": {
    "collapsed": false,
    "scrolled": false
   },
   "outputs": [
    {
     "name": "stdout",
     "output_type": "stream",
     "text": [
      "[0, 1, 2]\n",
      "[0, 1, 2]\n",
      "[0, 1, 2]\n"
     ]
    },
    {
     "data": {
      "image/png": "[encoded data removed]",
      "text/plain": [
       "<matplotlib.figure.Figure at 0xde35278>"
      ]
     },
     "metadata": {},
     "output_type": "display_data"
    }
   ],
   "source": [
    "from scipy.spatial import distance\n",
    "\n",
    "K = 3\n",
    "MAX_ITERATIONS = 3\n",
    "N = 100\n",
    "SCALE = 3\n",
    "\n",
    "X, labels          = make_blobs(n_samples= N * SCALE)\n",
    "ds                 = dataSet(X, labels)\n",
    "(centroids,labels) = Kmeans(ds, K)\n",
    "plotData(ds, labels)\n"
   ]
  },
  {
   "cell_type": "markdown",
   "metadata": {},
   "source": [
    "## Part II: Run k means on real data\n",
    "The Fisher Iris dataset consists of 4 features and a species column (\"setosa\",\"virginica\",\"versicolor\")\n",
    "load the dataset from the provided csv (\"iris.csv\")\n",
    "\n",
    "**Goal**: Find a set of features in which you can easily cluster the dataset into 3 clusters. Compare the clusters you've created with the provided Species column by creating a confusion matrix.\n",
    "\n",
    "Example code:"
   ]
  },
  {
   "cell_type": "code",
   "execution_count": 416,
   "metadata": {
    "collapsed": false,
    "scrolled": true
   },
   "outputs": [
    {
     "name": "stdout",
     "output_type": "stream",
     "text": [
      "[0, 1]\n",
      "[0, 1]\n",
      "[0, 1]\n"
     ]
    },
    {
     "data": {
      "image/png": "[encoded data removed]",
      "text/plain": [
       "<matplotlib.figure.Figure at 0xef5e3c8>"
      ]
     },
     "metadata": {},
     "output_type": "display_data"
    }
   ],
   "source": [
    "import pandas as pd\n",
    "X=pd.read_csv(r\"iris.csv\")\n",
    "X['Labels'] = pd.factorize(X.Species)[0]\n",
    "features = X[['Petal.Length','Petal.Width']].as_matrix()\n",
    "labels = X['Labels'].tolist()\n",
    "ds = dataSet(features,labels)\n",
    "K = 2\n",
    "(centroids,labels) = Kmeans(ds, K)\n",
    "plotData(ds, labels)\n"
   ]
  }
 ],
 "metadata": {
  "anaconda-cloud": {},
  "kernelspec": {
   "display_name": "Python [default]",
   "language": "python",
   "name": "python2"
  },
  "language_info": {
   "codemirror_mode": {
    "name": "ipython",
    "version": 2
   },
   "file_extension": ".py",
   "mimetype": "text/x-python",
   "name": "python",
   "nbconvert_exporter": "python",
   "pygments_lexer": "ipython2",
   "version": "2.7.12"
  }
 },
 "nbformat": 4,
 "nbformat_minor": 0
}
