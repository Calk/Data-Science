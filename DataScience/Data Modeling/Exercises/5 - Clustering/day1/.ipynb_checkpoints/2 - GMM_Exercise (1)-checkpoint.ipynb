{
 "cells": [
  {
   "cell_type": "code",
   "execution_count": 3,
   "metadata": {
    "collapsed": false
   },
   "outputs": [],
   "source": [
    "import numpy as np\n",
    "import random\n",
    "import operator\n",
    "import os\n",
    "\n",
    "from operator import itemgetter\n",
    "from sklearn.datasets.samples_generator import make_blobs, make_moons, make_circles\n",
    "from matplotlib import pyplot as plt\n",
    "\n",
    "import numpy as np\n",
    "import pandas as pd"
   ]
  },
  {
   "cell_type": "markdown",
   "metadata": {},
   "source": [
    "# Gaussian Mixture Model Exercise"
   ]
  },
  {
   "cell_type": "markdown",
   "metadata": {},
   "source": [
    "Now that you know all the theory, its time to get your hands dirty!\n",
    "You will be asked to implement your own version of the GMM clustering algorithm based on the the things you (hopefully) learned in class.  \n",
    "In order to test your algorithm, we will provide you an human brain MRI scan image and your task would be to segment the image into 3 different brain tissues: White Matter (WM), Gray Matter (GM) and Cerebrospinal Fluid (CSF).  \n",
    "If you want to know some more about the human brain structure, please refer to the following link:  \n",
    "https://en.wikipedia.org/wiki/Human_brain  \n",
    "\n",
    "In this part, we provide you a skeleton for implementation.\n",
    "The main function is called GMM(dataSet, k) and you should write the subliminary functions that it uses. These functions will include all of the relevant code for the GMM method.  \n",
    "\n",
    "But first, you will need to build the initialization functions. \n",
    "Please implement:  \n",
    "**getRandomMeans(numFeatures, k):** (you can use the provided getUniformRandom(feature) for help)  \n",
    "**getRandomCovariances(numFeatures, k):**  \n",
    "**getRandomWeights(k):**  \n",
    "\n",
    "Think of the following things:\n",
    "1. What are the scales of the features?\n",
    "2. Is it best to initialize the Gaussians with large or small covariance?\n",
    "3. What is the best initialization for the weights? Creative ways would be appreciated!\n"
   ]
  },
  {
   "cell_type": "markdown",
   "metadata": {},
   "source": [
    "1 - The features should be in a scale from 0 to 1 since the dataset should be normalized.\n",
    "\n",
    "2 - The covariance should be small but not so tiny that we do not have heat in our algo. \n",
    "\n",
    "3 - All the weights should sum up to 1, so we can sample the weight of features from a uniform distributions in a way that they respect this constraint."
   ]
  },
  {
   "cell_type": "code",
   "execution_count": 30,
   "metadata": {
    "collapsed": false
   },
   "outputs": [
    {
     "name": "stdout",
     "output_type": "stream",
     "text": [
      "[ 0.18825331  0.07184351  0.73990318]\n"
     ]
    }
   ],
   "source": [
    "def getUniformRandom(lower_boundary, higher_boundary):\n",
    "    return random.uniform(lower_boundary, higher_boundary)\n",
    "\n",
    "def getRandomMeans(numFeatures, k):\n",
    "    means = [getUniformRandom(0,1) for x in xrange(k)]\n",
    "    return  means\n",
    "\n",
    "def getRandomCovariances(numFeatures, k):\n",
    "    covs = [getUniformRandom(0.05,0.1) for x in xrange(k)]\n",
    "    return  covs  \n",
    "\n",
    "def getRandomWeights(k):\n",
    "    RWeights = np.random.dirichlet(np.ones(k),size=1)\n",
    "    return RWeights[0]"
   ]
  },
  {
   "cell_type": "markdown",
   "metadata": {},
   "source": [
    "Finished? good :)\n",
    "Now try and build the main block of funtions that will be the core of your algorithm:\n",
    "\n",
    "**def getWeightsPerSample(dataSet, weights, means, covariances):**      #Calculate the \"belonging\" factors  \n",
    "**def getWeights(weightsPerSample, k):**                                #Calculate the wieghts ofthe model  \n",
    "**def getMeans(dataSet, weightsPerSample, covariances):**               #Calculate the means of the model  \n",
    "**def getCovariances(dataSet, weightsPerSample, means):**               #Calculate the covariances of the model  \n",
    "\n",
    "Remember what we learned in class and \"follow the math\"...\n",
    "\n",
    "Think of potential problems that can accure (deviding by zero...anyone?)"
   ]
  },
  {
   "cell_type": "code",
   "execution_count": 52,
   "metadata": {
    "collapsed": false,
    "scrolled": true
   },
   "outputs": [
    {
     "name": "stdout",
     "output_type": "stream",
     "text": [
      "[[0.0009099309145067], [3.108056963663523e-08], [0.027609065324531164]]\n"
     ]
    }
   ],
   "source": [
    "from scipy.stats import multivariate_normal\n",
    "\n",
    "# This is the Tik parameyter of the presentation\n",
    "def getWeightsPerSample(dataSet, weights, means, covariances):\n",
    "    \n",
    "    weigthPerSample = []\n",
    "    for d in dataSet:\n",
    "        temp_T = []\n",
    "        total_result = 0\n",
    "        for k in xrange(len(weights)):\n",
    "            temp = weights[k]*multivariate_normal.pdf(d, mean=means[k], cov=covariances[k])\n",
    "            temp_T.append(temp)\n",
    "        temp_T = temp_T/np.sum(temp_T)\n",
    "        weigthPerSample.append(temp_T.tolist())\n",
    "        \n",
    "    return weigthPerSample\n",
    "\n",
    "def getMeans(dataSet, weightsPerSample, covariances):\n",
    "    \n",
    "    means = []\n",
    "    for k in xrange(len(covariances)):\n",
    "        result_k = 0\n",
    "        temp_denominator = 0\n",
    "        for idx, d in enumerate(dataSet):\n",
    "            result_k += d*weightsPerSample[idx][k]\n",
    "            temp_denominator += weightsPerSample[idx][k]\n",
    "        result_k = result_k/temp_denominator\n",
    "        means.append(result_k.tolist())\n",
    "    \n",
    "    return means   \n",
    "        \n",
    "def getCovariances(dataSet, weightsPerSample, means):\n",
    "    \n",
    "    covs = []\n",
    "    for k in xrange(len(means)):\n",
    "        result_k = 0\n",
    "        temp_denominator = 0\n",
    "        for idx, d in enumerate(dataSet):\n",
    "            result_k += (d-means[k])*(d-means[k])*weightsPerSample[idx][k]\n",
    "            temp_denominator += weightsPerSample[idx][k]\n",
    "        result_k = result_k/temp_denominator\n",
    "        covs.append(result_k.tolist())\n",
    "    \n",
    "    return covs   \n",
    "\n",
    "def getWeights(weightsPerSample, k_):\n",
    "    \n",
    "    weights = []\n",
    "    for k in xrange(k_):\n",
    "        result_k = 0\n",
    "        for idx, v in enumerate(weightsPerSample):\n",
    "            result_k += weightsPerSample[idx][k]\n",
    "        result_k = result_k/len(weightsPerSample)\n",
    "        weights.append(result_k)\n",
    "    \n",
    "    return weights \n",
    "\n",
    "# run GMM (and compare to histogram)\n",
    "# k = 3\n",
    "# dataSetClass = dataSet(X, labels)\n",
    "# dataSetTest = dataSet(X_full_size, labels)\n",
    "\n",
    "# numFeatures = dataSetClass.getNumFeatures()\n",
    "# means = getRandomMeans(numFeatures, k)\n",
    "# covariances = getRandomCovariances(numFeatures, k)\n",
    "# weights = getRandomWeights(k)\n",
    "\n",
    "# temp = getWeightsPerSample(dataSetClass.getData(), weights, means, covariances)\n",
    "# weights = getWeights(temp, k)\n",
    "# means = getMeans(dataSetClass.getData(), temp, covariances)\n",
    "# covs = getCovariances(dataSetClass.getData(), temp, means)\n",
    "# print covs\n",
    "\n",
    "#### If you want to see the temporal image histogram \n",
    "# x_values, x_axis = np.histogram(X,bins=20)\n",
    "# plt.plot(x_axis[1:21], x_values)\n",
    "# plt.show()\n",
    "\n",
    "# weights, means, covariances = GMM(dataSetClass, K)"
   ]
  },
  {
   "cell_type": "markdown",
   "metadata": {},
   "source": [
    "Please see the structure of the main function 'GMM' and the 'dataSet' class for storing the input data.  \n",
    "\n",
    "Note that currentlly the stopping condition of the EM algorithm is only the iteration number. after you finnish it all, and you think that you want to implement the log-likelihood based stopping function, feel very free to do so. "
   ]
  },
  {
   "cell_type": "code",
   "execution_count": 53,
   "metadata": {
    "collapsed": false
   },
   "outputs": [],
   "source": [
    "from scipy.spatial import distance\n",
    "from scipy.stats import multivariate_normal\n",
    "import sys\n",
    "\n",
    "MAX_ITERATIONS = 30 \n",
    "\n",
    "### Main Gaussian Mixture Model Function    \n",
    "def GMM(dataSet, k):  \n",
    "    # Initialize parameters randomly\n",
    "    numFeatures = dataSet.getNumFeatures()\n",
    "    means = getRandomMeans(numFeatures, k)\n",
    "    covariances = getRandomCovariances(numFeatures, k)\n",
    "    weights = getRandomWeights(k)\n",
    "    \n",
    "    # Initialize book keeping vars.\n",
    "    iterations = 0\n",
    "   \n",
    "    # Run the main GMM algorithm\n",
    "    weightsPerSampleDict  = {}\n",
    "    while not shouldStop(iterations):\n",
    "        iterations += 1\n",
    "        \n",
    "        weightsPerSample  = getWeightsPerSample(dataSet.getData(), weights, means, covariances)\n",
    "        weights           = getWeights(weightsPerSample, k)\n",
    "        means             = getMeans(dataSet.getData(), weightsPerSample, covariances)\n",
    "        covariances       = getCovariances(dataSet.getData(), weightsPerSample, means)\n",
    "        \n",
    "    print (iterations) \n",
    "    \n",
    "    return (weights, means, covariances)\n",
    "\n",
    "\n",
    "def likelihoodCondition(weightsOld,weightsNew,meansOld,meansNew,covOld,covNew):\n",
    "    return True\n",
    "\n",
    "def shouldStop(iterations):\n",
    "    if iterations > MAX_ITERATIONS:\n",
    "        return True\n",
    "    else:\n",
    "        return False\n",
    "    \n",
    "    \n",
    "#The main class the data set is stored in\n",
    "class dataSet:   \n",
    "    def __init__(self, X, labels):\n",
    "        self._X = X\n",
    "        self._labels = labels\n",
    "        self._numFeatures = X.shape[1]\n",
    "        self._numOfLabels = len(np.unique(labels))\n",
    "        \n",
    "    def getNumFeatures(self,):\n",
    "        return self._numFeatures \n",
    "    \n",
    "    def getLabels(self,):\n",
    "        return  self._labels\n",
    "    \n",
    "    def getData(self,):\n",
    "        return self._X\n"
   ]
  },
  {
   "cell_type": "markdown",
   "metadata": {},
   "source": [
    "You think you got what it takes?!\n",
    "\n",
    "Now let's try to cluster real data.\n",
    "Think of image intensity normaliztion and wherever it is needed for the algorithm.  \n",
    "\n",
    "The following section includes all the code for image reading and pre processing.   \n",
    "\n",
    "The MRI image in a 4d image with the sizes of [256,128,256,1].  \n",
    "Feel free to play with the image slices and watch the magnifisent beuty of the human brain :)"
   ]
  },
  {
   "cell_type": "markdown",
   "metadata": {},
   "source": [
    "**Please install package nibabel using pip**"
   ]
  },
  {
   "cell_type": "code",
   "execution_count": 54,
   "metadata": {
    "collapsed": false
   },
   "outputs": [],
   "source": [
    "from scipy.misc import toimage\n",
    "from matplotlib import pyplot as plt\n",
    "import os\n",
    "import numpy as np\n",
    "import nibabel as nib\n",
    "\n",
    "current_path = os.getcwd()\n",
    "\n",
    "# Read brain file\n",
    "example_filename = current_path + r\"\\\\IBSR_05_ana_strip.nii.gz\"\n",
    "img = nib.load(example_filename)\n",
    "img_data = img.get_data()\n",
    "\n",
    "# Read label file\n",
    "example_filename_label = current_path + r\"\\\\IBSR_05_segTRI_fill_ana.nii.gz\"\n",
    "img_label = nib.load(example_filename_label)\n",
    "img_data_label = img_label.get_data()\n",
    "\n",
    "# Take picture number 125 and make the image smaller\n",
    "partImage = img_data[40:215, :, 125, 0]\n",
    "partImageLabel = img_data_label[40:215, :, 125, 0]\n",
    "partShape = partImage.shape\n",
    "\n",
    "# Flatten the images and remove zero values\n",
    "imgFlatt = partImage.flatten()\n",
    "ix_no_zero = np.where(imgFlatt!=0)\n",
    "newImage = imgFlatt[ix_no_zero]\n",
    "ix_zero = np.where(imgFlatt==0)\n",
    "\n",
    "# Image intensity normaliztion\n",
    "X = (newImage - np.min(newImage))/(np.max(newImage) - np.min(newImage))\n",
    "X_full_size = (imgFlatt - np.min(newImage))/(np.max(newImage) - np.min(newImage))\n",
    "\n",
    "# Shape sizes calculations\n",
    "size = X.shape[0]\n",
    "size_full = X_full_size.shape[0]\n",
    "\n",
    "# Reshape the images for better fit\n",
    "X = X.reshape(size, 1)\n",
    "X_full_size = X_full_size.reshape(size_full, 1)\n",
    "\n",
    "labels = np.ones((size, 1))"
   ]
  },
  {
   "cell_type": "markdown",
   "metadata": {},
   "source": [
    "The following section includes the GMM process itself"
   ]
  },
  {
   "cell_type": "code",
   "execution_count": 56,
   "metadata": {
    "collapsed": false
   },
   "outputs": [
    {
     "data": {
      "image/png": "[encoded data removed]",
      "text/plain": [
       "<matplotlib.figure.Figure at 0xa3dc198>"
      ]
     },
     "metadata": {},
     "output_type": "display_data"
    },
    {
     "ename": "LinAlgError",
     "evalue": "singular matrix",
     "output_type": "error",
     "traceback": [
      "\u001b[0;31m---------------------------------------------------------------------------\u001b[0m",
      "\u001b[0;31mLinAlgError\u001b[0m                               Traceback (most recent call last)",
      "\u001b[0;32m<ipython-input-56-c2d4b07003b2>\u001b[0m in \u001b[0;36m<module>\u001b[0;34m()\u001b[0m\n\u001b[1;32m      9\u001b[0m \u001b[0mplt\u001b[0m\u001b[1;33m.\u001b[0m\u001b[0mshow\u001b[0m\u001b[1;33m(\u001b[0m\u001b[1;33m)\u001b[0m\u001b[1;33m\u001b[0m\u001b[0m\n\u001b[1;32m     10\u001b[0m \u001b[1;33m\u001b[0m\u001b[0m\n\u001b[0;32m---> 11\u001b[0;31m \u001b[0mweights\u001b[0m\u001b[1;33m,\u001b[0m \u001b[0mmeans\u001b[0m\u001b[1;33m,\u001b[0m \u001b[0mcovariances\u001b[0m \u001b[1;33m=\u001b[0m \u001b[0mGMM\u001b[0m\u001b[1;33m(\u001b[0m\u001b[0mdataSetClass\u001b[0m\u001b[1;33m,\u001b[0m \u001b[0mK\u001b[0m\u001b[1;33m)\u001b[0m\u001b[1;33m\u001b[0m\u001b[0m\n\u001b[0m",
      "\u001b[0;32m<ipython-input-53-d2c0c0af26b5>\u001b[0m in \u001b[0;36mGMM\u001b[0;34m(dataSet, k)\u001b[0m\n\u001b[1;32m     21\u001b[0m         \u001b[0miterations\u001b[0m \u001b[1;33m+=\u001b[0m \u001b[1;36m1\u001b[0m\u001b[1;33m\u001b[0m\u001b[0m\n\u001b[1;32m     22\u001b[0m \u001b[1;33m\u001b[0m\u001b[0m\n\u001b[0;32m---> 23\u001b[0;31m         \u001b[0mweightsPerSample\u001b[0m  \u001b[1;33m=\u001b[0m \u001b[0mgetWeightsPerSample\u001b[0m\u001b[1;33m(\u001b[0m\u001b[0mdataSet\u001b[0m\u001b[1;33m.\u001b[0m\u001b[0mgetData\u001b[0m\u001b[1;33m(\u001b[0m\u001b[1;33m)\u001b[0m\u001b[1;33m,\u001b[0m \u001b[0mweights\u001b[0m\u001b[1;33m,\u001b[0m \u001b[0mmeans\u001b[0m\u001b[1;33m,\u001b[0m \u001b[0mcovariances\u001b[0m\u001b[1;33m)\u001b[0m\u001b[1;33m\u001b[0m\u001b[0m\n\u001b[0m\u001b[1;32m     24\u001b[0m         \u001b[0mweights\u001b[0m           \u001b[1;33m=\u001b[0m \u001b[0mgetWeights\u001b[0m\u001b[1;33m(\u001b[0m\u001b[0mweightsPerSample\u001b[0m\u001b[1;33m,\u001b[0m \u001b[0mk\u001b[0m\u001b[1;33m)\u001b[0m\u001b[1;33m\u001b[0m\u001b[0m\n\u001b[1;32m     25\u001b[0m         \u001b[0mmeans\u001b[0m             \u001b[1;33m=\u001b[0m \u001b[0mgetMeans\u001b[0m\u001b[1;33m(\u001b[0m\u001b[0mdataSet\u001b[0m\u001b[1;33m.\u001b[0m\u001b[0mgetData\u001b[0m\u001b[1;33m(\u001b[0m\u001b[1;33m)\u001b[0m\u001b[1;33m,\u001b[0m \u001b[0mweightsPerSample\u001b[0m\u001b[1;33m,\u001b[0m \u001b[0mcovariances\u001b[0m\u001b[1;33m)\u001b[0m\u001b[1;33m\u001b[0m\u001b[0m\n",
      "\u001b[0;32m<ipython-input-52-ae03f4b96178>\u001b[0m in \u001b[0;36mgetWeightsPerSample\u001b[0;34m(dataSet, weights, means, covariances)\u001b[0m\n\u001b[1;32m      9\u001b[0m         \u001b[0mtotal_result\u001b[0m \u001b[1;33m=\u001b[0m \u001b[1;36m0\u001b[0m\u001b[1;33m\u001b[0m\u001b[0m\n\u001b[1;32m     10\u001b[0m         \u001b[1;32mfor\u001b[0m \u001b[0mk\u001b[0m \u001b[1;32min\u001b[0m \u001b[0mxrange\u001b[0m\u001b[1;33m(\u001b[0m\u001b[0mlen\u001b[0m\u001b[1;33m(\u001b[0m\u001b[0mweights\u001b[0m\u001b[1;33m)\u001b[0m\u001b[1;33m)\u001b[0m\u001b[1;33m:\u001b[0m\u001b[1;33m\u001b[0m\u001b[0m\n\u001b[0;32m---> 11\u001b[0;31m             \u001b[0mtemp\u001b[0m \u001b[1;33m=\u001b[0m \u001b[0mweights\u001b[0m\u001b[1;33m[\u001b[0m\u001b[0mk\u001b[0m\u001b[1;33m]\u001b[0m\u001b[1;33m*\u001b[0m\u001b[0mmultivariate_normal\u001b[0m\u001b[1;33m.\u001b[0m\u001b[0mpdf\u001b[0m\u001b[1;33m(\u001b[0m\u001b[0md\u001b[0m\u001b[1;33m,\u001b[0m \u001b[0mmean\u001b[0m\u001b[1;33m=\u001b[0m\u001b[0mmeans\u001b[0m\u001b[1;33m[\u001b[0m\u001b[0mk\u001b[0m\u001b[1;33m]\u001b[0m\u001b[1;33m,\u001b[0m \u001b[0mcov\u001b[0m\u001b[1;33m=\u001b[0m\u001b[0mcovariances\u001b[0m\u001b[1;33m[\u001b[0m\u001b[0mk\u001b[0m\u001b[1;33m]\u001b[0m\u001b[1;33m)\u001b[0m\u001b[1;33m\u001b[0m\u001b[0m\n\u001b[0m\u001b[1;32m     12\u001b[0m             \u001b[0mtemp_T\u001b[0m\u001b[1;33m.\u001b[0m\u001b[0mappend\u001b[0m\u001b[1;33m(\u001b[0m\u001b[0mtemp\u001b[0m\u001b[1;33m)\u001b[0m\u001b[1;33m\u001b[0m\u001b[0m\n\u001b[1;32m     13\u001b[0m         \u001b[0mtemp_T\u001b[0m \u001b[1;33m=\u001b[0m \u001b[0mtemp_T\u001b[0m\u001b[1;33m/\u001b[0m\u001b[0mnp\u001b[0m\u001b[1;33m.\u001b[0m\u001b[0msum\u001b[0m\u001b[1;33m(\u001b[0m\u001b[0mtemp_T\u001b[0m\u001b[1;33m)\u001b[0m\u001b[1;33m\u001b[0m\u001b[0m\n",
      "\u001b[0;32mC:\\Users\\itc_admin\\Anaconda2\\lib\\site-packages\\scipy\\stats\\_multivariate.pyc\u001b[0m in \u001b[0;36mpdf\u001b[0;34m(self, x, mean, cov, allow_singular)\u001b[0m\n\u001b[1;32m    502\u001b[0m         \u001b[0mdim\u001b[0m\u001b[1;33m,\u001b[0m \u001b[0mmean\u001b[0m\u001b[1;33m,\u001b[0m \u001b[0mcov\u001b[0m \u001b[1;33m=\u001b[0m \u001b[0mself\u001b[0m\u001b[1;33m.\u001b[0m\u001b[0m_process_parameters\u001b[0m\u001b[1;33m(\u001b[0m\u001b[0mNone\u001b[0m\u001b[1;33m,\u001b[0m \u001b[0mmean\u001b[0m\u001b[1;33m,\u001b[0m \u001b[0mcov\u001b[0m\u001b[1;33m)\u001b[0m\u001b[1;33m\u001b[0m\u001b[0m\n\u001b[1;32m    503\u001b[0m         \u001b[0mx\u001b[0m \u001b[1;33m=\u001b[0m \u001b[0mself\u001b[0m\u001b[1;33m.\u001b[0m\u001b[0m_process_quantiles\u001b[0m\u001b[1;33m(\u001b[0m\u001b[0mx\u001b[0m\u001b[1;33m,\u001b[0m \u001b[0mdim\u001b[0m\u001b[1;33m)\u001b[0m\u001b[1;33m\u001b[0m\u001b[0m\n\u001b[0;32m--> 504\u001b[0;31m         \u001b[0mpsd\u001b[0m \u001b[1;33m=\u001b[0m \u001b[0m_PSD\u001b[0m\u001b[1;33m(\u001b[0m\u001b[0mcov\u001b[0m\u001b[1;33m,\u001b[0m \u001b[0mallow_singular\u001b[0m\u001b[1;33m=\u001b[0m\u001b[0mallow_singular\u001b[0m\u001b[1;33m)\u001b[0m\u001b[1;33m\u001b[0m\u001b[0m\n\u001b[0m\u001b[1;32m    505\u001b[0m         \u001b[0mout\u001b[0m \u001b[1;33m=\u001b[0m \u001b[0mnp\u001b[0m\u001b[1;33m.\u001b[0m\u001b[0mexp\u001b[0m\u001b[1;33m(\u001b[0m\u001b[0mself\u001b[0m\u001b[1;33m.\u001b[0m\u001b[0m_logpdf\u001b[0m\u001b[1;33m(\u001b[0m\u001b[0mx\u001b[0m\u001b[1;33m,\u001b[0m \u001b[0mmean\u001b[0m\u001b[1;33m,\u001b[0m \u001b[0mpsd\u001b[0m\u001b[1;33m.\u001b[0m\u001b[0mU\u001b[0m\u001b[1;33m,\u001b[0m \u001b[0mpsd\u001b[0m\u001b[1;33m.\u001b[0m\u001b[0mlog_pdet\u001b[0m\u001b[1;33m,\u001b[0m \u001b[0mpsd\u001b[0m\u001b[1;33m.\u001b[0m\u001b[0mrank\u001b[0m\u001b[1;33m)\u001b[0m\u001b[1;33m)\u001b[0m\u001b[1;33m\u001b[0m\u001b[0m\n\u001b[1;32m    506\u001b[0m         \u001b[1;32mreturn\u001b[0m \u001b[0m_squeeze_output\u001b[0m\u001b[1;33m(\u001b[0m\u001b[0mout\u001b[0m\u001b[1;33m)\u001b[0m\u001b[1;33m\u001b[0m\u001b[0m\n",
      "\u001b[0;32mC:\\Users\\itc_admin\\Anaconda2\\lib\\site-packages\\scipy\\stats\\_multivariate.pyc\u001b[0m in \u001b[0;36m__init__\u001b[0;34m(self, M, cond, rcond, lower, check_finite, allow_singular)\u001b[0m\n\u001b[1;32m    153\u001b[0m         \u001b[0md\u001b[0m \u001b[1;33m=\u001b[0m \u001b[0ms\u001b[0m\u001b[1;33m[\u001b[0m\u001b[0ms\u001b[0m \u001b[1;33m>\u001b[0m \u001b[0meps\u001b[0m\u001b[1;33m]\u001b[0m\u001b[1;33m\u001b[0m\u001b[0m\n\u001b[1;32m    154\u001b[0m         \u001b[1;32mif\u001b[0m \u001b[0mlen\u001b[0m\u001b[1;33m(\u001b[0m\u001b[0md\u001b[0m\u001b[1;33m)\u001b[0m \u001b[1;33m<\u001b[0m \u001b[0mlen\u001b[0m\u001b[1;33m(\u001b[0m\u001b[0ms\u001b[0m\u001b[1;33m)\u001b[0m \u001b[1;32mand\u001b[0m \u001b[1;32mnot\u001b[0m \u001b[0mallow_singular\u001b[0m\u001b[1;33m:\u001b[0m\u001b[1;33m\u001b[0m\u001b[0m\n\u001b[0;32m--> 155\u001b[0;31m             \u001b[1;32mraise\u001b[0m \u001b[0mnp\u001b[0m\u001b[1;33m.\u001b[0m\u001b[0mlinalg\u001b[0m\u001b[1;33m.\u001b[0m\u001b[0mLinAlgError\u001b[0m\u001b[1;33m(\u001b[0m\u001b[1;34m'singular matrix'\u001b[0m\u001b[1;33m)\u001b[0m\u001b[1;33m\u001b[0m\u001b[0m\n\u001b[0m\u001b[1;32m    156\u001b[0m         \u001b[0ms_pinv\u001b[0m \u001b[1;33m=\u001b[0m \u001b[0m_pinv_1d\u001b[0m\u001b[1;33m(\u001b[0m\u001b[0ms\u001b[0m\u001b[1;33m,\u001b[0m \u001b[0meps\u001b[0m\u001b[1;33m)\u001b[0m\u001b[1;33m\u001b[0m\u001b[0m\n\u001b[1;32m    157\u001b[0m         \u001b[0mU\u001b[0m \u001b[1;33m=\u001b[0m \u001b[0mnp\u001b[0m\u001b[1;33m.\u001b[0m\u001b[0mmultiply\u001b[0m\u001b[1;33m(\u001b[0m\u001b[0mu\u001b[0m\u001b[1;33m,\u001b[0m \u001b[0mnp\u001b[0m\u001b[1;33m.\u001b[0m\u001b[0msqrt\u001b[0m\u001b[1;33m(\u001b[0m\u001b[0ms_pinv\u001b[0m\u001b[1;33m)\u001b[0m\u001b[1;33m)\u001b[0m\u001b[1;33m\u001b[0m\u001b[0m\n",
      "\u001b[0;31mLinAlgError\u001b[0m: singular matrix"
     ]
    }
   ],
   "source": [
    "# run GMM (and compare to histogram)\n",
    "K = 3\n",
    "dataSetClass = dataSet(X, labels)\n",
    "dataSetTest = dataSet(X_full_size, labels)\n",
    "\n",
    "#### If you want to see the temporal image histogram \n",
    "x_values, x_axis = np.histogram(X,bins=20)\n",
    "plt.plot(x_axis[1:21], x_values)\n",
    "plt.show()\n",
    "\n",
    "weights, means, covariances = GMM(dataSetClass, K)"
   ]
  },
  {
   "cell_type": "markdown",
   "metadata": {},
   "source": [
    "If you want to test your work and get the results.  \n",
    "Please use the current function:  \n",
    "\n",
    "(Note, the function will work on weightsPerSampleTest of type 'dict', if any other type used, please write the final for loop by yourself)"
   ]
  },
  {
   "cell_type": "code",
   "execution_count": 20,
   "metadata": {
    "collapsed": true
   },
   "outputs": [],
   "source": [
    "def testData(testSet, weights, means, covariances): \n",
    "    weightsPerSampleTest = getWeightsPerSample(testSet, weights, means, covariances)\n",
    "    X = testSet.getData()\n",
    "    n = len(X)\n",
    "    res = np.empty(0)\n",
    "    for i in range(n):\n",
    "        stats = weightsPerSampleTest[i]\n",
    "        res = np.append(res, max(stats.items(), key=operator.itemgetter(1))[0])\n",
    "    return res"
   ]
  },
  {
   "cell_type": "code",
   "execution_count": 21,
   "metadata": {
    "collapsed": false
   },
   "outputs": [
    {
     "ename": "NameError",
     "evalue": "name 'weights' is not defined",
     "output_type": "error",
     "traceback": [
      "\u001b[0;31m---------------------------------------------------------------------------\u001b[0m",
      "\u001b[0;31mNameError\u001b[0m                                 Traceback (most recent call last)",
      "\u001b[0;32m<ipython-input-21-758b7e9fdd05>\u001b[0m in \u001b[0;36m<module>\u001b[0;34m()\u001b[0m\n\u001b[1;32m      1\u001b[0m \u001b[1;31m# Test your code on the given image (Make sure the test function fits)\u001b[0m\u001b[1;33m\u001b[0m\u001b[1;33m\u001b[0m\u001b[0m\n\u001b[0;32m----> 2\u001b[0;31m \u001b[0md\u001b[0m \u001b[1;33m=\u001b[0m \u001b[0mtestData\u001b[0m\u001b[1;33m(\u001b[0m\u001b[0mdataSetTest\u001b[0m\u001b[1;33m,\u001b[0m \u001b[0mweights\u001b[0m\u001b[1;33m,\u001b[0m \u001b[0mmeans\u001b[0m\u001b[1;33m,\u001b[0m \u001b[0mcovariances\u001b[0m\u001b[1;33m)\u001b[0m\u001b[1;33m\u001b[0m\u001b[0m\n\u001b[0m\u001b[1;32m      3\u001b[0m \u001b[0md\u001b[0m\u001b[1;33m[\u001b[0m\u001b[0mix_zero\u001b[0m\u001b[1;33m]\u001b[0m \u001b[1;33m=\u001b[0m \u001b[1;36m3\u001b[0m\u001b[1;33m;\u001b[0m\u001b[1;33m\u001b[0m\u001b[0m\n\u001b[1;32m      4\u001b[0m \u001b[0md\u001b[0m \u001b[1;33m=\u001b[0m \u001b[0md\u001b[0m\u001b[1;33m.\u001b[0m\u001b[0mreshape\u001b[0m\u001b[1;33m(\u001b[0m\u001b[0mpartShape\u001b[0m\u001b[1;33m)\u001b[0m\u001b[1;33m\u001b[0m\u001b[0m\n",
      "\u001b[0;31mNameError\u001b[0m: name 'weights' is not defined"
     ]
    }
   ],
   "source": [
    "# Test your code on the given image (Make sure the test function fits)\n",
    "d = testData(dataSetTest, weights, means, covariances)\n",
    "d[ix_zero] = 3;\n",
    "d = d.reshape(partShape)"
   ]
  },
  {
   "cell_type": "markdown",
   "metadata": {},
   "source": [
    "If you want to visualize the images, please remove remarks from the relevant image. "
   ]
  },
  {
   "cell_type": "code",
   "execution_count": null,
   "metadata": {
    "collapsed": false
   },
   "outputs": [],
   "source": [
    "#### Show image intensity\n",
    "# plt.figure(1)\n",
    "# plt.imshow(partImage, cmap='gray')\n",
    "# plt.show()\n",
    "\n",
    "#### Show image labels\n",
    "# plt.figure(2)\n",
    "# plt.imshow(partImageLabel)\n",
    "# plt.show()\n",
    "\n",
    "#### Show image segmentation\n",
    "# plt.figure(3)\n",
    "# plt.imshow(d)\n",
    "# plt.show()"
   ]
  }
 ],
 "metadata": {
  "anaconda-cloud": {},
  "kernelspec": {
   "display_name": "Python [default]",
   "language": "python",
   "name": "python2"
  },
  "language_info": {
   "codemirror_mode": {
    "name": "ipython",
    "version": 2
   },
   "file_extension": ".py",
   "mimetype": "text/x-python",
   "name": "python",
   "nbconvert_exporter": "python",
   "pygments_lexer": "ipython2",
   "version": "2.7.12"
  }
 },
 "nbformat": 4,
 "nbformat_minor": 1
}
