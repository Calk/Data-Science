{
 "cells": [
  {
   "cell_type": "code",
   "execution_count": 5,
   "metadata": {
    "collapsed": false
   },
   "outputs": [],
   "source": [
    "from sklearn.datasets.samples_generator import make_blobs, make_moons, make_circles\n",
    "from matplotlib import pyplot as plt\n",
    "from sklearn.cluster import KMeans\n",
    "from sklearn.cluster import DBSCAN\n",
    "from sklearn.mixture import GMM\n",
    "from scipy.spatial import distance\n",
    "import sklearn.neighbors\n",
    "from sklearn.neighbors import DistanceMetric\n",
    "import numpy as np\n",
    "import pandas as pd\n",
    "import random\n",
    "import math\n",
    "\n",
    "baseSampleNum = 100\n",
    "scale = 1\n",
    "colors = ['red', 'blue', 'yellow']\n",
    "    "
   ]
  },
  {
   "cell_type": "code",
   "execution_count": 6,
   "metadata": {
    "collapsed": true
   },
   "outputs": [],
   "source": [
    "class dataSet: \n",
    "    def __init__(self, X, labels):\n",
    "        self._X = X\n",
    "        self._labels = labels\n",
    "        self._numFeatures = X.shape[1]\n",
    "        self._numOfLabels = len(np.unique(labels))\n",
    "        \n",
    "    def getNumFeatures(self):\n",
    "        return self._numFeatures \n",
    "    \n",
    "    def getLabels(self):\n",
    "        return  self._labels\n",
    "    \n",
    "    def getData(self):\n",
    "        return self._X"
   ]
  },
  {
   "cell_type": "code",
   "execution_count": 7,
   "metadata": {
    "collapsed": false
   },
   "outputs": [],
   "source": [
    "def generateUniformSamples(featuresNumber, N):\n",
    "    listDim = []\n",
    "    for i in range(featuresNumber):\n",
    "        x = np.random.uniform(0, 1, N)\n",
    "        listDim.append(x) \n",
    "    X = np.array(list(zip(listDim)))\n",
    "    return X[:, 0, :].T\n",
    "\n",
    "def plotData(data, labels):\n",
    "     colors = ['red', 'blue', 'yellow']\n",
    "     X = data\n",
    "     uniqueLabels = np.unique(labels).tolist()\n",
    "     ax = plt.subplot(\"111\") \n",
    "     for labelI in uniqueLabels:\n",
    "        for ind in range(len(X)):\n",
    "            if labels[ind] == labelI:\n",
    "                sample = X[ind,:]\n",
    "                ax.scatter(sample[0],sample[1],color=colors[labelI]) \n",
    "     plt.show()\n",
    "\n",
    "\n"
   ]
  },
  {
   "cell_type": "markdown",
   "metadata": {},
   "source": [
    "# Are there any real patterns in the data?\n",
    "## Test the hypothesis of the existence of clusters in the data against a uniformly homogeneously distributed dataset\n"
   ]
  },
  {
   "cell_type": "code",
   "execution_count": 19,
   "metadata": {
    "collapsed": false,
    "scrolled": true
   },
   "outputs": [],
   "source": [
    "def getHopkinsMetric(dataSet, n):\n",
    "    \"\"\"\n",
    "    Test the hypothesis of the existence of clusters in the data against a\n",
    "    uniformly homogeneously distributed dataset\n",
    "    If points are uniformly distributed then the value of H should be around 0.5 (because the\n",
    "    densities in the generated point’s areas should be similar to those of the sampled point’s\n",
    "    areas)\"\"\"\n",
    "    fn = dataSet.getNumFeatures()\n",
    "    X = dataSet.getData()\n",
    "    X2 = generateUniformSamples(fn, n)  \n",
    "    \n",
    "    distance_metric = DistanceMetric.get_metric('euclidean')\n",
    "    \n",
    "#   Calculate an array with all the euclidean distances between the points\n",
    "    dist_X = distance_metric.pairwise(X)\n",
    "    \n",
    "    s_d = 0\n",
    "    for i in xrange(n):\n",
    "        list_i = dist_X[i,:].tolist()\n",
    "#       Remove self distance which is zero and would harm the result\n",
    "        list_except_col_i = [list_i[ind] for ind in range(len(list_i)) if ind !=i ]\n",
    "        min_val = np.min(list_except_col_i)\n",
    "        s_d += min_val\n",
    "        \n",
    "    dist_X2_X0 = distance_metric.pairwise(X, X2)\n",
    "    s_g = 0\n",
    "    for i in range(n):\n",
    "        list_i = dist_X2_X0[i,:].tolist()\n",
    "        min_val = np.min(list_i)\n",
    "        s_g += min_val\n",
    "    \n",
    "    # calc HopkinsMetric \n",
    "    hopkins = ((s_d)/(s_g + s_d)) \n",
    "    return hopkins"
   ]
  },
  {
   "cell_type": "markdown",
   "metadata": {},
   "source": [
    "# How “good” are the clusters we found?\n",
    "## Silhouette Internal Index"
   ]
  },
  {
   "cell_type": "code",
   "execution_count": 38,
   "metadata": {
    "collapsed": false
   },
   "outputs": [],
   "source": [
    "# Help function \n",
    "def calcAiBi(i, X, predicted_labels):\n",
    "    \"\"\"Calculate ai = average distance of i to the points in its cluster\n",
    "    Calculate bi = min (average distance of i to points in another cluster)\"\"\"\n",
    "\n",
    "    n = len(predicted_labels)\n",
    "    distPerLabel = {}\n",
    "    averageDistPerLabel = {}\n",
    "    k = np.unique(predicted_labels)\n",
    "    for label in k:\n",
    "        distPerLabel[label] = []\n",
    "        \n",
    "#   i is the index of the point from which the averages will be calculated\n",
    "    x_i = X[i,:]\n",
    "    \n",
    "#   Get label for the point itself\n",
    "    label_i = predicted_labels[i]\n",
    "    dist = DistanceMetric.get_metric('euclidean')\n",
    "    dist_x_i = dist.pairwise([x_i],X)    \n",
    "    for ind_point in range(n):\n",
    "#       don't consider case in which distance is \n",
    "        if ind_point == i: continue\n",
    "        label_per_point =  predicted_labels[ind_point]\n",
    "        distPerLabel[label_per_point].append(dist_x_i[0, ind_point])\n",
    "        \n",
    "    for label in k:\n",
    "        averageDistPerLabel[label] = np.average(distPerLabel[label])\n",
    "\n",
    "    a_i = averageDistPerLabel[label_i]\n",
    "#   del averageDistPerLabel that the intent is to remove the variable from scope\n",
    "    del averageDistPerLabel[label_i]\n",
    "    b_i = np.min(list(averageDistPerLabel.values()))\n",
    "    return (a_i, b_i)    \n",
    "\n",
    "\n",
    "def getSilhouetteIndexKmeans(ds, n, k):\n",
    "    \"\"\"Results are between -1 and 1, with results closer to 1 indicating a better\n",
    "    clustering pattern\"\"\"\n",
    "    X                = ds.getData()\n",
    "    kmeans           = KMeans(n_clusters=k, random_state=0).fit(X)\n",
    "    predicted_labels = kmeans.labels_\n",
    "    \n",
    "    s_all = 0\n",
    "    for i in range(n):\n",
    "\n",
    "        a_i, b_i = calcAiBi(i, X, predicted_labels) \n",
    "        s_all += (b_i - a_i)/max(a_i, b_i)\n",
    "    s = s_all/n    \n",
    "    return s\n"
   ]
  },
  {
   "cell_type": "code",
   "execution_count": 43,
   "metadata": {
    "collapsed": false,
    "scrolled": true
   },
   "outputs": [
    {
     "name": "stdout",
     "output_type": "stream",
     "text": [
      "(100L, 2L)\n",
      "Hopkings Metric: 0.0437883643602\n",
      "Silhouette Index: 0.809631379561\n"
     ]
    },
    {
     "data": {
      "image/png": "[encoded data removed]",
      "text/plain": [
       "<matplotlib.figure.Figure at 0xe454748>"
      ]
     },
     "metadata": {},
     "output_type": "display_data"
    }
   ],
   "source": [
    "K = 3\n",
    "N = 100\n",
    "X, labels = make_blobs(n_samples = N) # Generate isotropic Gaussian blobs for clustering.\n",
    "ds                 = dataSet(X, labels)\n",
    "\n",
    "print X.shape\n",
    "# Getting lower value for Hopkings means that at least there are some pattern in the data\n",
    "print \"Hopkings Metric:\", getHopkinsMetric(ds,N)\n",
    "print \"Silhouette Index:\", getSilhouetteIndexKmeans(ds, N, K)\n",
    "\n",
    "plotData(X, labels)"
   ]
  }
 ],
 "metadata": {
  "anaconda-cloud": {},
  "kernelspec": {
   "display_name": "Python [conda root]",
   "language": "python",
   "name": "conda-root-py"
  },
  "language_info": {
   "codemirror_mode": {
    "name": "ipython",
    "version": 2
   },
   "file_extension": ".py",
   "mimetype": "text/x-python",
   "name": "python",
   "nbconvert_exporter": "python",
   "pygments_lexer": "ipython2",
   "version": "2.7.12"
  }
 },
 "nbformat": 4,
 "nbformat_minor": 1
}
