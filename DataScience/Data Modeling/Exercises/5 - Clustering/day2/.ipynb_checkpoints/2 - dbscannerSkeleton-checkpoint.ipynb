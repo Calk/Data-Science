{
 "cells": [
  {
   "cell_type": "code",
   "execution_count": 25,
   "metadata": {
    "collapsed": true
   },
   "outputs": [],
   "source": [
    "from pylab import *\n",
    "import io"
   ]
  },
  {
   "cell_type": "code",
   "execution_count": 41,
   "metadata": {
    "collapsed": false
   },
   "outputs": [],
   "source": [
    "def getData():\n",
    "    Data = []\n",
    "#     with io.open(csv, encoding='utf-8', errors='ignore') as f:\n",
    "# shutil.copyfileobj(source, target)\n",
    "    with io.open(dataPath, mode='rt', encoding='utf-8') as f:\n",
    "        reader = csv.reader(f)\n",
    "        for row in reader:\n",
    "            #row = re.split(r'\\t+',row[0])\n",
    "            Data.append([float(row[0]),float(row[1])])\n",
    "            \n",
    "    f = open(configPath,'r')\n",
    "    \n",
    "    [eps,MinPts] = parse(f.readline())\n",
    "    \n",
    "    print (eps,MinPts)\n",
    "    \n",
    "    return [Data,eps,MinPts]\n",
    "\n",
    "def parse(line):\n",
    "    data = line.split(\" \")\n",
    "    return [int(data[0]),int(data[1])]\n",
    "    \n",
    "            "
   ]
  },
  {
   "cell_type": "code",
   "execution_count": 10,
   "metadata": {
    "collapsed": true
   },
   "outputs": [],
   "source": [
    "class cluster:\n",
    "    \"\"\"Cluster model as a class\"\"\"\n",
    "    \n",
    "    pList = []\n",
    "    X = []\n",
    "    Y = []\n",
    "    name = \"\"\n",
    "    \n",
    "    def __init__(self,name):\n",
    "        self.name = name\n",
    "        self.pList = []\n",
    "        self.X = []\n",
    "        self.Y = []\n",
    "    \n",
    "    def addPoint(self,point):\n",
    "        self.pList.append(point)\n",
    "        self.X.append(point[0])\n",
    "        self.Y.append(point[1])\n",
    "\n",
    "    def getPoints(self):\n",
    "        return self.pList\n",
    "    \n",
    "    def erase(self):\n",
    "        self.pList = []\n",
    "    \n",
    "    def getX(self):\n",
    "        return self.X\n",
    "    \n",
    "    def getY(self):\n",
    "        return self.Y\n",
    "    \n",
    "    def has(self,point):\n",
    "        \n",
    "        if point in self.pList:\n",
    "            return True\n",
    "        \n",
    "        return False\n",
    "        \n",
    "    def printPoints(self):\n",
    "        print (self.name+' Points:')\n",
    "        print ('-----------------')\n",
    "        print (self.pList)\n",
    "        print (len(self.pList))\n",
    "        print ('-----------------')"
   ]
  },
  {
   "cell_type": "code",
   "execution_count": 11,
   "metadata": {
    "collapsed": true
   },
   "outputs": [],
   "source": [
    "class dbscanner:\n",
    "    \n",
    "    dataSet = []\n",
    "    count = 0\n",
    "    visited = []\n",
    "    member = []\n",
    "    Clusters = []\n",
    "    \n",
    "    def dbscan(self, D, eps, MinPts):\n",
    "#       Treating the dbscanner as a class\n",
    "        self.dataSet = D\n",
    "        \n",
    "        title(r'DBSCAN Algorithm', fontsize=18)\n",
    "        xlabel(r'Dim 1',fontsize=17)\n",
    "        ylabel(r'Dim 2', fontsize=17)\n",
    "\n",
    "        C = -1\n",
    "        \n",
    "#       Just instantiating a new cluster called noise\n",
    "        Noise = cluster('Noise')\n",
    "        \n",
    "        for point in D:\n",
    "#           self.visited stores points already visited\n",
    "            if point not in self.visited:\n",
    "                self.visited.append(point)\n",
    "            \n",
    "#               Get all the points that respect the  epsilon criteria relative to point\n",
    "                NeighbourPoints = self.regionQuery(point,eps)\n",
    "                \n",
    "                if len(NeighbourPoints) < MinPts:\n",
    "                    Noise.addPoint(point)\n",
    "                else:\n",
    "                    name = 'Cluster'+str(self.count);\n",
    "                    C = cluster(name)\n",
    "                    self.count+=1;\n",
    "                    \"\"\"Cluster model as a class\"\"\"\n",
    "                    self.expandCluster(point,NeighbourPoints,C,eps,MinPts)\n",
    "                    \n",
    "                    plot(C.getX(),C.getY(),'o',label=name)\n",
    "                    \n",
    "#                   hold is a command using for hold the appearance of the chart\n",
    "                    hold(True)\n",
    "        \n",
    "        if len(Noise.getPoints())!=0:\n",
    "            plot(Noise.getX(),Noise.getY(),'x',label='Noise')\n",
    "            \n",
    "        hold(False)\n",
    "        legend(loc='lower left')\n",
    "        grid(True)\n",
    "        show()\n",
    "            \n",
    "    def expandCluster(self,point,NeighbourPoints,C,eps,MinPts):\n",
    "        \"\"\"Expand recursively the neighborhood of p \n",
    "        allocating or not the the neighbors to the\n",
    "        C cluster depending on eps and MinPts\"\"\"\n",
    "        \n",
    "#       Add point being expanded to the cluster that has just been created \n",
    "        C.addPoint(point)\n",
    "        \n",
    "        for p in NeighbourPoints:\n",
    "            \"\"\"Even with the regionQuery not treating the case of comparing p with itself, \n",
    "               the p will be in the in the self.visited list\"\"\"\n",
    "            if p not in self.visited:\n",
    "                self.visited.append(p)\n",
    "                np = self.regionQuery(p,eps)\n",
    "                if len(np) >= MinPts:\n",
    "                    for n in np:\n",
    "                        if n not in NeighbourPoints:\n",
    "#                           Expand nodes that respect MinPts criteria as well\n",
    "                            NeighbourPoints.append(n)\n",
    "    \n",
    "#           Verify if p is already present in another cluster\n",
    "            for c in self.Clusters:\n",
    "                if not c.has(p):\n",
    "                    if not C.has(p):\n",
    "                        C.addPoint(p)\n",
    "            \n",
    "#           One of the initial cases where self.Clusters is empty\n",
    "            if len(self.Clusters) == 0:\n",
    "                if not C.has(p):\n",
    "                    C.addPoint(p)\n",
    "\n",
    "        self.Clusters.append(C)\n",
    "                \n",
    "    def regionQuery(self, P, eps):\n",
    "        \"\"\"return all the points that respect the epsilon criteria\"\"\"\n",
    "        result = []\n",
    "        for d in self.dataSet:\n",
    "            if (((d[0]-P[0])**2 + (d[1] - P[1])**2)**0.5)<=eps:\n",
    "                result.append(d)\n",
    "        return result\n",
    "  "
   ]
  },
  {
   "cell_type": "code",
   "execution_count": 42,
   "metadata": {
    "collapsed": false
   },
   "outputs": [
    {
     "name": "stdout",
     "output_type": "stream",
     "text": [
      "DBScan Parameters - eps,MinPts 3\n"
     ]
    },
    {
     "data": {
      "image/png": "[encoded data removed]",
      "text/plain": [
       "<matplotlib.figure.Figure at 0x81df550>"
      ]
     },
     "metadata": {},
     "output_type": "display_data"
    }
   ],
   "source": [
    "import csv\n",
    "import re\n",
    "import os\n",
    "\n",
    "dir = os.getcwd()\n",
    "\n",
    "configPath = dir + r\"\\config.txt\"\n",
    "dataPath = dir + r\"/abc.csv\"\n",
    "\n",
    "def main():\n",
    "    [Data,eps,MinPts]= getData()\n",
    "    dbc = dbscanner()\n",
    "    dbc.dbscan(Data, eps, MinPts)\n",
    "        \n",
    "main()    "
   ]
  },
  {
   "cell_type": "code",
   "execution_count": null,
   "metadata": {
    "collapsed": true
   },
   "outputs": [],
   "source": []
  }
 ],
 "metadata": {
  "anaconda-cloud": {},
  "kernelspec": {
   "display_name": "Python [conda root]",
   "language": "python",
   "name": "conda-root-py"
  },
  "language_info": {
   "codemirror_mode": {
    "name": "ipython",
    "version": 2
   },
   "file_extension": ".py",
   "mimetype": "text/x-python",
   "name": "python",
   "nbconvert_exporter": "python",
   "pygments_lexer": "ipython2",
   "version": "2.7.12"
  }
 },
 "nbformat": 4,
 "nbformat_minor": 1
}
