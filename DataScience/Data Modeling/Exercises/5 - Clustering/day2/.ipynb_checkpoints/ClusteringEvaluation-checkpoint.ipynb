{
 "cells": [
  {
   "cell_type": "code",
   "execution_count": 30,
   "metadata": {
    "collapsed": false
   },
   "outputs": [],
   "source": [
    "from sklearn.datasets.samples_generator import make_blobs, make_moons, make_circles\n",
    "from matplotlib import pyplot as plt\n",
    "from sklearn.cluster import KMeans\n",
    "from sklearn.cluster import DBSCAN\n",
    "from sklearn.mixture import GMM\n",
    "from scipy.spatial import distance\n",
    "import sklearn.neighbors\n",
    "from sklearn.neighbors import DistanceMetric\n",
    "import numpy as np\n",
    "import pandas as pd\n",
    "import random\n",
    "\n",
    "baseSampleNum = 100\n",
    "scale = 1\n",
    "colors = ['red', 'blue', 'yellow']\n",
    "    \n",
    "    \n",
    "    "
   ]
  },
  {
   "cell_type": "code",
   "execution_count": 69,
   "metadata": {
    "collapsed": true
   },
   "outputs": [],
   "source": [
    "class dataSet: \n",
    "    def __init__(self, X, labels):\n",
    "        self._X = X\n",
    "        self._labels = labels\n",
    "        self._numFeatures = X.shape[1]\n",
    "        self._numOfLabels = len(np.unique(labels))\n",
    "        \n",
    "    def getNumFeatures(self):\n",
    "        return self._numFeatures \n",
    "    \n",
    "    def getLabels(self):\n",
    "        return  self._labels\n",
    "    \n",
    "    def getData(self):\n",
    "        return self._X"
   ]
  },
  {
   "cell_type": "code",
   "execution_count": 70,
   "metadata": {
    "collapsed": false
   },
   "outputs": [],
   "source": [
    "def generateUniformSamples(featuresNumber, N):\n",
    "    listDim = []\n",
    "    for i in range(featuresNumber):\n",
    "        x = np.random.uniform(0, 1, N)\n",
    "        listDim.append(x) \n",
    "    X = np.array(list(zip(listDim)))\n",
    "    return X[:, 0, :].T\n",
    "\n",
    "def plotData2(data, labels):\n",
    "     colors = ['red', 'blue', 'yellow']\n",
    "     X = data\n",
    "     unique_labels = np.unique(labels).tolist()\n",
    "     ax = plt.subplot(\"111\") \n",
    "     for labelI in unique_labels:\n",
    "        for ind in range(len(X)):\n",
    "            if labels[ind] == labelI:\n",
    "                sample = X[ind,:]\n",
    "                ax.scatter(sample[0],sample[1],color=colors[labelI]) \n",
    "     plt.show()\n",
    "    \n",
    "def calcAiBi(i, X, predicted_labels): \n",
    "    n = len(predicted_labels)\n",
    "    distPerLabel = {}\n",
    "    averageDistPerLabel = {}\n",
    "    k = np.unique(predicted_labels)\n",
    "    for label in k:\n",
    "        distPerLabel[label] = []\n",
    "    x_i = X[i,:]\n",
    "    label_i = predicted_labels[i]\n",
    "    dist = DistanceMetric.get_metric('euclidean')\n",
    "    dist_x_i = dist.pairwise([x_i],X)    \n",
    "    for ind_point in range(n):\n",
    "        if ind_point == i: continue\n",
    "        label_per_point =  predicted_labels[ind_point]\n",
    "        distPerLabel[label_per_point].append(dist_x_i[0, ind_point])\n",
    "        \n",
    "    for label in k:\n",
    "        averageDistPerLabel[label] = np.average(distPerLabel[label])\n",
    "\n",
    "    a_i = averageDistPerLabel[label_i]\n",
    "    del averageDistPerLabel[label_i]\n",
    "    b_i = np.min(list(averageDistPerLabel.values()))\n",
    "    return (a_i, b_i)    "
   ]
  },
  {
   "cell_type": "markdown",
   "metadata": {},
   "source": [
    "# Are there any real patterns in the data?\n",
    "## Test the hypothesis of the existence of clusters in the data against a uniformly homogeneously distributed dataset\n"
   ]
  },
  {
   "cell_type": "code",
   "execution_count": 71,
   "metadata": {
    "collapsed": false
   },
   "outputs": [],
   "source": [
    "def hopkins(dataSet, n):\n",
    "    fn = dataSet.getNumFeatures()\n",
    "    X = dataSet.getData()\n",
    "    dist = DistanceMetric.get_metric('euclidean')\n",
    "    dist_X = dist.pairwise(X)\n",
    "    s_d = 0\n",
    "    for i in range(n):\n",
    "        list_i = dist_X[i,:].tolist()\n",
    "        list_except_col_i = [list_i[ind] for ind in range(len(list_i)) if ind !=i ]\n",
    "        min_val = np.min(list_except_col_i)\n",
    "        s_d += min_val\n",
    "\n",
    "    X2 = generateUniformSamples(fn, n)    \n",
    "    dist_X2_X0 = dist.pairwise(X, X2)\n",
    "    s_g = 0\n",
    "    for i in range(n):\n",
    "        list_i = dist_X2_X0[i,:].tolist()\n",
    "        min_val = np.min(list_i)\n",
    "        s_g += min_val\n",
    "\n",
    "    hop = ((s_d)/(s_g + s_d)) \n",
    "    return hop\n"
   ]
  },
  {
   "cell_type": "markdown",
   "metadata": {},
   "source": [
    "# How “good” are the clusters we found?\n",
    "## Silhouette Internal Index"
   ]
  },
  {
   "cell_type": "code",
   "execution_count": 78,
   "metadata": {
    "collapsed": true
   },
   "outputs": [],
   "source": [
    "def getSilhouetteIndexKmeans(ds, n, k):\n",
    "#     K = number_of_real_clusters-1\n",
    "    X = ds.getData()\n",
    "    kmeans = KMeans(n_clusters=k, random_state=0).fit(X)\n",
    "    predicted_labels = kmeans.labels_\n",
    "    s_all = 0\n",
    "    for i in range(n):\n",
    "        a_i, b_i = calcAiBi(i, X, predicted_labels) \n",
    "        s_all += (b_i - a_i)/max(a_i, b_i)\n",
    "    s = s_all/n    \n",
    "    return s\n",
    "    "
   ]
  },
  {
   "cell_type": "code",
   "execution_count": 115,
   "metadata": {
    "collapsed": false
   },
   "outputs": [
    {
     "name": "stdout",
     "output_type": "stream",
     "text": [
      "0.601195783355\n"
     ]
    }
   ],
   "source": [
    "K = 3\n",
    "MAX_ITERATIONS = 3\n",
    "N = 100\n",
    "SCALE = 3\n",
    "X, labels          = make_blobs(n_samples= N * SCALE)\n",
    "# X = generateUniformSamples(2, N)   \n",
    "ds                 = dataSet(X, labels)\n",
    "hopkins(ds,N)\n",
    "\n"
   ]
  },
  {
   "cell_type": "code",
   "execution_count": 122,
   "metadata": {
    "collapsed": false
   },
   "outputs": [
    {
     "name": "stdout",
     "output_type": "stream",
     "text": [
      "0.580044445603\n"
     ]
    }
   ],
   "source": [
    "silhouetteIndex = getSilhouetteIndexKmeans(ds, N, K+1)\n",
    "print (silhouetteIndex)"
   ]
  },
  {
   "cell_type": "code",
   "execution_count": 116,
   "metadata": {
    "collapsed": false
   },
   "outputs": [
    {
     "data": {
      "image/png": "[encoded data removed]",
      "text/plain": [
       "<matplotlib.figure.Figure at 0x208d027ff60>"
      ]
     },
     "metadata": {},
     "output_type": "display_data"
    }
   ],
   "source": [
    "plotData2(X, labels)\n"
   ]
  }
 ],
 "metadata": {
  "anaconda-cloud": {},
  "kernelspec": {
   "display_name": "Python [conda root]",
   "language": "python",
   "name": "conda-root-py"
  },
  "language_info": {
   "codemirror_mode": {
    "name": "ipython",
    "version": 2
   },
   "file_extension": ".py",
   "mimetype": "text/x-python",
   "name": "python",
   "nbconvert_exporter": "python",
   "pygments_lexer": "ipython2",
   "version": "2.7.12"
  }
 },
 "nbformat": 4,
 "nbformat_minor": 1
}
