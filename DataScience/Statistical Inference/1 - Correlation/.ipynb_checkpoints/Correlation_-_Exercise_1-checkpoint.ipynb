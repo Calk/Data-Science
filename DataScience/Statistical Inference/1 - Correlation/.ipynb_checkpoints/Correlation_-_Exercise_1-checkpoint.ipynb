{
 "cells": [
  {
   "cell_type": "markdown",
   "metadata": {},
   "source": [
    "# Question 1\n",
    "\n",
    "## Q1.1 generate data:\n",
    "(a) $X$ uniform samples between -1 and 1, $X = -1, -0.99, \\ldots, 0.99, 1$\n",
    " \n",
    "(b) $Y = 2\\cdot X$\n",
    " \n",
    "(c) $n_1$ samples from a normal random variable with mean 0 and variance 0.01\n",
    " \n",
    "$\\hspace{5cm} X' = X + n_1$\n",
    "\n",
    "(d) $n_2$ samples from a normal random variable with mean 0 and variance 0.01\n",
    " \n",
    "$\\hspace{5cm} Y' = y + n_2$\n"
   ]
  },
  {
   "cell_type": "code",
   "execution_count": 2,
   "metadata": {
    "collapsed": false
   },
   "outputs": [],
   "source": [
    "import numpy as np\n",
    "\n",
    "x = np.arange(-1,1,0.01)\n",
    "# print x\n",
    "\n",
    "y = x*2\n",
    "# print y\n",
    "\n",
    "# The standard deviation its the square of the variation\n",
    "mu, sigma = 0, 0.1\n",
    "n1 = np.random.normal(mu,sigma, 200)\n",
    "x_ = x + n1\n",
    "\n",
    "mu, sigma = 0, 0.1\n",
    "n2 = np.random.normal(mu,sigma, 200)\n",
    "y_ = y + n2\n",
    "\n"
   ]
  },
  {
   "cell_type": "markdown",
   "metadata": {},
   "source": [
    "## Q1.2\n",
    "Are $X'$ and $Y'$ statistically dependent? what type of dependence? how can you show that? \n",
    "\n",
    "show it"
   ]
  },
  {
   "cell_type": "markdown",
   "metadata": {},
   "source": [
    "$X'$ and $Y'$ are are positive linearly dependent because the correlation between the two random variables is $0.98271774$ which is statistically relevant. This means that when variable increase the other tends to increase as well."
   ]
  },
  {
   "cell_type": "code",
   "execution_count": 6,
   "metadata": {
    "collapsed": false
   },
   "outputs": [
    {
     "data": {
      "text/plain": [
       "0.98271773664077677"
      ]
     },
     "execution_count": 6,
     "metadata": {},
     "output_type": "execute_result"
    }
   ],
   "source": [
    "np.corrcoef(x_,y_)[0][1]\n"
   ]
  }
 ],
 "metadata": {
  "anaconda-cloud": {},
  "kernelspec": {
   "display_name": "Python [default]",
   "language": "python",
   "name": "python2"
  },
  "language_info": {
   "codemirror_mode": {
    "name": "ipython",
    "version": 2
   },
   "file_extension": ".py",
   "mimetype": "text/x-python",
   "name": "python",
   "nbconvert_exporter": "python",
   "pygments_lexer": "ipython2",
   "version": "2.7.12"
  }
 },
 "nbformat": 4,
 "nbformat_minor": 0
}
