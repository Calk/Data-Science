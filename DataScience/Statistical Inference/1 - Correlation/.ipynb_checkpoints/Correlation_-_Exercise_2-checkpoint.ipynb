{
 "cells": [
  {
   "cell_type": "markdown",
   "metadata": {},
   "source": [
    "# Question 1\n",
    "\n",
    "## Q1.1 generate data:\n",
    "(a) $X$ uniform samples between -1 and 1, $X = -1, -0.99, \\ldots, 0.99, 1$\n",
    " \n",
    "(b) $Y = 2\\cdot X$\n",
    " \n",
    "(c) $n_1$ samples from a normal random variable with mean 0 and variance 0.01\n",
    " \n",
    "$\\hspace{5cm} X' = X + n_1$\n",
    "\n",
    "(d) $n_2$ samples from a normal random variable with mean 0 and variance 0.01\n",
    " \n",
    "$\\hspace{5cm} Y' = y + n_2$\n"
   ]
  },
  {
   "cell_type": "code",
   "execution_count": 7,
   "metadata": {
    "collapsed": true
   },
   "outputs": [],
   "source": [
    "import numpy as np\n",
    "\n",
    "x = np.arange(-1,1,0.01)\n",
    "# print x\n",
    "\n",
    "y = x*2\n",
    "# print y\n",
    "\n",
    "# The standard deviation its the square of the variation\n",
    "mu, sigma = 0, 0.1\n",
    "n1 = np.random.normal(mu,sigma, 200)\n",
    "x_ = x + n1\n",
    "\n",
    "mu, sigma = 0, 0.1\n",
    "n2 = np.random.normal(mu,sigma, 200)\n",
    "y_ = y + n2\n"
   ]
  },
  {
   "cell_type": "markdown",
   "metadata": {},
   "source": [
    "$X'$ and $Y'$ are are positive linearly dependent because the correlation between the two random variables is $0.98271774$ which is statistically relevant. This means that when variable increase the other tends to increase as well."
   ]
  },
  {
   "cell_type": "code",
   "execution_count": 3,
   "metadata": {
    "collapsed": false
   },
   "outputs": [
    {
     "data": {
      "text/plain": [
       "0.98100542656260492"
      ]
     },
     "execution_count": 3,
     "metadata": {},
     "output_type": "execute_result"
    }
   ],
   "source": [
    "np.corrcoef(x_,y_)[0][1]\n"
   ]
  },
  {
   "cell_type": "markdown",
   "metadata": {},
   "source": [
    "# Question 2\n"
   ]
  },
  {
   "cell_type": "markdown",
   "metadata": {},
   "source": [
    "Load the data in movie_rating.csv into a dataframe. The data consists of critic ratings and people votes for a set of 20 movies.\n",
    "## Q2.1\n",
    "Compute the linear correlation between critic ratings and people votes"
   ]
  },
  {
   "cell_type": "code",
   "execution_count": 8,
   "metadata": {
    "collapsed": false,
    "scrolled": true
   },
   "outputs": [
    {
     "data": {
      "text/html": [
       "<div>\n",
       "<table border=\"1\" class=\"dataframe\">\n",
       "  <thead>\n",
       "    <tr style=\"text-align: right;\">\n",
       "      <th></th>\n",
       "      <th>people_vote</th>\n",
       "      <th>rating</th>\n",
       "    </tr>\n",
       "  </thead>\n",
       "  <tbody>\n",
       "    <tr>\n",
       "      <th>people_vote</th>\n",
       "      <td>1.000000</td>\n",
       "      <td>0.336953</td>\n",
       "    </tr>\n",
       "    <tr>\n",
       "      <th>rating</th>\n",
       "      <td>0.336953</td>\n",
       "      <td>1.000000</td>\n",
       "    </tr>\n",
       "  </tbody>\n",
       "</table>\n",
       "</div>"
      ],
      "text/plain": [
       "             people_vote    rating\n",
       "people_vote     1.000000  0.336953\n",
       "rating          0.336953  1.000000"
      ]
     },
     "execution_count": 8,
     "metadata": {},
     "output_type": "execute_result"
    }
   ],
   "source": [
    "import pandas as pd\n",
    "\n",
    "movie_data = pd.read_csv('movie_rating.csv', usecols=['people_vote','rating'])\n",
    "# print movie_data\n",
    "movie_data.corr()\n"
   ]
  },
  {
   "cell_type": "markdown",
   "metadata": {},
   "source": [
    "## Q2.2\n",
    "(a) To explore the connection between critic ratings and people votes, draw them against each other in a scatter plot."
   ]
  },
  {
   "cell_type": "code",
   "execution_count": 4,
   "metadata": {
    "collapsed": false
   },
   "outputs": [
    {
     "data": {
      "text/plain": [
       "<matplotlib.figure.Figure at 0x2a8c198>"
      ]
     },
     "metadata": {},
     "output_type": "display_data"
    },
    {
     "data": {
      "text/plain": [
       "<matplotlib.figure.Figure at 0x790a5c0>"
      ]
     },
     "metadata": {},
     "output_type": "display_data"
    },
    {
     "data": {
      "text/plain": [
       "<matplotlib.figure.Figure at 0x995e4e0>"
      ]
     },
     "metadata": {},
     "output_type": "display_data"
    },
    {
     "data": {
      "image/png": "[encoded data removed]",
      "text/plain": [
       "<matplotlib.figure.Figure at 0x995e978>"
      ]
     },
     "metadata": {},
     "output_type": "display_data"
    }
   ],
   "source": [
    "import matplotlib.pyplot as plt\n",
    "\n",
    "plt.figure()\n",
    "movie_data.plot(kind='scatter', x='rating', y='people_vote')\n",
    "plt.show()\n"
   ]
  },
  {
   "cell_type": "markdown",
   "metadata": {},
   "source": [
    "(b) Create a new data frame, with all the movies, except the one with the lowest people vote. Compute the linear correlation."
   ]
  },
  {
   "cell_type": "code",
   "execution_count": 11,
   "metadata": {
    "collapsed": false
   },
   "outputs": [
    {
     "data": {
      "text/html": [
       "<div>\n",
       "<table border=\"1\" class=\"dataframe\">\n",
       "  <thead>\n",
       "    <tr style=\"text-align: right;\">\n",
       "      <th></th>\n",
       "      <th>people_vote</th>\n",
       "      <th>rating</th>\n",
       "    </tr>\n",
       "  </thead>\n",
       "  <tbody>\n",
       "    <tr>\n",
       "      <th>people_vote</th>\n",
       "      <td>1.000000</td>\n",
       "      <td>0.860947</td>\n",
       "    </tr>\n",
       "    <tr>\n",
       "      <th>rating</th>\n",
       "      <td>0.860947</td>\n",
       "      <td>1.000000</td>\n",
       "    </tr>\n",
       "  </tbody>\n",
       "</table>\n",
       "</div>"
      ],
      "text/plain": [
       "             people_vote    rating\n",
       "people_vote     1.000000  0.860947\n",
       "rating          0.860947  1.000000"
      ]
     },
     "execution_count": 11,
     "metadata": {},
     "output_type": "execute_result"
    }
   ],
   "source": [
    "lower_people_value = min(movie_data['people_vote'])\n",
    "\n",
    "# Condition Criteria\n",
    "new_movie_data = movie_data[movie_data['people_vote'] > lower_people_value]\n",
    "# print new_movie_data\n",
    "new_movie_data.corr()"
   ]
  },
  {
   "cell_type": "markdown",
   "metadata": {},
   "source": [
    "(c) Draw a scatter plot for the movies selected. Is there a linear connection? "
   ]
  },
  {
   "cell_type": "code",
   "execution_count": 62,
   "metadata": {
    "collapsed": false
   },
   "outputs": [
    {
     "data": {
      "image/png": "[encoded data removed]",
      "text/plain": [
       "<matplotlib.figure.Figure at 0xab3f748>"
      ]
     },
     "metadata": {},
     "output_type": "display_data"
    },
    {
     "name": "stdout",
     "output_type": "stream",
     "text": [
      "             people_vote    rating\n",
      "people_vote     1.000000  0.860947\n",
      "rating          0.860947  1.000000\n"
     ]
    }
   ],
   "source": [
    "new_people_array = np.array(new_movie_data['people_vote'])\n",
    "new_rating_array = np.array(new_movie_data['rating'])\n",
    "plt.scatter(new_rating_array, new_people_array, s=20, alpha=0.5)\n",
    "plt.suptitle('Scatter Plot 2')\n",
    "plt.xlabel('People')\n",
    "plt.ylabel('Ratings')\n",
    "plt.show()\n",
    "\n",
    "new_movie_data.corr()"
   ]
  },
  {
   "cell_type": "markdown",
   "metadata": {},
   "source": [
    "Yes, there is a linear positive correlation, which means that when one increase the other tends to increase as well. Just by eliminating the outlier, the correlation between the two random variables increased from $0.336953$ to $0.860947$."
   ]
  },
  {
   "cell_type": "markdown",
   "metadata": {},
   "source": [
    "(d) Congragulations you've encountered an outlier, a data point so far from the others, keeping it may adversely affect results. \n",
    "Linear correlation is sensitive to distance. Handling outliers is important and most cases are harder than this one, due to complexity (hunderds of variables), size (thousands of movies), etc. In this case a possible remedy would be to use order statistics or ranks (1st, 2nd,...).\n",
    "\n",
    "$$\n",
    "\\small\n",
    "X=\\{100,0, 15, 50\\}\n",
    "\\rightarrow\n",
    "rank(X)=\\{4, 1, 2, 3\\}\n",
    "$$\n",
    "\n",
    "Create a new data frame for all movies with all critic ratings replaced by their rank and the same for people vote. Draw a scatter plot, and compute the linear correlation."
   ]
  },
  {
   "cell_type": "code",
   "execution_count": 77,
   "metadata": {
    "collapsed": false
   },
   "outputs": [
    {
     "data": {
      "image/png": "[encoded data removed]",
      "text/plain": [
       "<matplotlib.figure.Figure at 0xae99668>"
      ]
     },
     "metadata": {},
     "output_type": "display_data"
    },
    {
     "data": {
      "text/html": [
       "<div>\n",
       "<table border=\"1\" class=\"dataframe\">\n",
       "  <thead>\n",
       "    <tr style=\"text-align: right;\">\n",
       "      <th></th>\n",
       "      <th>people_vote</th>\n",
       "      <th>rating</th>\n",
       "    </tr>\n",
       "  </thead>\n",
       "  <tbody>\n",
       "    <tr>\n",
       "      <th>people_vote</th>\n",
       "      <td>1.000000</td>\n",
       "      <td>0.724812</td>\n",
       "    </tr>\n",
       "    <tr>\n",
       "      <th>rating</th>\n",
       "      <td>0.724812</td>\n",
       "      <td>1.000000</td>\n",
       "    </tr>\n",
       "  </tbody>\n",
       "</table>\n",
       "</div>"
      ],
      "text/plain": [
       "             people_vote    rating\n",
       "people_vote     1.000000  0.724812\n",
       "rating          0.724812  1.000000"
      ]
     },
     "execution_count": 77,
     "metadata": {},
     "output_type": "execute_result"
    }
   ],
   "source": [
    "movie_data_ranked = movie_data.rank()\n",
    "\n",
    "ranked_people_array = np.array(movie_data_ranked['people_vote'])\n",
    "ranked_rating_array = np.array(movie_data_ranked['rating'])\n",
    "plt.scatter(ranked_rating_array, ranked_people_array, s=20, alpha=0.5)\n",
    "plt.suptitle('Scatter Plot 3')\n",
    "plt.xlabel('People')\n",
    "plt.ylabel('Ratings')\n",
    "plt.show()\n",
    "\n",
    "movie_data_ranked.corr()"
   ]
  },
  {
   "cell_type": "markdown",
   "metadata": {},
   "source": [
    "Correlation over ranks is named Spearman correlation."
   ]
  }
 ],
 "metadata": {
  "anaconda-cloud": {},
  "kernelspec": {
   "display_name": "Python [default]",
   "language": "python",
   "name": "python2"
  },
  "language_info": {
   "codemirror_mode": {
    "name": "ipython",
    "version": 2
   },
   "file_extension": ".py",
   "mimetype": "text/x-python",
   "name": "python",
   "nbconvert_exporter": "python",
   "pygments_lexer": "ipython2",
   "version": "2.7.12"
  }
 },
 "nbformat": 4,
 "nbformat_minor": 0
}
