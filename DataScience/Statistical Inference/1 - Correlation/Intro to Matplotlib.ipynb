{
 "cells": [
  {
   "cell_type": "code",
   "execution_count": null,
   "metadata": {
    "collapsed": true
   },
   "outputs": [],
   "source": [
    "\"\"\" \n",
    "Intro to Matplotlib\n",
    "\n",
    "\n",
    "\n",
    "\n",
    "\n",
    "\n",
    "Main object: Figure\n",
    "\n",
    "Description: Visualization library\n",
    "\n",
    "Details:\n",
    "    1) There is a MATLAB-ish API but I'm not going to cover it, it's just so you know\n",
    "    2) We will focus on object oriented API that way we can create as many figures as we want!\n",
    "    \n",
    "\"\"\""
   ]
  },
  {
   "cell_type": "code",
   "execution_count": null,
   "metadata": {
    "collapsed": true
   },
   "outputs": [],
   "source": [
    "\"\"\"\n",
    "Outline\n",
    "\n",
    "\n",
    "\n",
    "\n",
    "A) Figure (with figure size)\n",
    "\n",
    "B) Legends\n",
    "\n",
    "C) Colors, Linewidths, & Linetypes\n",
    "\n",
    "D) Axes Range & Tick Marks\n",
    "\n",
    "E) Subplots\n",
    "\"\"\" "
   ]
  },
  {
   "cell_type": "code",
   "execution_count": 8,
   "metadata": {
    "collapsed": true
   },
   "outputs": [],
   "source": [
    "import matplotlib.pyplot as plt\n",
    "import numpy as np"
   ]
  },
  {
   "cell_type": "code",
   "execution_count": null,
   "metadata": {
    "collapsed": true
   },
   "outputs": [],
   "source": [
    "\"\"\"\n",
    "\n",
    "A) Figure\n",
    "\n",
    "\"\"\""
   ]
  },
  {
   "cell_type": "code",
   "execution_count": 44,
   "metadata": {
    "collapsed": false,
    "scrolled": true
   },
   "outputs": [],
   "source": [
    "# Here is what we want to plot\n",
    "x = np.array([1,2,3,4,5,6])\n",
    "y = np.array([1,4,9,16,25,36])\n",
    "\n",
    "# Make the figure object (basically a blank canvas)\n",
    "fig1 = plt.figure(figsize=(8,5), dpi=100) # figsize & dpi are optional\n",
    "                                          # figsize: width and height of the figure in inches\n",
    "                                          # dpi: is the dots-per-inch (pixel per inch)\n",
    "                                          # this makes an 800x500 pixel image\n",
    "\n",
    "# Important methods\n",
    "axes1 = fig1.add_axes([0.1, 0.1, 0.8, 0.8]) # left, bottom, width, height (range 0 to 1)\n",
    "                                            # can add multiple axes, but need to explicitly place them, easier to use subplots\n",
    "axes1.set_xlabel('x')\n",
    "axes1.set_ylabel('y')\n",
    "axes1.set_title(\"File1\")\n",
    "axes1.plot(x, y)\n",
    "fig1.savefig(\"file1.jpg\")"
   ]
  },
  {
   "cell_type": "code",
   "execution_count": null,
   "metadata": {
    "collapsed": true
   },
   "outputs": [],
   "source": [
    "\"\"\"\n",
    "\n",
    "B) Legends\n",
    "\n",
    "\"\"\""
   ]
  },
  {
   "cell_type": "code",
   "execution_count": 29,
   "metadata": {
    "collapsed": false
   },
   "outputs": [
    {
     "name": "stderr",
     "output_type": "stream",
     "text": [
      "C:\\Users\\ljglass\\Anaconda2\\lib\\site-packages\\matplotlib\\pyplot.py:516: RuntimeWarning: More than 20 figures have been opened. Figures created through the pyplot interface (`matplotlib.pyplot.figure`) are retained until explicitly closed and may consume too much memory. (To control this warning, see the rcParam `figure.max_open_warning`).\n",
      "  max_open_warning, RuntimeWarning)\n"
     ]
    }
   ],
   "source": [
    "fig2 = plt.figure(figsize=(8,5), dpi=100)\n",
    "axes2 = fig2.add_axes([0.1, 0.1, 0.8, 0.8])\n",
    "axes2.set_xlabel('x')\n",
    "axes2.set_ylabel('y')\n",
    "axes2.set_title(\"File1\")\n",
    "\n",
    "# The best way to add a legend is to include the label as a keyword in the plot method\n",
    "axes2.plot(x, y, label=\"growth\")\n",
    "\n",
    "# Then you can pick the location of the legend on the figure\n",
    "axes2.legend(loc=0) # options: 0 = Auto Best Fit, 1 = Upper Right, 2 = Lower Right, 3 = Lower Left, 4 = Lower Right\n",
    "fig2.savefig(\"file2.jpg\")"
   ]
  },
  {
   "cell_type": "code",
   "execution_count": null,
   "metadata": {
    "collapsed": true
   },
   "outputs": [],
   "source": [
    "\"\"\"\n",
    "\n",
    "C) Colors, Linewidths, & Linetypes\n",
    "\n",
    "\"\"\""
   ]
  },
  {
   "cell_type": "code",
   "execution_count": 33,
   "metadata": {
    "collapsed": true
   },
   "outputs": [],
   "source": [
    "fig3 = plt.figure(figsize=(8,5), dpi=100)\n",
    "axes3 = fig3.add_axes([0.1, 0.1, 0.8, 0.8])\n",
    "axes3.set_xlabel('x')\n",
    "axes3.set_ylabel('y')\n",
    "axes3.set_title(\"File1\")\n",
    "\n",
    "# can control features of the line from the plot method\n",
    "axes3.plot(x, y, label=\"growth\", color=\"r\", alpha=.5, linewidth=1, linestyle ='-', marker='+', markersize=8)\n",
    "\n",
    "\"\"\"\n",
    "keyword information\n",
    "\n",
    "color:\n",
    "    1) names: \"b\", \"blue\", \"r\", \"red\", etc\n",
    "    2) hex code: \"#1155dd\", \"15cc55\"\n",
    "    \n",
    "alpha:\n",
    "    transparency of the line\n",
    "    \n",
    "linewidth:\n",
    "    self explanatory\n",
    "\n",
    "linestyle:\n",
    "    '-', '-.', ':', 'steps', might be others\n",
    "    \n",
    "marker:\n",
    "    '+', 'o', '*', 's', ',', '.', there are others\n",
    "    \n",
    "markersize:\n",
    "    self explanatory\n",
    "\n",
    "\"\"\"\n",
    "\n",
    "axes3.legend(loc=0)\n",
    "fig3.savefig(\"file3.jpg\")"
   ]
  },
  {
   "cell_type": "code",
   "execution_count": null,
   "metadata": {
    "collapsed": true
   },
   "outputs": [],
   "source": [
    "\"\"\"\n",
    "\n",
    "D) Axes Range & Tick Marks\n",
    "\n",
    "\"\"\""
   ]
  },
  {
   "cell_type": "code",
   "execution_count": 45,
   "metadata": {
    "collapsed": false
   },
   "outputs": [],
   "source": [
    "fig4 = plt.figure(figsize=(8,5), dpi=100)\n",
    "axes4 = fig4.add_axes([0.1, 0.1, 0.8, 0.8])\n",
    "axes4.set_xlabel('x')\n",
    "axes4.set_ylabel('y')\n",
    "axes4.set_title(\"File1\")\n",
    "\n",
    "# can control features of the line from the plot method\n",
    "axes4.plot(x, y, label=\"growth\", color=\"r\")\n",
    "\n",
    "# Control the range of the axes\n",
    "axes4.set_xlim([0, 7])\n",
    "axes4.set_ylim([0, 50])\n",
    "#axes4.axis(\"tight\") # to get auto tight fitted axes, do this\n",
    "\n",
    "# Control the tick lines\n",
    "axes4.set_xticks([0, 2, 4, 6])\n",
    "axes4.set_yticks([0, 25, 50])\n",
    "\n",
    "# Control the labels of the tick lines\n",
    "axes4.set_xticklabels([\"A\", \"B\", \"C\", \"D\"])\n",
    "axes4.set_yticklabels([\"First\", \"Second\", \"Third\"])\n",
    "\n",
    "axes4.legend(loc=0)\n",
    "fig4.savefig(\"file4.jpg\")"
   ]
  },
  {
   "cell_type": "code",
   "execution_count": null,
   "metadata": {
    "collapsed": true
   },
   "outputs": [],
   "source": [
    "\"\"\"\n",
    "\n",
    "E) Subplots\n",
    "\n",
    "\"\"\""
   ]
  },
  {
   "cell_type": "code",
   "execution_count": 43,
   "metadata": {
    "collapsed": false
   },
   "outputs": [],
   "source": [
    "fig5, axes5 = plt.subplots(nrows=1, ncols=2)\n",
    "axes5[0].plot(x, x**2, color='r')\n",
    "axes5[0].set_xlabel(\"x\")\n",
    "axes5[0].set_ylabel(\"y\")\n",
    "axes5[0].set_title(\"Squared\")\n",
    "axes5[1].plot(x, x**3, color='b')\n",
    "axes5[1].set_xlabel(\"x\")\n",
    "axes5[1].set_ylabel(\"y\")\n",
    "axes5[1].set_title(\"Cubed\")\n",
    "\n",
    "# automatically adjust the positions of the axes so there is no overlap\n",
    "fig5.tight_layout()\n",
    "\n",
    "fig5.savefig(\"file5.jpg\")"
   ]
  },
  {
   "cell_type": "code",
   "execution_count": null,
   "metadata": {
    "collapsed": true
   },
   "outputs": [],
   "source": [
    "\"\"\"\n",
    "\n",
    "More Resources\n",
    "\n",
    "http://www.matplotlib.org - The project web page for matplotlib.\n",
    "\n",
    "https://github.com/matplotlib/matplotlib - The source code for matplotlib.\n",
    "\n",
    "http://matplotlib.org/gallery.html - A large gallery showcaseing various types of plots matplotlib can create. Highly recommended!\n",
    "\n",
    "http://www.loria.fr/~rougier/teaching/matplotlib - A good matplotlib tutorial.\n",
    "\n",
    "http://scipy-lectures.github.io/matplotlib/matplotlib.html - Another good matplotlib reference.\n",
    "\n",
    "\"\"\""
   ]
  }
 ],
 "metadata": {
  "kernelspec": {
   "display_name": "Python [default]",
   "language": "python",
   "name": "python2"
  },
  "language_info": {
   "codemirror_mode": {
    "name": "ipython",
    "version": 2
   },
   "file_extension": ".py",
   "mimetype": "text/x-python",
   "name": "python",
   "nbconvert_exporter": "python",
   "pygments_lexer": "ipython2",
   "version": "2.7.12"
  }
 },
 "nbformat": 4,
 "nbformat_minor": 0
}
