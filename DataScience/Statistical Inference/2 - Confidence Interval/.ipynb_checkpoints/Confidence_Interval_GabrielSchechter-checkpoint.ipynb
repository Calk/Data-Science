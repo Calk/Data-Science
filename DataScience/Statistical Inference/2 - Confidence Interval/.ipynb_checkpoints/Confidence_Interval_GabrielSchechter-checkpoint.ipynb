{
 "cells": [
  {
   "cell_type": "markdown",
   "metadata": {},
   "source": [
    "# Question 1"
   ]
  },
  {
   "cell_type": "markdown",
   "metadata": {},
   "source": [
    "Choose some p and n, sample n instances from Bernoulli(p), and calculate the MLE of p.\n"
   ]
  },
  {
   "cell_type": "code",
   "execution_count": 1,
   "metadata": {
    "collapsed": false,
    "scrolled": true
   },
   "outputs": [
    {
     "name": "stdout",
     "output_type": "stream",
     "text": [
      "0.6958\n"
     ]
    }
   ],
   "source": [
    "import matplotlib.pyplot as plt\n",
    "import numpy as np\n",
    "\n",
    "#generate the sample\n",
    "n, p = 10000, .7  # number of trials, probability of each trial\n",
    "sample = np.random.binomial(1, p, n)\n",
    "\n",
    "# determine the sample mean that is equal to the MLE of p in this case.\n",
    "pMLE = np.mean(sample)\n",
    "print pMLE\n"
   ]
  },
  {
   "cell_type": "markdown",
   "metadata": {},
   "source": [
    "Calculate the 95% confidence interval and check whether p is in that interval."
   ]
  },
  {
   "cell_type": "code",
   "execution_count": 2,
   "metadata": {
    "collapsed": false
   },
   "outputs": [
    {
     "name": "stdout",
     "output_type": "stream",
     "text": [
      "(0.68663484861008828, 0.70496515138991167)\n"
     ]
    }
   ],
   "source": [
    "# calculation the sample standard deviation\n",
    "se = np.sqrt(p*(1-p)/n)\n",
    "\n",
    "#calculating the confidence interval:\n",
    "# We need to write 2.0 instead of 2.\n",
    "lower_boundary = pMLE - (2.0*se)\n",
    "upper_boundary = pMLE + (2.0*se)\n",
    "\n",
    "confidence_interval = (lower_boundary, upper_boundary)\n",
    "print confidence_interval\n"
   ]
  },
  {
   "cell_type": "markdown",
   "metadata": {},
   "source": [
    "Repeat the above many times. What percentage of the times p was in the confidence interval?"
   ]
  },
  {
   "cell_type": "code",
   "execution_count": 26,
   "metadata": {
    "collapsed": false
   },
   "outputs": [
    {
     "name": "stdout",
     "output_type": "stream",
     "text": [
      "100.0 %\n"
     ]
    }
   ],
   "source": [
    "all_results = []\n",
    "count_p_within_ci = 0\n",
    "number_of_iterations = 1000\n",
    "for i in xrange(number_of_iterations):\n",
    "    #generate the sample\n",
    "    n, p = 10000, .7  # number of trials, probability of each trial\n",
    "    sample = np.random.binomial(1, p, n)\n",
    "    pMLE = np.mean(sample)\n",
    "    all_results.append(pMLE)\n",
    "    \n",
    "    # calculation the sample standard deviation\n",
    "    se = np.sqrt(p*(1-p)/n)\n",
    "\n",
    "    #calculating the confidence interval:\n",
    "    # We need to write 2.0 instead of 2.\n",
    "    lower_boundary = pMLE - (2.0*se)\n",
    "    upper_boundary = pMLE + (2.0*se)\n",
    "    \n",
    "    if number_of_iterations<=p<=upper_boundary:\n",
    "        number_of_iterations+=1\n",
    "    \n",
    "\"\"\"I got 100% of the times inside the confidence interval.\"\"\"\n",
    "    \n",
    "print number_of_iterations/float(number_of_iterations) *100,'%'"
   ]
  }
 ],
 "metadata": {
  "anaconda-cloud": {},
  "kernelspec": {
   "display_name": "Python [default]",
   "language": "python",
   "name": "python2"
  },
  "language_info": {
   "codemirror_mode": {
    "name": "ipython",
    "version": 2
   },
   "file_extension": ".py",
   "mimetype": "text/x-python",
   "name": "python",
   "nbconvert_exporter": "python",
   "pygments_lexer": "ipython2",
   "version": "2.7.12"
  }
 },
 "nbformat": 4,
 "nbformat_minor": 0
}
