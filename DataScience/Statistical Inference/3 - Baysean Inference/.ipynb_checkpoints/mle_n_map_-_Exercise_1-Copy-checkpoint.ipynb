{
 "cells": [
  {
   "cell_type": "markdown",
   "metadata": {},
   "source": [
    "# MLE and MAP for Normal Distribution"
   ]
  },
  {
   "cell_type": "markdown",
   "metadata": {},
   "source": [
    "## Question 1"
   ]
  },
  {
   "cell_type": "markdown",
   "metadata": {},
   "source": [
    "Read the csv file http://www.stat.ufl.edu/~winner/data/triple_vertical.csv into a data frame. The\n",
    "description of this data file can be found in http://www.stat.ufl.edu/~winner/data/triple_vertical.txt .\n",
    "Assume the column ‘vertical’ is distributed normally."
   ]
  },
  {
   "cell_type": "code",
   "execution_count": 21,
   "metadata": {
    "collapsed": false
   },
   "outputs": [],
   "source": [
    "import numpy as np\n",
    "import pandas as pd\n",
    "\n",
    "# Assume the column ‘vertical’ is distributed normally\n",
    "triple_vertical_data = pd.read_csv('triple_vertical.csv')"
   ]
  },
  {
   "cell_type": "markdown",
   "metadata": {},
   "source": [
    "(a) Calculate MLE for $\\mu$ and $\\sigma^2$"
   ]
  },
  {
   "cell_type": "code",
   "execution_count": 22,
   "metadata": {
    "collapsed": false
   },
   "outputs": [],
   "source": [
    "vertical_mean_MLE = sum(triple_vertical_data['vertical'])/len(triple_vertical_data['vertical'])\n",
    "vertical_var_MLE = sum((triple_vertical_data['vertical'] - vertical_mean_MLE)**2)/len(triple_vertical_data['vertical'])"
   ]
  },
  {
   "cell_type": "markdown",
   "metadata": {},
   "source": [
    "(b) Calculate the estimated standard error for $\\mu$"
   ]
  },
  {
   "cell_type": "code",
   "execution_count": 41,
   "metadata": {
    "collapsed": false
   },
   "outputs": [
    {
     "name": "stdout",
     "output_type": "stream",
     "text": [
      "1.68733326908\n"
     ]
    }
   ],
   "source": [
    "se_vertical_mean = np.sqrt(vertical_var_MLE/len(triple_vertical_data['vertical']))\n",
    "print se_vertical_mean"
   ]
  },
  {
   "cell_type": "markdown",
   "metadata": {},
   "source": [
    "(c) Calculate the approximate 95% confidence interval."
   ]
  },
  {
   "cell_type": "code",
   "execution_count": 47,
   "metadata": {
    "collapsed": false,
    "scrolled": true
   },
   "outputs": [
    {
     "name": "stdout",
     "output_type": "stream",
     "text": [
      "(45.925083461843975, 52.674416538156031)\n"
     ]
    }
   ],
   "source": [
    "# Considering z-index aprox. to 2\n",
    "vertical_lower_boundary = vertical_mean_MLE-2*se_vertical_mean\n",
    "vertical_high_boundary = vertical_mean_MLE+2*se_vertical_mean\n",
    "vertical_ci = (vertical_lower_boundary, vertical_high_boundary)\n",
    "print vertical_ci"
   ]
  },
  {
   "cell_type": "markdown",
   "metadata": {},
   "source": [
    "## Question 2"
   ]
  },
  {
   "cell_type": "markdown",
   "metadata": {},
   "source": [
    "Let σ = 20 and μ unknown with prior N(0,1)."
   ]
  },
  {
   "cell_type": "markdown",
   "metadata": {},
   "source": [
    "(a) Sample from $\\mathcal{N}(\\mu, \\sigma^2)$ with $\\mu=10$ and with different sample sizes. For each sample calculate the\n",
    "    MLE of $\\mu$ (when no prior is assumed) and the MAP estimator of $\\mu$ with the above prior."
   ]
  },
  {
   "cell_type": "code",
   "execution_count": 37,
   "metadata": {
    "collapsed": false,
    "scrolled": true
   },
   "outputs": [],
   "source": [
    "known_std_dev = 20\n",
    "error_MLE_MAP_array = []\n",
    "sample_sizes = [x for x in xrange(10,10000,100)]\n",
    "\n",
    "for s in sample_sizes:\n",
    "    temp_sample = np.random.normal(10,known_std_dev,s)\n",
    "    mean_MLE = sum(temp_sample)/len(temp_sample)\n",
    "    mean_MAP = sum(temp_sample)/(len(temp_sample)+(known_std_dev**2))\n",
    "    error_MLE_MAP = abs(mean_MLE-mean_MAP)\n",
    "    error_MLE_MAP_array.append(error_MLE_MAP)\n"
   ]
  },
  {
   "cell_type": "markdown",
   "metadata": {},
   "source": [
    "(b) Plot the error of the MLE and of the MAP estimator as a function of the sample size. Explain the\n",
    "difference."
   ]
  },
  {
   "cell_type": "code",
   "execution_count": 39,
   "metadata": {
    "collapsed": false
   },
   "outputs": [
    {
     "data": {
      "image/png": "[encoded data removed]",
      "text/plain": [
       "<matplotlib.figure.Figure at 0x8b7ac50>"
      ]
     },
     "metadata": {},
     "output_type": "display_data"
    }
   ],
   "source": [
    "import matplotlib.pyplot as plt\n",
    "\n",
    "plt.scatter(sample_sizes, error_MLE_MAP_array, s=20, alpha=0.5)\n",
    "plt.suptitle('Scatter Plot')\n",
    "plt.xlabel('Samples Sizes')\n",
    "plt.ylabel('Errors')\n",
    "plt.show()"
   ]
  },
  {
   "cell_type": "markdown",
   "metadata": {},
   "source": [
    "The difference between the two estimators of the mean is that the the mean_MLE does not take into account the standard deviation of the mean estimator and the standard deviation of the of the sample. Since with the increase of the sample size the sigficance of the standards deviations in the formula of MAP decreases, the difference between both the estimators descrease as well."
   ]
  },
  {
   "cell_type": "markdown",
   "metadata": {},
   "source": [
    "## Question 3 \n",
    "(bonus)"
   ]
  },
  {
   "cell_type": "markdown",
   "metadata": {},
   "source": [
    "Calculate the bias of the MLE for the mean and the variance of the normal distribution."
   ]
  },
  {
   "cell_type": "markdown",
   "metadata": {},
   "source": [
    "$$bias(mean) = \\sum_{n=1}^{n}  \\bar{x} - \\mu = 1$$\n"
   ]
  }
 ],
 "metadata": {
  "anaconda-cloud": {},
  "kernelspec": {
   "display_name": "Python [default]",
   "language": "python",
   "name": "python2"
  },
  "language_info": {
   "codemirror_mode": {
    "name": "ipython",
    "version": 2
   },
   "file_extension": ".py",
   "mimetype": "text/x-python",
   "name": "python",
   "nbconvert_exporter": "python",
   "pygments_lexer": "ipython2",
   "version": "2.7.12"
  }
 },
 "nbformat": 4,
 "nbformat_minor": 0
}
