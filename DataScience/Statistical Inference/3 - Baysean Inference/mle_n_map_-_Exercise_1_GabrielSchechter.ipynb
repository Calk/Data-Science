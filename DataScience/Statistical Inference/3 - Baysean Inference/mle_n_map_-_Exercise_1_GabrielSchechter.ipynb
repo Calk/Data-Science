{
 "cells": [
  {
   "cell_type": "markdown",
   "metadata": {},
   "source": [
    "# MLE and MAP for Normal Distribution"
   ]
  },
  {
   "cell_type": "markdown",
   "metadata": {},
   "source": [
    "## Question 1"
   ]
  },
  {
   "cell_type": "markdown",
   "metadata": {},
   "source": [
    "Read the csv file http://www.stat.ufl.edu/~winner/data/triple_vertical.csv into a data frame. The\n",
    "description of this data file can be found in http://www.stat.ufl.edu/~winner/data/triple_vertical.txt .\n",
    "Assume the column ‘vertical’ is distributed normally."
   ]
  },
  {
   "cell_type": "code",
   "execution_count": 1,
   "metadata": {
    "collapsed": false
   },
   "outputs": [
    {
     "data": {
      "text/html": [
       "<div>\n",
       "<table border=\"1\" class=\"dataframe\">\n",
       "  <thead>\n",
       "    <tr style=\"text-align: right;\">\n",
       "      <th></th>\n",
       "      <th>triple</th>\n",
       "      <th>vertical</th>\n",
       "    </tr>\n",
       "  </thead>\n",
       "  <tbody>\n",
       "    <tr>\n",
       "      <th>0</th>\n",
       "      <td>383.00</td>\n",
       "      <td>33.00</td>\n",
       "    </tr>\n",
       "    <tr>\n",
       "      <th>1</th>\n",
       "      <td>781.00</td>\n",
       "      <td>71.10</td>\n",
       "    </tr>\n",
       "    <tr>\n",
       "      <th>2</th>\n",
       "      <td>561.62</td>\n",
       "      <td>62.25</td>\n",
       "    </tr>\n",
       "  </tbody>\n",
       "</table>\n",
       "</div>"
      ],
      "text/plain": [
       "   triple  vertical\n",
       "0  383.00     33.00\n",
       "1  781.00     71.10\n",
       "2  561.62     62.25"
      ]
     },
     "execution_count": 1,
     "metadata": {},
     "output_type": "execute_result"
    }
   ],
   "source": [
    "import numpy as np\n",
    "import pandas as pd\n",
    "\n",
    "# Assume the column ‘vertical’ is distributed normally\n",
    "triple_vertical_data = pd.read_csv('triple_vertical.csv')\n",
    "triple_vertical_data.head(3)"
   ]
  },
  {
   "cell_type": "markdown",
   "metadata": {},
   "source": [
    "(a) Calculate MLE for $\\mu$ and $\\sigma^2$"
   ]
  },
  {
   "cell_type": "code",
   "execution_count": 2,
   "metadata": {
    "collapsed": false
   },
   "outputs": [
    {
     "name": "stdout",
     "output_type": "stream",
     "text": [
      "The MLE for μ is: 49.29975\n",
      "The MLE for σ2 is: 113.883742438\n"
     ]
    }
   ],
   "source": [
    "vertical_mean_MLE = np.mean(triple_vertical_data['vertical'])\n",
    "vertical_var_MLE = np.var(triple_vertical_data['vertical'])\n",
    "\n",
    "print \"The MLE for μ is:\",vertical_mean_MLE\n",
    "print \"The MLE for σ2 is:\",vertical_var_MLE"
   ]
  },
  {
   "cell_type": "markdown",
   "metadata": {},
   "source": [
    "(b) Calculate the estimated standard error for $\\mu$"
   ]
  },
  {
   "cell_type": "code",
   "execution_count": 4,
   "metadata": {
    "collapsed": false
   },
   "outputs": [
    {
     "name": "stdout",
     "output_type": "stream",
     "text": [
      "The estimated standard error for  μ is: 1.68733326908\n"
     ]
    }
   ],
   "source": [
    "se_vertical_mean = np.sqrt(vertical_var_MLE/len(triple_vertical_data['vertical']))\n",
    "print \"The estimated standard error for  μ is:\",se_vertical_mean"
   ]
  },
  {
   "cell_type": "markdown",
   "metadata": {},
   "source": [
    "(c) Calculate the approximate 95% confidence interval."
   ]
  },
  {
   "cell_type": "code",
   "execution_count": 5,
   "metadata": {
    "collapsed": false,
    "scrolled": true
   },
   "outputs": [
    {
     "name": "stdout",
     "output_type": "stream",
     "text": [
      "The 95% confidence interval is: (45.925083461843975, 52.674416538156031)\n"
     ]
    }
   ],
   "source": [
    "# Considering z-index aprox. to 2\n",
    "vertical_lower_boundary = vertical_mean_MLE-2*se_vertical_mean\n",
    "vertical_high_boundary = vertical_mean_MLE+2*se_vertical_mean\n",
    "vertical_ci = (vertical_lower_boundary, vertical_high_boundary)\n",
    "print \"The 95% confidence interval is:\",vertical_ci"
   ]
  },
  {
   "cell_type": "markdown",
   "metadata": {},
   "source": [
    "## Question 2"
   ]
  },
  {
   "cell_type": "markdown",
   "metadata": {},
   "source": [
    "Let σ = 20 and μ unknown with prior N(0,1)."
   ]
  },
  {
   "cell_type": "markdown",
   "metadata": {},
   "source": [
    "(a) Sample from $\\mathcal{N}(\\mu, \\sigma^2)$ with $\\mu=10$ and with different sample sizes. For each sample calculate the\n",
    "    MLE of $\\mu$ (when no prior is assumed) and the MAP estimator of $\\mu$ with the above prior."
   ]
  },
  {
   "cell_type": "code",
   "execution_count": 15,
   "metadata": {
    "collapsed": false,
    "scrolled": true
   },
   "outputs": [],
   "source": [
    "known_std_dev = 20\n",
    "mu=10\n",
    "sample_sizes = [x for x in xrange(10,10000,100)]\n",
    "\n",
    "error_MLE_array = []\n",
    "error_MAP_array = []\n",
    "\n",
    "for s in sample_sizes:\n",
    "    temp_sample = np.random.normal(mu,known_std_dev,s)\n",
    "    mean_MLE = sum(temp_sample)/len(temp_sample)\n",
    "    \n",
    "#   Simplified expression of the MAP estimator:\n",
    "    mean_MAP = sum(temp_sample)/(len(temp_sample)+(known_std_dev**2))\n",
    "    error__MLE = abs(mu-mean_MLE)\n",
    "    error__MAP = abs(mu-mean_MAP)\n",
    "    error_MAP_array.append(error__MAP)\n",
    "    error_MLE_array.append(error__MLE)\n"
   ]
  },
  {
   "cell_type": "markdown",
   "metadata": {},
   "source": [
    "(b) Plot the error of the MLE and of the MAP estimator as a function of the sample size. Explain the\n",
    "difference."
   ]
  },
  {
   "cell_type": "code",
   "execution_count": 16,
   "metadata": {
    "collapsed": false,
    "scrolled": true
   },
   "outputs": [
    {
     "data": {
      "image/png": "[encoded data removed]",
      "text/plain": [
       "<matplotlib.figure.Figure at 0xba69240>"
      ]
     },
     "metadata": {},
     "output_type": "display_data"
    }
   ],
   "source": [
    "import matplotlib.pyplot as plt\n",
    "\n",
    "fig = plt.figure()\n",
    "ax1 = fig.add_subplot(111)\n",
    "ax1.scatter(sample_sizes, error_MAP_array, s=10, c='b', marker=\"s\", label='MAP')\n",
    "ax1.scatter(sample_sizes,error_MLE_array, s=10, c='r', marker=\"o\", label='MLE')\n",
    "plt.legend(loc='upper left');\n",
    "plt.show()"
   ]
  },
  {
   "cell_type": "markdown",
   "metadata": {},
   "source": [
    "The main difference between the two series of errors is that the MAP series starts with a very high error because it takes into consideration a prior knowledge of the mean being distributed as N(0,1). As the sample's size gets bigger, the MAP estimator gets smaller and sometimes it gets smaller than the MLE estimator."
   ]
  },
  {
   "cell_type": "markdown",
   "metadata": {},
   "source": [
    "## Question 3 \n",
    "(bonus)"
   ]
  },
  {
   "cell_type": "markdown",
   "metadata": {},
   "source": [
    "Calculate the bias of the MLE for the mean and the variance of the normal distribution."
   ]
  },
  {
   "cell_type": "markdown",
   "metadata": {},
   "source": [
    "$$bias(mean) = E[\\bar{x}] - \\mu = 1/n\\sum_{i=1}^n E[x]  - \\mu = 1/n \\times n \\times \\mu - \\mu = 0$$\n"
   ]
  }
 ],
 "metadata": {
  "anaconda-cloud": {},
  "kernelspec": {
   "display_name": "Python [default]",
   "language": "python",
   "name": "python2"
  },
  "language_info": {
   "codemirror_mode": {
    "name": "ipython",
    "version": 2
   },
   "file_extension": ".py",
   "mimetype": "text/x-python",
   "name": "python",
   "nbconvert_exporter": "python",
   "pygments_lexer": "ipython2",
   "version": "2.7.12"
  }
 },
 "nbformat": 4,
 "nbformat_minor": 0
}
