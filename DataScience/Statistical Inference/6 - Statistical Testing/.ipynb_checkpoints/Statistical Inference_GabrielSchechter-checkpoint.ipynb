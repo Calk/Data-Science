{
 "cells": [
  {
   "cell_type": "markdown",
   "metadata": {},
   "source": [
    "# Question 1\n",
    "(a) Write a function that receives a vector x of data points and a number $ \\mu_0 $, and computes the likelihood ratio test for the null hypothesis $ \\mu = \\mu_0 $, assuming the data is distributed $\\mathcal{N}(\\mu, \\sigma^2)$ where $\\sigma^2$ is unknown. The function should return the likelihood ratio value and its p-value.\n"
   ]
  },
  {
   "cell_type": "code",
   "execution_count": null,
   "metadata": {
    "collapsed": true
   },
   "outputs": [],
   "source": []
  },
  {
   "cell_type": "markdown",
   "metadata": {},
   "source": [
    "# Question 2\n",
    "Fix $ \\mu $ and $ \\mu_0 $ such that $ \\mu\\ne\\mu_0 $"
   ]
  },
  {
   "cell_type": "markdown",
   "metadata": {},
   "source": [
    "(a) Fix $\\sigma$, and repeat the following for different values of n:\n",
    "\n",
    "- Sample a vector $ X $ of $ n $ samples from $ \\mathcal{N}(\\mu,\\sigma^2) $ and run your function on $ X $.\n",
    "- Repeat 10 times for each sample size and average results\n",
    "\n",
    "Plot the p-value as a function of $ n $. "
   ]
  },
  {
   "cell_type": "code",
   "execution_count": null,
   "metadata": {
    "collapsed": false
   },
   "outputs": [],
   "source": []
  },
  {
   "cell_type": "markdown",
   "metadata": {},
   "source": [
    "(b) Fix $ n $, and repeat the following for different values of $ \\sigma $:\n",
    "- Sample a vector $ X $ of $ n $ samples from $ \\mathcal{N}(\\mu, \\sigma^2) $ and run your function on $ X $.\n",
    "- Repeat 10 times for each $ \\sigma $ and average results\n",
    "\n",
    "Plot the p-value as a function of $ \\sigma $."
   ]
  },
  {
   "cell_type": "code",
   "execution_count": null,
   "metadata": {
    "collapsed": false
   },
   "outputs": [],
   "source": []
  }
 ],
 "metadata": {
  "kernelspec": {
   "display_name": "Python [default]",
   "language": "python",
   "name": "python2"
  },
  "language_info": {
   "codemirror_mode": {
    "name": "ipython",
    "version": 2
   },
   "file_extension": ".py",
   "mimetype": "text/x-python",
   "name": "python",
   "nbconvert_exporter": "python",
   "pygments_lexer": "ipython2",
   "version": "2.7.12"
  }
 },
 "nbformat": 4,
 "nbformat_minor": 0
}
