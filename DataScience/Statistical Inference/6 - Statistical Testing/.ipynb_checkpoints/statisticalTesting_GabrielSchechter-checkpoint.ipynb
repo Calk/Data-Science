{
 "cells": [
  {
   "cell_type": "markdown",
   "metadata": {},
   "source": [
    "# Question 1\n",
    "(a) Read the file http://www.stat.ufl.edu/~winner/data/rocknroll_marathon_mf2015.dat into a data frame using pandas.read_fwf. \n",
    "\n",
    "The description of the data can be found in http://www.stat.ufl.edu/~winner/data/rocknroll_marathon_mf2015.txt."
   ]
  },
  {
   "cell_type": "code",
   "execution_count": 1,
   "metadata": {
    "collapsed": false
   },
   "outputs": [],
   "source": [
    "import numpy as np\n",
    "import pandas as pd\n",
    "import scipy.stats as stats\n",
    "import matplotlib.pyplot as plt\n",
    "\n",
    "data_marathon = pd.read_fwf(\"http://www.stat.ufl.edu/~winner/data/rocknroll_marathon_mf2015.dat \", header=None)\n"
   ]
  },
  {
   "cell_type": "markdown",
   "metadata": {},
   "source": [
    "(b) assign column names to the column field of your data frame. \n",
    "\n",
    "df.columns = ..."
   ]
  },
  {
   "cell_type": "code",
   "execution_count": 2,
   "metadata": {
    "collapsed": false
   },
   "outputs": [],
   "source": [
    "# Data of 2015 rock and roll marathon\n",
    "data_marathon.columns = ['Runner ID', 'Gender', 'Running Time','Finish Place', 'Running Time (seconds)', 'Speed (mph)' ]"
   ]
  },
  {
   "cell_type": "markdown",
   "metadata": {},
   "source": [
    "(c) The average finishing time of a marathon in 2014 all over the world was 4:21:21, the average time for men was 4:13:23 and for women 4:42:33.\n",
    "Assume the average time in this marathon is distributed $\\mathcal{N}(\\mu, \\sigma^2) $ among all participants, $\\mathcal{N}(\\mu_1, \\sigma^2) $ among women and $\\mathcal{N}(\\mu_2, \\sigma^2) $ among men.\n",
    "Repeat for all participants, for women and for men:\n",
    "\n",
    "Test the null hypothesis that average times (in seconds) in this race are equal to those of 2014 all over the world using **z-test** with $a=0.05$ assuming $\\sigma=2000$.\n",
    "\n"
   ]
  },
  {
   "cell_type": "code",
   "execution_count": 3,
   "metadata": {
    "collapsed": false,
    "scrolled": false
   },
   "outputs": [
    {
     "name": "stdout",
     "output_type": "stream",
     "text": [
      "reject the null hypothesis for all runners\n",
      "reject the null hypothesis for male runners\n",
      "reject the null hypothesis for female runners\n"
     ]
    }
   ],
   "source": [
    "# Calculate relavant z scores.\n",
    "alpha = 0.05\n",
    "lower_z_score = stats.norm.ppf(alpha/2.0)\n",
    "higher_z_score = stats.norm.ppf(1.0-alpha/2.0)\n",
    "\n",
    "# Test for all participants\n",
    "std_dev = 2000\n",
    "avg_all_time_2014 = 15681 #4:21:21\n",
    "sample_mean_all = np.mean(data_marathon[\"Running Time (seconds)\"])\n",
    "\n",
    "# Calculate T(x) aprox. N(0,1)\n",
    "T_all = (sample_mean_all-avg_all_time_2014)/(std_dev/np.sqrt(len(data_marathon)))\n",
    "if T_all >= lower_z_score and T_all <= higher_z_score:\n",
    "    print \"accept the null hypothesis for all runners\"\n",
    "else:\n",
    "    print \"reject the null hypothesis for all runners\"\n",
    "\n",
    "# Test for all Male Runners\n",
    "avg_male_time_2014 = 15203 #4:13:23\n",
    "male_participants = data_marathon[data_marathon[\"Gender\"]==2]\n",
    "sample_mean_male = np.mean(male_participants[\"Running Time (seconds)\"])\n",
    "\n",
    "# Calculate T(x) aprox. N(0,1) for male\n",
    "T_male = (sample_mean_male-avg_male_time_2014)/(std_dev/np.sqrt(len(male_participants)))\n",
    "if T_male >= lower_z_score and T_male <= higher_z_score:\n",
    "    print \"accept the null hypothesis for male runners\"\n",
    "else:\n",
    "    print \"reject the null hypothesis for male runners\"\n",
    "\n",
    "# Test for all Female\n",
    "avg_female_time_2014 = 16953 #4:42:33\n",
    "female_participants = data_marathon[data_marathon[\"Gender\"]==1]\n",
    "sample_mean_female = np.mean(female_participants[\"Running Time (seconds)\"])\n",
    "\n",
    "# Calculate T(x) aprox. N(0,1) for male\n",
    "T_female = (sample_mean_female-avg_female_time_2014)/(std_dev/np.sqrt(len(female_participants)))\n",
    "if T_female >= lower_z_score and T_female <= higher_z_score:\n",
    "    print \"accept the null hypothesis for female runners\"\n",
    "else:\n",
    "    print \"reject the null hypothesis for female runners\""
   ]
  },
  {
   "cell_type": "markdown",
   "metadata": {},
   "source": [
    "(d) Repeat for all participants, for women and for men:\n",
    "\n",
    "Test the null hypothesis that average times (in seconds) in this race are equal to those of 2014 all over the world using **t-test** with $a=0.05$\n",
    "\n",
    "you may use ready made functions for t-test"
   ]
  },
  {
   "cell_type": "code",
   "execution_count": 4,
   "metadata": {
    "collapsed": false,
    "scrolled": true
   },
   "outputs": [
    {
     "name": "stdout",
     "output_type": "stream",
     "text": [
      "reject the null hypothesis for all runners\n",
      "accept the null hypothesis for male runners\n",
      "reject the null hypothesis for female runners\n"
     ]
    }
   ],
   "source": [
    "# In the t-test we don't have a given std_dev so we have to estimate one.\n",
    "# for large numbers of n, the t distributions is aprox N(0,1)\n",
    "# Calculate relavant z scores.\n",
    "\n",
    "alpha = 0.05\n",
    "lower_z_score = stats.norm.ppf(alpha/2.0)\n",
    "higher_z_score = stats.norm.ppf(1.0-alpha/2.0)\n",
    "\n",
    "# Test for all participants\n",
    "avg_all_time_2014 = 15681 #4:21:21\n",
    "sample_mean_all = np.mean(data_marathon[\"Running Time (seconds)\"])\n",
    "sample_all_std_dev = np.std(data_marathon[\"Running Time (seconds)\"])\n",
    "\n",
    "# Calculate T(x) aprox. N(0,1)\n",
    "T_all = (sample_mean_all-avg_all_time_2014)/(sample_all_std_dev/np.sqrt(len(data_marathon)))\n",
    "if T_all >= lower_z_score and T_all <= higher_z_score:\n",
    "    print \"accept the null hypothesis for all runners\"\n",
    "else:\n",
    "    print \"reject the null hypothesis for all runners\"\n",
    "\n",
    "# Test for all Male Runners\n",
    "avg_male_time_2014 = 15203 #4:13:23\n",
    "male_participants = data_marathon[data_marathon[\"Gender\"]==2]\n",
    "sample_mean_male = np.mean(male_participants[\"Running Time (seconds)\"])\n",
    "sample_male_std_dev = np.std(male_participants[\"Running Time (seconds)\"])\n",
    "\n",
    "# Calculate T(x) aprox. N(0,1) for male\n",
    "T_male = (sample_mean_male-avg_male_time_2014)/(sample_male_std_dev/np.sqrt(len(male_participants)))\n",
    "if T_male >= lower_z_score and T_male <= higher_z_score:\n",
    "    print \"accept the null hypothesis for male runners\"\n",
    "else:\n",
    "    print \"reject the null hypothesis for male runners\"\n",
    "\n",
    "# Test for all Female\n",
    "avg_female_time_2014 = 16953 #4:42:33\n",
    "female_participants = data_marathon[data_marathon[\"Gender\"]==1]\n",
    "sample_mean_female = np.mean(female_participants[\"Running Time (seconds)\"])\n",
    "sample_female_std_dev = np.std(female_participants[\"Running Time (seconds)\"])\n",
    "\n",
    "# Calculate T(x) aprox. N(0,1) for male\n",
    "T_female = (sample_female_std_dev-avg_female_time_2014)/(sample_female_std_dev/np.sqrt(len(female_participants)))\n",
    "if T_female >= lower_z_score and T_female <= higher_z_score:\n",
    "    print \"accept the null hypothesis for female runners\"\n",
    "else:\n",
    "    print \"reject the null hypothesis for female runners\""
   ]
  }
 ],
 "metadata": {
  "anaconda-cloud": {},
  "kernelspec": {
   "display_name": "Python [default]",
   "language": "python",
   "name": "python2"
  },
  "language_info": {
   "codemirror_mode": {
    "name": "ipython",
    "version": 2
   },
   "file_extension": ".py",
   "mimetype": "text/x-python",
   "name": "python",
   "nbconvert_exporter": "python",
   "pygments_lexer": "ipython2",
   "version": "2.7.12"
  }
 },
 "nbformat": 4,
 "nbformat_minor": 0
}
