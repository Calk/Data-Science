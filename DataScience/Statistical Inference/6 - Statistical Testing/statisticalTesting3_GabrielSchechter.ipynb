{
 "cells": [
  {
   "cell_type": "markdown",
   "metadata": {},
   "source": [
    "# Question 1\n",
    "(a) Read the csv file http://www.stat.ufl.edu/~winner/data/govctrl.dat into a data frame. The description of this data file can be found in http://www.stat.ufl.edu/~winner/data/govctrl.txt"
   ]
  },
  {
   "cell_type": "code",
   "execution_count": 4,
   "metadata": {
    "collapsed": false,
    "scrolled": false
   },
   "outputs": [
    {
     "data": {
      "text/html": [
       "<div>\n",
       "<table border=\"1\" class=\"dataframe\">\n",
       "  <thead>\n",
       "    <tr style=\"text-align: right;\">\n",
       "      <th></th>\n",
       "      <th>Agency Control</th>\n",
       "      <th>Governors strength</th>\n",
       "      <th>Count</th>\n",
       "    </tr>\n",
       "  </thead>\n",
       "  <tbody>\n",
       "    <tr>\n",
       "      <th>0</th>\n",
       "      <td>3</td>\n",
       "      <td>2</td>\n",
       "      <td>58</td>\n",
       "    </tr>\n",
       "    <tr>\n",
       "      <th>1</th>\n",
       "      <td>3</td>\n",
       "      <td>3</td>\n",
       "      <td>79</td>\n",
       "    </tr>\n",
       "    <tr>\n",
       "      <th>2</th>\n",
       "      <td>3</td>\n",
       "      <td>4</td>\n",
       "      <td>96</td>\n",
       "    </tr>\n",
       "    <tr>\n",
       "      <th>3</th>\n",
       "      <td>2</td>\n",
       "      <td>1</td>\n",
       "      <td>29</td>\n",
       "    </tr>\n",
       "    <tr>\n",
       "      <th>4</th>\n",
       "      <td>2</td>\n",
       "      <td>2</td>\n",
       "      <td>55</td>\n",
       "    </tr>\n",
       "    <tr>\n",
       "      <th>5</th>\n",
       "      <td>2</td>\n",
       "      <td>3</td>\n",
       "      <td>40</td>\n",
       "    </tr>\n",
       "    <tr>\n",
       "      <th>6</th>\n",
       "      <td>2</td>\n",
       "      <td>4</td>\n",
       "      <td>72</td>\n",
       "    </tr>\n",
       "    <tr>\n",
       "      <th>7</th>\n",
       "      <td>1</td>\n",
       "      <td>1</td>\n",
       "      <td>116</td>\n",
       "    </tr>\n",
       "    <tr>\n",
       "      <th>8</th>\n",
       "      <td>1</td>\n",
       "      <td>2</td>\n",
       "      <td>118</td>\n",
       "    </tr>\n",
       "    <tr>\n",
       "      <th>9</th>\n",
       "      <td>1</td>\n",
       "      <td>3</td>\n",
       "      <td>73</td>\n",
       "    </tr>\n",
       "    <tr>\n",
       "      <th>10</th>\n",
       "      <td>1</td>\n",
       "      <td>4</td>\n",
       "      <td>90</td>\n",
       "    </tr>\n",
       "  </tbody>\n",
       "</table>\n",
       "</div>"
      ],
      "text/plain": [
       "    Agency Control  Governors strength  Count\n",
       "0                3                   2     58\n",
       "1                3                   3     79\n",
       "2                3                   4     96\n",
       "3                2                   1     29\n",
       "4                2                   2     55\n",
       "5                2                   3     40\n",
       "6                2                   4     72\n",
       "7                1                   1    116\n",
       "8                1                   2    118\n",
       "9                1                   3     73\n",
       "10               1                   4     90"
      ]
     },
     "execution_count": 4,
     "metadata": {},
     "output_type": "execute_result"
    }
   ],
   "source": [
    "import numpy as np\n",
    "import pandas as pd\n",
    "import scipy.stats as stats\n",
    "import matplotlib.pyplot as plt\n",
    "\n",
    "df = pd.read_csv('govctrl.csv', delim_whitespace=True)\n",
    "df.columns = ['Agency Control', 'Governors strength', 'Count']\n",
    "df"
   ]
  },
  {
   "cell_type": "markdown",
   "metadata": {},
   "source": [
    "(a) Test Independence between agency control and governor’s strength using likelihood ratio test and compute the p-value.\n"
   ]
  },
  {
   "cell_type": "code",
   "execution_count": 58,
   "metadata": {
    "collapsed": false,
    "scrolled": true
   },
   "outputs": [
    {
     "name": "stdout",
     "output_type": "stream",
     "text": [
      "The pvalue is for the likelihood ratio test is 0.0343505846972\n"
     ]
    }
   ],
   "source": [
    "import math\n",
    "import scipy.stats as stats\n",
    "\n",
    "# i represents Agency Control and j represents Governors strength\n",
    "sample_size = float(sum(df[\"Count\"]))\n",
    "pi = {x:sum(df[df[\"Agency Control\"]==x][\"Count\"])/sample_size for x in [1,2,3]}\n",
    "pj = {x:sum(df[df[\"Governors strength\"]==x][\"Count\"])/sample_size for x in [1,2,3,4]}\n",
    "pij ={str(x)+str(y):sum(df[(df[\"Agency Control\"]==x)&(df[\"Governors strength\"]==y)][\"Count\"])/sample_size for x in [1,2,3] for y in [1,2,3,4]}\n",
    "\n",
    "lmb = 0\n",
    "for x in [1,2,3]:\n",
    "    for y in [1,2,3,4]:\n",
    "        temp_index = str(x)+str(y)\n",
    "        temp_nominator = pij[temp_index]*sample_size/(pi[x]*pj[y])\n",
    "        if temp_nominator > 0:\n",
    "            lmb+= pij[temp_index]*math.log(temp_nominator)\n",
    "lmb = lmb * 2\n",
    "k = (len([1,2,3])-1)*(len([1,2,3,4])-1)      \n",
    "p_value = 1 - stats.chi2.cdf(lmb, k)\n",
    "print \"The pvalue is for the likelihood ratio test is\", p_value"
   ]
  },
  {
   "cell_type": "markdown",
   "metadata": {
    "collapsed": false
   },
   "source": [
    "(b) Repeat the above using Pearson’s independence test.\n"
   ]
  },
  {
   "cell_type": "code",
   "execution_count": 56,
   "metadata": {
    "collapsed": false,
    "scrolled": true
   },
   "outputs": [
    {
     "name": "stdout",
     "output_type": "stream",
     "text": [
      "The pvalue is for the Pearson Test is 1.0\n"
     ]
    }
   ],
   "source": [
    "U = 0\n",
    "for x in [1,2,3]:\n",
    "    for y in [1,2,3,4]:\n",
    "        temp_index = str(x)+str(y)\n",
    "        temp_value = ((pij[temp_index]-(pi[x]*pj[y]))/sample_size)**2\n",
    "        temp_value /= ((pi[x]*pj[y])/sample_size)\n",
    "        if temp_value > 0:\n",
    "            U += temp_value\n",
    "            \n",
    "k = (len([1,2,3])-1)*(len([1,2,3,4])-1)  \n",
    "p_value = 1 - stats.chi2.cdf(U, k)\n",
    "print \"The pvalue is for the Pearson Test is\", p_value"
   ]
  }
 ],
 "metadata": {
  "anaconda-cloud": {},
  "kernelspec": {
   "display_name": "Python [default]",
   "language": "python",
   "name": "python2"
  },
  "language_info": {
   "codemirror_mode": {
    "name": "ipython",
    "version": 2
   },
   "file_extension": ".py",
   "mimetype": "text/x-python",
   "name": "python",
   "nbconvert_exporter": "python",
   "pygments_lexer": "ipython2",
   "version": "2.7.12"
  }
 },
 "nbformat": 4,
 "nbformat_minor": 0
}
