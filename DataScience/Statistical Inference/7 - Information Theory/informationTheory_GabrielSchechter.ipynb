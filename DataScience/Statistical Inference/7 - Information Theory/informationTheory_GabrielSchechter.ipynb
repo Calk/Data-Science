{
 "cells": [
  {
   "cell_type": "markdown",
   "metadata": {},
   "source": [
    "# Question 1\n",
    "load data is_sleepy.csv to a dataframe\n",
    "\n",
    "(a) what is the entropy of 'meal' "
   ]
  },
  {
   "cell_type": "code",
   "execution_count": 1,
   "metadata": {
    "collapsed": false,
    "scrolled": false
   },
   "outputs": [
    {
     "name": "stdout",
     "output_type": "stream",
     "text": [
      "0.942683189255\n"
     ]
    }
   ],
   "source": [
    "import math\n",
    "import numpy as np\n",
    "import pandas as pd\n",
    "\n",
    "sleepy_data = pd.read_csv('is_sleepy.csv')\n",
    "\n",
    "def get_entropy(X):\n",
    "    probs = [np.mean(X == c) for c in set(X)]\n",
    "    return np.sum(-p * np.log2(p) for p in probs)\n",
    "\n",
    "meal_entropy = get_entropy(sleepy_data[\"meal\"])\n",
    "print meal_entropy"
   ]
  },
  {
   "cell_type": "markdown",
   "metadata": {},
   "source": [
    "(b) what is the entropy of 'tired'"
   ]
  },
  {
   "cell_type": "code",
   "execution_count": 2,
   "metadata": {
    "collapsed": false,
    "scrolled": true
   },
   "outputs": [
    {
     "name": "stdout",
     "output_type": "stream",
     "text": [
      "0.904381457724\n"
     ]
    }
   ],
   "source": [
    "result = get_entropy(sleepy_data[\"tired\"])\n",
    "print result\n"
   ]
  },
  {
   "cell_type": "markdown",
   "metadata": {},
   "source": [
    "(c) what is the conditional entropy of 'meal' given 'tired'"
   ]
  },
  {
   "cell_type": "code",
   "execution_count": 3,
   "metadata": {
    "collapsed": false,
    "scrolled": false
   },
   "outputs": [
    {
     "name": "stdout",
     "output_type": "stream",
     "text": [
      "0.840664959553\n"
     ]
    }
   ],
   "source": [
    "def conditional_entropy(data_frame, main_field, conditional_field):\n",
    "    \n",
    "    prob_tired = data_frame[conditional_field].mean()\n",
    "    prob_non_tired = 1-prob_tired\n",
    "    prob_meal_given_tired = data_frame[data_frame[conditional_field]==1][main_field].mean()\n",
    "    prob_meal_given_non_tired = data_frame[data_frame[conditional_field]==0][main_field].mean()\n",
    "    \n",
    "    conditional_entropy = -(prob_tired*prob_meal_given_tired*math.log(prob_meal_given_tired,2) + prob_tired*(1-prob_meal_given_tired)*math.log((1-prob_meal_given_tired),2)\n",
    "                          + prob_non_tired*prob_meal_given_non_tired*math.log(prob_meal_given_non_tired,2) + prob_non_tired*(1-prob_meal_given_non_tired)*math.log((1-prob_meal_given_non_tired),2))\n",
    "    \n",
    "    return conditional_entropy\n",
    "    \n",
    "print conditional_entropy(sleepy_data,\"meal\",\"tired\")"
   ]
  },
  {
   "cell_type": "markdown",
   "metadata": {},
   "source": [
    "(d) look at the definition of mutual information from the lecture and answer\n",
    "\n",
    "$$ I(X;Y) \\overset{?}{=} I(Y;X) $$"
   ]
  },
  {
   "cell_type": "markdown",
   "metadata": {},
   "source": [
    "Yes, Mutual Information is a symetric operation."
   ]
  },
  {
   "cell_type": "markdown",
   "metadata": {},
   "source": [
    "(e) compute \n",
    "$$ I(X;Y)=H(X)-H(X\\mid Y) $$\n",
    "and \n",
    "$$ I(Y;X)=H(Y)-H(Y\\mid X) $$\n",
    "for X=meal and Y=tired\n",
    "are they equal? do they satisfy \n",
    "$$ \\left\\|I(Y;X)-I(X;Y)\\right\\|<1\\cdot 10^{-15} $$"
   ]
  },
  {
   "cell_type": "code",
   "execution_count": 4,
   "metadata": {
    "collapsed": false
   },
   "outputs": [
    {
     "name": "stdout",
     "output_type": "stream",
     "text": [
      "I(X;Y)= 0.102018229703\n",
      "I(Y;X)= 0.102018229703\n"
     ]
    }
   ],
   "source": [
    "\"\"\"I (X;Y) measures information about X gained from Y \"\"\"\n",
    "\n",
    "X = sleepy_data[\"meal\"]\n",
    "Y = sleepy_data[\"tired\"]\n",
    "I_XY = get_entropy(X) - conditional_entropy(sleepy_data,\"meal\",\"tired\")\n",
    "print \"\"\"I(X;Y)=\"\"\",I_XY\n",
    "I_YX = get_entropy(Y) - conditional_entropy(sleepy_data,\"tired\",\"meal\")\n",
    "print \"\"\"I(Y;X)=\"\"\",I_YX"
   ]
  },
  {
   "cell_type": "markdown",
   "metadata": {},
   "source": [
    "# Question 2\n",
    "use the same data from question 1. our target is to predict sleepy column using the other columns\n",
    "\n",
    "(a) what is the optimal question for the data $ qa $ using the information gain criterion?"
   ]
  },
  {
   "cell_type": "code",
   "execution_count": 5,
   "metadata": {
    "collapsed": false,
    "scrolled": true
   },
   "outputs": [
    {
     "name": "stdout",
     "output_type": "stream",
     "text": [
      "I(sleepy;meal)= 0.0341021706816\n",
      "I(sleepy;tired)= 0.155022187155\n",
      "I(sleepy;exercise)= 0.00178635780912\n",
      "Since I(sleepy;tired) is the bigger between the Information gained calculated above, the optional question is to ask if a person is tired.\n"
     ]
    }
   ],
   "source": [
    "sleepy_data.head()\n",
    "\n",
    "I_SM = get_entropy(sleepy_data[\"sleepy\"]) - conditional_entropy(sleepy_data,\"sleepy\",\"meal\") #I(sleepy, meal)\n",
    "I_ST = get_entropy(sleepy_data[\"sleepy\"]) - conditional_entropy(sleepy_data,\"sleepy\",\"tired\") #I(sleepy, tired)\n",
    "I_SE= get_entropy(sleepy_data[\"sleepy\"]) - conditional_entropy(sleepy_data,\"sleepy\",\"exercise\") #I(sleepy, exercise)\n",
    "\n",
    "print \"\"\"I(sleepy;meal)=\"\"\",I_SM\n",
    "print \"\"\"I(sleepy;tired)=\"\"\",I_ST\n",
    "print \"\"\"I(sleepy;exercise)=\"\"\",I_SE\n",
    "\n",
    "print \"\"\"Since I(sleepy;tired) is the bigger between the Information gained calculated above, the optional question is to ask if a person is tired.\"\"\""
   ]
  },
  {
   "cell_type": "markdown",
   "metadata": {},
   "source": [
    "(b) we segment the data as following\n",
    "\n",
    "\\begin{array}{|c|c|c|}\n",
    "\\hline\n",
    "\\boldsymbol{math} & \\boldsymbol{python} & \\textbf{in words} \\\\\n",
    "\\hline\n",
    "\\hline\n",
    "\\hline\n",
    "D_{1y} & D.qa==1 & qa\\text{ is yes}\\\\\n",
    "\\hline\n",
    "D_{1n} & D.qa==0 & qa\\text{ is no}\\\\\n",
    "\\hline\n",
    "\\end{array}\n",
    "\n",
    "\n",
    "you can now ask another question $ qb $\n",
    "you can ask it regarding $ D_{1y} $ or $ D_{1n} $\n",
    "\n",
    "What is the best question for $ D_{1y} $? What is the best question for $ D_{1n} $?"
   ]
  },
  {
   "cell_type": "code",
   "execution_count": 8,
   "metadata": {
    "collapsed": false
   },
   "outputs": [
    {
     "name": "stdout",
     "output_type": "stream",
     "text": [
      "\n",
      "Check D1y case\n",
      "I(D1y;meal)= 0.0539813784957\n",
      "I(D1y;exercise)= 0.000114206131341\n",
      "the best question for D1y is to ask if the person had meal\n",
      "\n",
      "Check D1n case\n",
      "I(D1n;meal)= 0.00685528675433\n",
      "I(D1n;exercise)= 0.105843344596\n",
      "both the questions related to meal and exercise are equally relevant to the D1n\n"
     ]
    }
   ],
   "source": [
    "\"qa is to ask if a person is tired \"\n",
    "D1y = sleepy_data[sleepy_data[\"tired\"]==1]\n",
    "D1n = sleepy_data[sleepy_data[\"tired\"]==0]\n",
    "\n",
    "print \"\\nCheck D1y case\"\n",
    "I_D1yM = get_entropy(D1y[\"sleepy\"]) - conditional_entropy(D1y,\"sleepy\",\"exercise\") #I(D1y, meal)\n",
    "I_D1yE = get_entropy(D1y[\"sleepy\"]) - conditional_entropy(D1y,\"sleepy\",\"meal\") #I(D1y, exercise)\n",
    "print \"\"\"I(D1y;meal)=\"\"\",I_D1yM\n",
    "print \"\"\"I(D1y;exercise)=\"\"\",I_D1yE\n",
    "print \"the best question for D1y is to ask if the person had meal\"\n",
    "\n",
    "print \"\\nCheck D1n case\"\n",
    "I_D1nM = get_entropy(D1n[\"sleepy\"]) - conditional_entropy(D1n,\"sleepy\",\"meal\") #I(D1n, meal)\n",
    "I_D1nE = get_entropy(D1n[\"sleepy\"]) - conditional_entropy(D1n,\"sleepy\",\"exercise\") #I(D1n, exercise)\n",
    "print \"\"\"I(D1n;meal)=\"\"\",I_D1nM\n",
    "print \"\"\"I(D1n;exercise)=\"\"\",I_D1nE\n",
    "print \"both the questions related to meal and exercise are equally relevant to the D1n\"\n"
   ]
  },
  {
   "cell_type": "markdown",
   "metadata": {},
   "source": [
    "**Bonus**\n",
    "\n",
    "(c) if you can only ask the question $ q2 $ for either $ D_{1y} $ or $ D_{1n} $, which one should you choose?"
   ]
  },
  {
   "cell_type": "code",
   "execution_count": null,
   "metadata": {
    "collapsed": false
   },
   "outputs": [],
   "source": [
    "\"\"\"I would prefer to ask q2 for D1n because the gain of information is higher than the q2 for D1y.\"\"\""
   ]
  }
 ],
 "metadata": {
  "anaconda-cloud": {},
  "kernelspec": {
   "display_name": "Python [default]",
   "language": "python",
   "name": "python2"
  },
  "language_info": {
   "codemirror_mode": {
    "name": "ipython",
    "version": 2
   },
   "file_extension": ".py",
   "mimetype": "text/x-python",
   "name": "python",
   "nbconvert_exporter": "python",
   "pygments_lexer": "ipython2",
   "version": "2.7.12"
  }
 },
 "nbformat": 4,
 "nbformat_minor": 0
}
