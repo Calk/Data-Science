{
 "cells": [
  {
   "cell_type": "markdown",
   "metadata": {},
   "source": [
    "# Question 1"
   ]
  },
  {
   "cell_type": "code",
   "execution_count": 1,
   "metadata": {
    "collapsed": false
   },
   "outputs": [
    {
     "name": "stderr",
     "output_type": "stream",
     "text": [
      "C:\\Users\\itc_admin\\Anaconda2\\lib\\site-packages\\IPython\\core\\interactiveshell.py:2717: DtypeWarning: Columns (7) have mixed types. Specify dtype option on import or set low_memory=False.\n",
      "  interactivity=interactivity, compiler=compiler, result=result)\n"
     ]
    },
    {
     "name": "stdout",
     "output_type": "stream",
     "text": [
      "NAN in Boston1: \n",
      "[] \n",
      "\n"
     ]
    }
   ],
   "source": [
    "import pandas as pd\n",
    "import numpy as np\n",
    "\n",
    "# Load submit_predictions.py\n",
    "import submit_predictions\n",
    "\n",
    "# import 'bank-full_2016.csv' into a DataFrame\n",
    "test = pd.DataFrame.from_csv('fellows-test.csv', index_col=False)\n",
    "train = pd.read_csv('fellows-train.csv', index_col=False)\n",
    "\n",
    "# add the month, the day and the weekofyear\n",
    "train['Date'] = pd.to_datetime(train['Date'])\n",
    "train['SumSales'] = train['Store']\n",
    "train['SumCust'] = train['Store']\n",
    "train['Month'] = train.Date.dt.month\n",
    "train['Day'] = train.Date.dt.day\n",
    "train['WeekOfYear'] = train.Date.dt.weekofyear\n",
    "train = train[train[\"Customers\"] < 7300]\n",
    "\n",
    "for i in range(1,13):\n",
    "    train['Month'+str(i)] = 0\n",
    "    train.ix[train['Month'] == i, 'Month'+str(i)] = 1\n",
    "\n",
    "for i in range(1,8):\n",
    "    train['WeekDay'+str(i)] = 0\n",
    "    train.ix[train['WeekDay'] == i, 'WeekDay'+str(i)] = 1\n",
    "\n",
    "\n",
    "test['Date'] = pd.to_datetime(test['Date'])\n",
    "test['Month'] = test.Date.dt.month\n",
    "test['SumSales'] = test['Store']\n",
    "test['SumCust'] = test['Store']\n",
    "test['Day'] = test.Date.dt.day\n",
    "test['WeekOfYear'] = test.Date.dt.weekofyear\n",
    "\n",
    "for i in range(1,13):\n",
    "    test['Month'+str(i)] = 0\n",
    "    test.ix[test['Month'] == i, 'Month'+str(i)] = 1\n",
    "    \n",
    "for i in range(1,8):\n",
    "    test['WeekDay'+str(i)] = 0\n",
    "    test.ix[test['WeekDay'] == i, 'WeekDay'+str(i)] = 1\n",
    "    \n",
    "# Attributes with missing values\n",
    "print \"NAN in Boston1: \\n%s \\n\" % test.columns[pd.isnull(test).sum() > 0].tolist()"
   ]
  },
  {
   "cell_type": "code",
   "execution_count": 2,
   "metadata": {
    "collapsed": false
   },
   "outputs": [],
   "source": [
    "from scipy import stats\n",
    "dic = {}\n",
    "for i in list(train.Store.unique()):\n",
    "    v = train[train['Store'] == i].sum().Sales\n",
    "    dic[i] = [v]\n",
    "    \n",
    "from scipy import stats\n",
    "dic2 = {}\n",
    "for i in list(train.Store.unique()):\n",
    "    v = train[train['Store'] == i].sum().Customers\n",
    "    dic2[i] = [v]"
   ]
  },
  {
   "cell_type": "code",
   "execution_count": 3,
   "metadata": {
    "collapsed": false
   },
   "outputs": [],
   "source": [
    "train[\"SumSales\"].replace(dic, inplace=True)\n",
    "test[\"SumSales\"].replace(dic, inplace=True)\n",
    "\n",
    "train[\"SumCust\"].replace(dic2, inplace=True)\n",
    "test[\"SumCust\"].replace(dic2, inplace=True)"
   ]
  },
  {
   "cell_type": "code",
   "execution_count": null,
   "metadata": {
    "collapsed": false
   },
   "outputs": [],
   "source": [
    "import sklearn \n",
    "from sklearn.ensemble.forest import RandomForestRegressor\n",
    "\n",
    "# train data\n",
    "# Explanatory variables\n",
    "X_train  = train.drop(['Sales','StateHoliday','Date',\"Customers\",'Month','WeekDay','SchoolHoliday','Store'], 1)\n",
    "# Target variable -> medv\n",
    "Y_train = train['Sales']\n",
    "\n",
    "from sklearn import linear_model\n",
    "\n",
    "# linear regression\n",
    "regr = RandomForestRegressor(n_estimators=50)\n",
    "regr.fit(X_train, Y_train)\n"
   ]
  },
  {
   "cell_type": "code",
   "execution_count": 5,
   "metadata": {
    "collapsed": false
   },
   "outputs": [
    {
     "data": {
      "text/plain": [
       "0.14630709002332762"
      ]
     },
     "execution_count": 5,
     "metadata": {},
     "output_type": "execute_result"
    }
   ],
   "source": [
    "# test data\n",
    "# Explanatory variables\n",
    "X_test  = test.drop(['StateHoliday','Date','Month','WeekDay','SchoolHoliday','Store'], 1)\n",
    "\n",
    "# predict the value of the test set\n",
    "A= list(regr.predict(X_test))\n",
    "\n",
    "#send it\n",
    "submit_predictions.submit(A, 'DATAGAGA')\n",
    " \n"
   ]
  },
  {
   "cell_type": "code",
   "execution_count": null,
   "metadata": {
    "collapsed": true
   },
   "outputs": [],
   "source": []
  }
 ],
 "metadata": {
  "anaconda-cloud": {},
  "kernelspec": {
   "display_name": "Python [default]",
   "language": "python",
   "name": "python2"
  },
  "language_info": {
   "codemirror_mode": {
    "name": "ipython",
    "version": 2
   },
   "file_extension": ".py",
   "mimetype": "text/x-python",
   "name": "python",
   "nbconvert_exporter": "python",
   "pygments_lexer": "ipython2",
   "version": "2.7.12"
  }
 },
 "nbformat": 4,
 "nbformat_minor": 2
}
