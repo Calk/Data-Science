{
 "cells": [
  {
   "cell_type": "markdown",
   "metadata": {},
   "source": [
    "# Question 1"
   ]
  },
  {
   "cell_type": "code",
   "execution_count": 2,
   "metadata": {
    "collapsed": false
   },
   "outputs": [
    {
     "name": "stderr",
     "output_type": "stream",
     "text": [
      "C:\\Users\\itc_admin\\Anaconda2\\lib\\site-packages\\IPython\\core\\interactiveshell.py:2717: DtypeWarning: Columns (7) have mixed types. Specify dtype option on import or set low_memory=False.\n",
      "  interactivity=interactivity, compiler=compiler, result=result)\n"
     ]
    },
    {
     "name": "stdout",
     "output_type": "stream",
     "text": [
      "NAN in Boston1: \n",
      "[] \n",
      "\n"
     ]
    }
   ],
   "source": [
    "import pandas as pd\n",
    "import numpy as np\n",
    "\n",
    "# Load submit_predictions.py\n",
    "import submit_predictions\n",
    "\n",
    "# import 'bank-full_2016.csv' into a DataFrame\n",
    "test = pd.DataFrame.from_csv('fellows-test.csv', index_col=False)\n",
    "train = pd.read_csv('fellows-train.csv', index_col=False)\n",
    "\n",
    "# add the month, the day and the weekofyear\n",
    "train['Date'] = pd.to_datetime(train['Date'])\n",
    "train['Month'] = train.Date.dt.month\n",
    "train['Day'] = train.Date.dt.day\n",
    "train['WeekOfYear'] = train.Date.dt.weekofyear\n",
    "train = train[train[\"Customers\"] < 7300]\n",
    "month2str = {1:'Jan', 2:'Feb', 3:'Mar', 4:'Apr', 5:'May', 6:'Jun', \\\n",
    "             7:'Jul', 8:'Aug', 9:'Sept', 10:'Oct', 11:'Nov', 12:'Dec'}\n",
    "train['monthStr'] = train.Month.map(month2str)\n",
    "\n",
    "\n",
    "test['Date'] = pd.to_datetime(test['Date'])\n",
    "test['Month'] = test.Date.dt.month\n",
    "test['Day'] = test.Date.dt.day\n",
    "test['WeekOfYear'] = test.Date.dt.weekofyear\n",
    "test['monthStr'] = test.Month.map(month2str)\n",
    "\n",
    "# Attributes with missing values\n",
    "print \"NAN in Boston1: \\n%s \\n\" % test.columns[pd.isnull(test).sum() > 0].tolist()"
   ]
  },
  {
   "cell_type": "code",
   "execution_count": 3,
   "metadata": {
    "collapsed": false
   },
   "outputs": [
    {
     "name": "stdout",
     "output_type": "stream",
     "text": [
      "   Store  WeekDay       Date  Open  Promo  StateHoliday  SchoolHoliday  Month  \\\n",
      "0      1        5 2015-07-31     1      1             0              1      7   \n",
      "1      2        5 2015-07-31     1      1             0              1      7   \n",
      "2      3        5 2015-07-31     1      1             0              1      7   \n",
      "3      4        5 2015-07-31     1      1             0              1      7   \n",
      "4      5        5 2015-07-31     1      1             0              1      7   \n",
      "\n",
      "   Day  WeekOfYear monthStr  \n",
      "0   31          31      Jul  \n",
      "1   31          31      Jul  \n",
      "2   31          31      Jul  \n",
      "3   31          31      Jul  \n",
      "4   31          31      Jul  \n"
     ]
    }
   ],
   "source": [
    "print test.head()"
   ]
  },
  {
   "cell_type": "code",
   "execution_count": 4,
   "metadata": {
    "collapsed": false
   },
   "outputs": [
    {
     "data": {
      "text/plain": [
       "RandomForestRegressor(bootstrap=True, criterion='mse', max_depth=None,\n",
       "           max_features='auto', max_leaf_nodes=None, min_samples_leaf=1,\n",
       "           min_samples_split=2, min_weight_fraction_leaf=0.0,\n",
       "           n_estimators=10, n_jobs=1, oob_score=False, random_state=None,\n",
       "           verbose=0, warm_start=False)"
      ]
     },
     "execution_count": 4,
     "metadata": {},
     "output_type": "execute_result"
    }
   ],
   "source": [
    "import sklearn \n",
    "from sklearn.ensemble.forest import RandomForestRegressor\n",
    "\n",
    "# train data\n",
    "# Explanatory variables\n",
    "X_train  = train.drop(['Sales','StateHoliday','Date',\"Customers\",'monthStr'], 1)\n",
    "# Target variable -> medv\n",
    "Y_train = train['Sales']\n",
    "\n",
    "from sklearn import linear_model\n",
    "\n",
    "# linear regression\n",
    "regr = RandomForestRegressor(n_estimators=10, max_depth=None, min_samples_split=4)\n",
    "regr.fit(X_train, Y_train)\n"
   ]
  },
  {
   "cell_type": "code",
   "execution_count": 5,
   "metadata": {
    "collapsed": false
   },
   "outputs": [
    {
     "data": {
      "text/plain": [
       "0.20252413271218528"
      ]
     },
     "execution_count": 5,
     "metadata": {},
     "output_type": "execute_result"
    }
   ],
   "source": [
    "import pandas as pd\n",
    "import xgboost as xgb\n",
    "from sklearn.preprocessing import LabelEncoder\n",
    "import numpy as np\n",
    "\n",
    "# test data\n",
    "# Explanatory variables\n",
    "X_test  = test.drop(['StateHoliday','Date','monthStr'], 1)\n",
    "\n",
    "# predict the value of the test set\n",
    "A= list(regr.predict(X_test))\n",
    "\n",
    "#send it\n",
    "submit_predictions.submit(A, 'DATAGAGA')\n",
    "\n"
   ]
  },
  {
   "cell_type": "code",
   "execution_count": null,
   "metadata": {
    "collapsed": true
   },
   "outputs": [],
   "source": []
  }
 ],
 "metadata": {
  "anaconda-cloud": {},
  "kernelspec": {
   "display_name": "Python 2",
   "language": "python",
   "name": "python2"
  },
  "language_info": {
   "codemirror_mode": {
    "name": "ipython",
    "version": 2
   },
   "file_extension": ".py",
   "mimetype": "text/x-python",
   "name": "python",
   "nbconvert_exporter": "python",
   "pygments_lexer": "ipython2",
   "version": "2.7.12"
  }
 },
 "nbformat": 4,
 "nbformat_minor": 2
}
