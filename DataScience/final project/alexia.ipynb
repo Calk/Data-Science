{
 "cells": [
  {
   "cell_type": "markdown",
   "metadata": {},
   "source": [
    "# Question 1"
   ]
  },
  {
   "cell_type": "code",
   "execution_count": 2,
   "metadata": {
    "collapsed": false
   },
   "outputs": [
    {
     "name": "stderr",
     "output_type": "stream",
     "text": [
      "C:\\Users\\itc_admin\\Anaconda2\\lib\\site-packages\\IPython\\core\\interactiveshell.py:2717: DtypeWarning: Columns (7) have mixed types. Specify dtype option on import or set low_memory=False.\n",
      "  interactivity=interactivity, compiler=compiler, result=result)\n"
     ]
    },
    {
     "name": "stdout",
     "output_type": "stream",
     "text": [
      "NAN in Boston1: \n",
      "[] \n",
      "\n"
     ]
    }
   ],
   "source": [
    "import pandas as pd\n",
    "import numpy as np\n",
    "\n",
    "# Load submit_predictions.py\n",
    "import submit_predictions\n",
    "\n",
    "# import 'bank-full_2016.csv' into a DataFrame\n",
    "test = pd.DataFrame.from_csv('fellows-test.csv', index_col=False)\n",
    "train = pd.read_csv('fellows-train.csv', index_col=False)\n",
    "\n",
    "# add the month, the day and the weekofyear\n",
    "train['Date'] = pd.to_datetime(train['Date'])\n",
    "train['Month'] = train.Date.dt.month\n",
    "train['Day'] = train.Date.dt.day\n",
    "train['WeekOfYear'] = train.Date.dt.weekofyear\n",
    "train = train[train[\"Customers\"] < 7300]\n",
    "month2str = {1:'Jan', 2:'Feb', 3:'Mar', 4:'Apr', 5:'May', 6:'Jun', \\\n",
    "             7:'Jul', 8:'Aug', 9:'Sept', 10:'Oct', 11:'Nov', 12:'Dec'}\n",
    "train['monthStr'] = train.Month.map(month2str)\n",
    "\n",
    "\n",
    "test['Date'] = pd.to_datetime(test['Date'])\n",
    "test['Month'] = test.Date.dt.month\n",
    "test['Day'] = test.Date.dt.day\n",
    "test['WeekOfYear'] = test.Date.dt.weekofyear\n",
    "test['monthStr'] = test.Month.map(month2str)\n",
    "\n",
    "# Attributes with missing values\n",
    "print \"NAN in Boston1: \\n%s \\n\" % test.columns[pd.isnull(test).sum() > 0].tolist()"
   ]
  },
  {
   "cell_type": "code",
   "execution_count": 3,
   "metadata": {
    "collapsed": false
   },
   "outputs": [
    {
     "name": "stdout",
     "output_type": "stream",
     "text": [
      "   Store  WeekDay       Date  Open  Promo  StateHoliday  SchoolHoliday  Month  \\\n",
      "0      1        5 2015-07-31     1      1             0              1      7   \n",
      "1      2        5 2015-07-31     1      1             0              1      7   \n",
      "2      3        5 2015-07-31     1      1             0              1      7   \n",
      "3      4        5 2015-07-31     1      1             0              1      7   \n",
      "4      5        5 2015-07-31     1      1             0              1      7   \n",
      "\n",
      "   Day  WeekOfYear monthStr  \n",
      "0   31          31      Jul  \n",
      "1   31          31      Jul  \n",
      "2   31          31      Jul  \n",
      "3   31          31      Jul  \n",
      "4   31          31      Jul  \n"
     ]
    }
   ],
   "source": [
    "print test.head()"
   ]
  },
  {
   "cell_type": "code",
   "execution_count": 4,
   "metadata": {
    "collapsed": false
   },
   "outputs": [
    {
     "data": {
      "text/plain": [
       "RandomForestRegressor(bootstrap=True, criterion='mse', max_depth=None,\n",
       "           max_features='auto', max_leaf_nodes=None, min_samples_leaf=1,\n",
       "           min_samples_split=2, min_weight_fraction_leaf=0.0,\n",
       "           n_estimators=10, n_jobs=1, oob_score=False, random_state=None,\n",
       "           verbose=0, warm_start=False)"
      ]
     },
     "execution_count": 4,
     "metadata": {},
     "output_type": "execute_result"
    }
   ],
   "source": [
    "import sklearn \n",
    "from sklearn.ensemble.forest import RandomForestRegressor\n",
    "\n",
    "# train data\n",
    "# Explanatory variables\n",
    "X_train  = train.drop(['Sales','StateHoliday','Date',\"Customers\",'monthStr'], 1)\n",
    "# Target variable -> medv\n",
    "Y_train = train['Sales']\n",
    "\n",
    "from sklearn import linear_model\n",
    "\n",
    "# linear regression\n",
    "regr = RandomForestRegressor()\n",
    "regr.fit(X_train, Y_train)\n"
   ]
  },
  {
   "cell_type": "code",
   "execution_count": 7,
   "metadata": {
    "collapsed": false
   },
   "outputs": [
    {
     "ename": "ImportError",
     "evalue": "No module named xgboost",
     "output_type": "error",
     "traceback": [
      "\u001b[0;31m---------------------------------------------------------------------------\u001b[0m",
      "\u001b[0;31mImportError\u001b[0m                               Traceback (most recent call last)",
      "\u001b[0;32m<ipython-input-7-98e3351997d1>\u001b[0m in \u001b[0;36m<module>\u001b[0;34m()\u001b[0m\n\u001b[1;32m      1\u001b[0m \u001b[1;31m# Xgboost model\u001b[0m\u001b[1;33m\u001b[0m\u001b[1;33m\u001b[0m\u001b[0m\n\u001b[0;32m----> 2\u001b[0;31m \u001b[1;32mimport\u001b[0m \u001b[0mxgboost\u001b[0m \u001b[1;32mas\u001b[0m \u001b[0mxgb\u001b[0m\u001b[1;33m\u001b[0m\u001b[0m\n\u001b[0m\u001b[1;32m      3\u001b[0m \u001b[1;32mfrom\u001b[0m \u001b[0msklearn\u001b[0m\u001b[1;33m.\u001b[0m\u001b[0mpreprocessing\u001b[0m \u001b[1;32mimport\u001b[0m \u001b[0mLabelEncoder\u001b[0m\u001b[1;33m\u001b[0m\u001b[0m\n",
      "\u001b[0;31mImportError\u001b[0m: No module named xgboost"
     ]
    }
   ],
   "source": [
    "# Load the data\n",
    "train_df = pd.read_csv('../input/train.csv', header=0)\n",
    "test_df = pd.read_csv('../input/test.csv', header=0)\n",
    "\n",
    "# We'll impute missing values using the median for numeric columns and the most\n",
    "# common value for string columns.\n",
    "# This is based on some nice code by 'sveitser' at http://stackoverflow.com/a/25562948\n",
    "from sklearn.base import TransformerMixin\n",
    "class DataFrameImputer(TransformerMixin):\n",
    "    def fit(self, X, y=None):\n",
    "        self.fill = pd.Series([X[c].value_counts().index[0]\n",
    "            if X[c].dtype == np.dtype('O') else X[c].median() for c in X],\n",
    "            index=X.columns)\n",
    "        return self\n",
    "    def transform(self, X, y=None):\n",
    "        return X.fillna(self.fill)\n",
    "\n",
    "feature_columns_to_use = ['Pclass','Sex','Age','Fare','Parch']\n",
    "nonnumeric_columns = ['Sex']\n",
    "\n",
    "# Join the features from train and test together before imputing missing values,\n",
    "# in case their distribution is slightly different\n",
    "big_X = train_df[feature_columns_to_use].append(test_df[feature_columns_to_use])\n",
    "big_X_imputed = DataFrameImputer().fit_transform(big_X)\n",
    "\n",
    "# XGBoost doesn't (yet) handle categorical features automatically, so we need to change\n",
    "# them to columns of integer values.\n",
    "# See http://scikit-learn.org/stable/modules/preprocessing.html#preprocessing for more\n",
    "# details and options\n",
    "le = LabelEncoder()\n",
    "for feature in nonnumeric_columns:\n",
    "    big_X_imputed[feature] = le.fit_transform(big_X_imputed[feature])\n",
    "\n",
    "# Prepare the inputs for the model\n",
    "train_X = big_X_imputed[0:train_df.shape[0]].as_matrix()\n",
    "test_X = big_X_imputed[train_df.shape[0]::].as_matrix()\n",
    "train_y = train_df['Survived']\n",
    "\n",
    "# You can experiment with many other options here, using the same .fit() and .predict()\n",
    "# methods; see http://scikit-learn.org\n",
    "# This example uses the current build of XGBoost, from https://github.com/dmlc/xgboost\n",
    "gbm = xgb.XGBClassifier(max_depth=3, n_estimators=300, learning_rate=0.05).fit(train_X, train_y)\n",
    "predictions = gbm.predict(test_X)\n",
    "\n",
    "# Kaggle needs the submission to have a certain format;\n",
    "# see https://www.kaggle.com/c/titanic-gettingStarted/download/gendermodel.csv\n",
    "# for an example of what it's supposed to look like.\n",
    "submission = pd.DataFrame({ 'PassengerId': test_df['PassengerId'],\n",
    "                            'Survived': predictions })\n",
    "submission.to_csv(\"submission.csv\", index=False)"
   ]
  },
  {
   "cell_type": "code",
   "execution_count": 5,
   "metadata": {
    "collapsed": false
   },
   "outputs": [
    {
     "data": {
      "text/plain": [
       "0.20252413271218528"
      ]
     },
     "execution_count": 5,
     "metadata": {},
     "output_type": "execute_result"
    }
   ],
   "source": [
    "# test data\n",
    "# Explanatory variables\n",
    "X_test  = test.drop(['StateHoliday','Date','monthStr'], 1)\n",
    "\n",
    "# predict the value of the test set\n",
    "A= list(regr.predict(X_test))\n",
    "\n",
    "#send it\n",
    "submit_predictions.submit(A, 'DATAGAGA')\n",
    "\n"
   ]
  },
  {
   "cell_type": "code",
   "execution_count": null,
   "metadata": {
    "collapsed": true
   },
   "outputs": [],
   "source": []
  }
 ],
 "metadata": {
  "anaconda-cloud": {},
  "kernelspec": {
   "display_name": "Python [default]",
   "language": "python",
   "name": "python2"
  },
  "language_info": {
   "codemirror_mode": {
    "name": "ipython",
    "version": 2
   },
   "file_extension": ".py",
   "mimetype": "text/x-python",
   "name": "python",
   "nbconvert_exporter": "python",
   "pygments_lexer": "ipython2",
   "version": "2.7.12"
  }
 },
 "nbformat": 4,
 "nbformat_minor": 2
}
